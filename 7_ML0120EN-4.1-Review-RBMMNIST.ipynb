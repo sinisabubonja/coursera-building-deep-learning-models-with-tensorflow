{
 "cells": [
  {
   "cell_type": "markdown",
   "metadata": {},
   "source": [
    "<a href=\"https://www.skills.network/?utm_medium=Exinfluencer&utm_source=Exinfluencer&utm_content=000026UJ&utm_term=10006555&utm_id=NA-SkillsNetwork-Channel-SkillsNetworkCoursesIBMDeveloperSkillsNetworkDL0120ENSkillsNetwork20629446-2022-01-01\"><img src=\"https://cf-courses-data.s3.us.cloud-object-storage.appdomain.cloud/IBM-DL0120ENedX/labs/Template%20for%20Instructional%20Hands-on%20Labs/images/IDSNlogo.png\" width=\"400px\" align=\"center\"></a>\n",
    "\n",
    "<h1 align=\"center\"><font size=\"5\">RESTRICTED BOLTZMANN MACHINES</font></h1>\n"
   ]
  },
  {
   "cell_type": "markdown",
   "metadata": {},
   "source": [
    "Estimated time needed: **25** minutes\n"
   ]
  },
  {
   "cell_type": "markdown",
   "metadata": {},
   "source": [
    "<h3>Introduction</h3>\n",
    "<b>Restricted Boltzmann Machine (RBM):</b>  RBMs are shallow neural nets that learn to reconstruct data by themselves in an unsupervised fashion.  \n",
    "\n",
    "<h4>Why are RBMs important?</h4>\n",
    "An RBM are a basic form of autoencoder.  It can automatically extract <b>meaningful</b> features from a given input.\n",
    "\n",
    "<h4>How does it work?</h4>\n",
    "RBM is a 2 layer neural network. Simply, RBM takes the inputs and translates those into a set of binary values that represents them in the hidden layer. Then, these numbers can be translated back to reconstruct the inputs. Through several forward and backward passes, the RBM will be trained, and a trained RBM can reveal which features are the most important ones when detecting patterns.   \n",
    "\n",
    "<h4>What are the applications of an RBM?</h4>\n",
    "RBM is useful for <a href='http://www.cs.utoronto.ca/~hinton/absps/netflixICML.pdf?utm_medium=Exinfluencer&utm_source=Exinfluencer&utm_content=000026UJ&utm_term=10006555&utm_id=NA-SkillsNetwork-Channel-SkillsNetworkCoursesIBMDeveloperSkillsNetworkDL0120ENSkillsNetwork20629446-2022-01-01'>  Collaborative Filtering</a>, dimensionality reduction, classification, regression, feature learning, topic modeling and even <b>Deep Belief Networks</b>.\n",
    "\n",
    "<h4>Is RBM a generative or Discriminative model?</h4>\n",
    "RBM is a generative model. Let me explain it by first, see what is different between discriminative and generative models: \n",
    "\n",
    "<b>Discriminative:</b> Consider a classification problem where we want to learn to distinguish between Sedan cars (y = 1) and SUV cars (y = 0), based on some features of cars. Given a training set, an algorithm like logistic regression tries to find a straight line, or <i>decision boundary</i>, that separates the suv and sedan.\n",
    "\n",
    "<b>Generative:</b> looking at cars, we can build a model of what Sedan cars look like. Then, looking at SUVs, we can build a separate model of what SUV cars look like. Finally, to classify a new car, we can match the new car against the Sedan model, and match it against the SUV model, to see whether the new car looks more like the SUV or Sedan.\n",
    "\n",
    "Generative Models specify a probability distribution over a dataset of input vectors. We can carry out both supervised and unsupervised tasks with generative models:\n",
    "\n",
    "<ul>\n",
    "    <li>In an unsupervised task, we try to form a model for $P(x)$, where $P$ is the probability given $x$ as an input vector.</li>\n",
    "    <li>In the supervised task, we first form a model for $P(x|y)$, where $P$ is the probability of $x$ given $y$(the label for $x$). For example, if $y = 0$ indicates that a car is an SUV, and $y = 1$ indicates that a car is a sedan, then $p(x|y = 0)$ models the distribution of SUV features, and $p(x|y = 1)$ models the distribution of sedan features. If we manage to find $P(x|y)$ and $P(y)$, then we can use <b>Bayes rule</b> to estimate $P(y|x)$, because:   \n",
    "        $$p(y|x) = \\frac{p(x|y)p(y)}{p(x)}$$</li>\n",
    "</ul>\n",
    "Now the question is, can we build a generative model, and then use it to create synthetic data by directly sampling from the modeled probability distributions? Lets see. \n"
   ]
  },
  {
   "cell_type": "markdown",
   "metadata": {},
   "source": [
    "<h2>Table of Contents</h2>\n",
    "<ol>\n",
    "    <li><a href=\"https://#ref1\">Initialization</a></li>\n",
    "    <li><a href=\"https://#ref2\">RBM layers</a></li>\n",
    "    <li><a href=\"https://#ref3\">What RBM can do after training?</a></li>\n",
    "    <li><a href=\"https://#ref4\">How to train the model?</a></li>\n",
    "    <li><a href=\"https://#ref5\">Learned features</a></li>\n",
    "</ol>\n",
    "<p></p>\n",
    "</div>\n",
    "<br>\n",
    "\n",
    "<hr>\n"
   ]
  },
  {
   "cell_type": "markdown",
   "metadata": {},
   "source": [
    "<a id=\"ref1\"></a>\n",
    "\n",
    "<h3>Initialization</h3>\n",
    "\n",
    "First, we have to load the utility file which contains different utility functions that are not connected\n",
    "in any way to the networks presented in the tutorials, but rather help in\n",
    "processing the outputs into a more understandable way.\n"
   ]
  },
  {
   "cell_type": "code",
   "execution_count": 1,
   "metadata": {},
   "outputs": [],
   "source": [
    "import urllib.request\n",
    "with urllib.request.urlopen(\"https://cf-courses-data.s3.us.cloud-object-storage.appdomain.cloud/IBMDeveloperSkillsNetwork-DL0120EN-SkillsNetwork/labs/Week4/data/utils.py\") as url:\n",
    "    response = url.read()\n",
    "target = open('utils.py', 'w')\n",
    "target.write(response.decode('utf-8'))\n",
    "target.close()"
   ]
  },
  {
   "cell_type": "markdown",
   "metadata": {},
   "source": [
    "<h2>Installing TensorFlow </h2>\n",
    "\n",
    "We will installing TensorFlow version 2.2.0 and its required prerequistes.  Also installing pillow\\...\n"
   ]
  },
  {
   "cell_type": "code",
   "execution_count": 2,
   "metadata": {},
   "outputs": [
    {
     "name": "stdout",
     "output_type": "stream",
     "text": [
      "Requirement already satisfied: pillow in ./lib/python3.8/site-packages (9.2.0)\r\n"
     ]
    }
   ],
   "source": [
    "#!pip install grpcio==1.24.3\n",
    "#!pip install tensorflow==2.2.0\n",
    "!pip3 install pillow\n",
    "#==8.1.0"
   ]
  },
  {
   "cell_type": "markdown",
   "metadata": {},
   "source": [
    "<b>Notice:</b> This notebook has been created with TensorFlow version 2.2, and might not work with other versions. Therefore we check:\n"
   ]
  },
  {
   "cell_type": "code",
   "execution_count": 3,
   "metadata": {},
   "outputs": [
    {
     "data": {
      "text/markdown": [
       "# <span style=\"color:red\"><<<<<!!!!! ERROR !!!! please upgrade to TensorFlow 2.2.0, or restart your Kernel (Kernel->Restart & Clear Output)>>>>></span>"
      ],
      "text/plain": [
       "<IPython.core.display.Markdown object>"
      ]
     },
     "metadata": {},
     "output_type": "display_data"
    }
   ],
   "source": [
    "import tensorflow as tf\n",
    "from IPython.display import Markdown, display\n",
    "\n",
    "def printmd(string):\n",
    "    display(Markdown('# <span style=\"color:red\">'+string+'</span>'))\n",
    "\n",
    "\n",
    "if not tf.__version__ == '2.2.0':\n",
    "    printmd('<<<<<!!!!! ERROR !!!! please upgrade to TensorFlow 2.2.0, or restart your Kernel (Kernel->Restart & Clear Output)>>>>>')"
   ]
  },
  {
   "cell_type": "markdown",
   "metadata": {},
   "source": [
    "Now, we load in all the packages that we use to create the net including the TensorFlow package:\n"
   ]
  },
  {
   "cell_type": "code",
   "execution_count": 4,
   "metadata": {},
   "outputs": [],
   "source": [
    "import tensorflow as tf\n",
    "import numpy as np\n",
    "\n",
    "from PIL import Image\n",
    "from utils import tile_raster_images\n",
    "import matplotlib.pyplot as plt\n",
    "%matplotlib inline"
   ]
  },
  {
   "cell_type": "markdown",
   "metadata": {},
   "source": [
    "<hr>\n"
   ]
  },
  {
   "cell_type": "markdown",
   "metadata": {},
   "source": [
    "<a id=\"ref2\"></a>\n",
    "\n",
    "<h3>RBM layers</h3>\n",
    "\n",
    "An RBM has two layers. The first layer of the RBM is called the <b>visible</b> (or input layer). Imagine that our toy example, has only vectors with 7 values, so the visible layer must have $V=7$ input nodes.\n",
    "The second layer is the <b>hidden</b> layer, which has $H$ neurons in our case. Each hidden node takes on values of either 0 or 1 (i.e., $h_i = 1$ or $h_i$ = 0), with a probability that is a logistic function of the inputs it receives from the other $V$ visible units, called for example, $p(h_i = 1)$. For our toy sample, we'll use 2 nodes in the hidden layer, so $H = 2$.\n",
    "\n",
    "<center><img src=\"https://ibm.box.com/shared/static/eu26opvcefgls6vnwuo29uwp0nudmokh.png\" alt=\"RBM Model\" style=\"width: 400px;\"></center>\n"
   ]
  },
  {
   "cell_type": "markdown",
   "metadata": {},
   "source": [
    "Each node in the first layer also has a <b>bias</b>. We will denote the bias as $v\\_{bias}$, and this single value is shared among the $V$ visible units.\n",
    "\n",
    "The <b>bias</b> of the second is defined similarly as $h\\_{bias}$, and this single value among the $H$ hidden units.\n"
   ]
  },
  {
   "cell_type": "code",
   "execution_count": 5,
   "metadata": {},
   "outputs": [
    {
     "name": "stderr",
     "output_type": "stream",
     "text": [
      "2022-09-03 00:26:18.090148: I tensorflow/stream_executor/cuda/cuda_gpu_executor.cc:975] successful NUMA node read from SysFS had negative value (-1), but there must be at least one NUMA node, so returning NUMA node zero\n",
      "2022-09-03 00:26:18.291345: I tensorflow/stream_executor/cuda/cuda_gpu_executor.cc:975] successful NUMA node read from SysFS had negative value (-1), but there must be at least one NUMA node, so returning NUMA node zero\n",
      "2022-09-03 00:26:18.291620: I tensorflow/stream_executor/cuda/cuda_gpu_executor.cc:975] successful NUMA node read from SysFS had negative value (-1), but there must be at least one NUMA node, so returning NUMA node zero\n",
      "2022-09-03 00:26:18.293668: I tensorflow/stream_executor/cuda/cuda_gpu_executor.cc:975] successful NUMA node read from SysFS had negative value (-1), but there must be at least one NUMA node, so returning NUMA node zero\n",
      "2022-09-03 00:26:18.294073: I tensorflow/stream_executor/cuda/cuda_gpu_executor.cc:975] successful NUMA node read from SysFS had negative value (-1), but there must be at least one NUMA node, so returning NUMA node zero\n",
      "2022-09-03 00:26:18.294396: I tensorflow/stream_executor/cuda/cuda_gpu_executor.cc:975] successful NUMA node read from SysFS had negative value (-1), but there must be at least one NUMA node, so returning NUMA node zero\n",
      "2022-09-03 00:26:18.988253: I tensorflow/stream_executor/cuda/cuda_gpu_executor.cc:975] successful NUMA node read from SysFS had negative value (-1), but there must be at least one NUMA node, so returning NUMA node zero\n",
      "2022-09-03 00:26:18.988495: I tensorflow/stream_executor/cuda/cuda_gpu_executor.cc:975] successful NUMA node read from SysFS had negative value (-1), but there must be at least one NUMA node, so returning NUMA node zero\n",
      "2022-09-03 00:26:18.988719: I tensorflow/stream_executor/cuda/cuda_gpu_executor.cc:975] successful NUMA node read from SysFS had negative value (-1), but there must be at least one NUMA node, so returning NUMA node zero\n",
      "2022-09-03 00:26:18.988881: I tensorflow/core/common_runtime/gpu/gpu_device.cc:1532] Created device /job:localhost/replica:0/task:0/device:GPU:0 with 2239 MB memory:  -> device: 0, name: NVIDIA GeForce GTX 1050 Ti, pci bus id: 0000:01:00.0, compute capability: 6.1\n"
     ]
    }
   ],
   "source": [
    "v_bias = tf.Variable(tf.zeros([7]), tf.float32)\n",
    "h_bias = tf.Variable(tf.zeros([2]), tf.float32)"
   ]
  },
  {
   "cell_type": "markdown",
   "metadata": {},
   "source": [
    "We have to define weights among the input layer and hidden layer nodes. In the weight matrix, the number of rows are equal to the input nodes, and the number of columns are equal to the output nodes. We define a tensor $\\mathbf{W}$ of shape = (7,2), where the number of visible neurons = 7, and the number of hidden neurons = 2.\n"
   ]
  },
  {
   "cell_type": "code",
   "execution_count": 6,
   "metadata": {},
   "outputs": [],
   "source": [
    "W = tf.constant(np.random.normal(loc=0.0, scale=1.0, size=(7, 2)).astype(np.float32))"
   ]
  },
  {
   "cell_type": "markdown",
   "metadata": {},
   "source": [
    "<hr>\n"
   ]
  },
  {
   "cell_type": "markdown",
   "metadata": {},
   "source": [
    "<a id=\"ref3\"></a>\n",
    "\n",
    "<h3>What RBM can do after training?</h3>\n",
    "Think of RBM as a model that has been trained based on images of a dataset of many SUV and sedan cars. Also, imagine that the RBM network has only two hidden nodes, where one node encodes the weight and, and the other encodes the size.  \n",
    "In a sense, the different configurations represent different cars, where one is an SUV and the other is Sedan.  In a training process, through many forward and backward passes, the RBM adjust its weights to send a stronger signal to either the SUV node (0, 1) or the sedan node (1, 0) in the hidden layer, given the pixels of images. Now, given an SUV in hidden layer, which distribution of pixels should we expect? RBM can give you 2 things. First, it encodes your images in hidden layer. Second, it gives you the probability of observing a case, given some hidden values.\n",
    "\n",
    "<h3>The Inference Process</h3>\n",
    "\n",
    "RBM has two phases:\n",
    "\n",
    "<ul>\n",
    "    <li>Forward Pass</li>  \n",
    "    <li>Backward Pass or Reconstruction</li>\n",
    "</ul>\n",
    "\n",
    "<b>Phase 1) Forward pass:</b>\n",
    "\n",
    "Input one training sample (one image) $\\mathbf{x}$ through all visible nodes, and pass it to all hidden nodes. Processing happens in each node in the hidden layer. This computation begins by making stochastic decisions about whether to transmit that input or not (i.e. to determine the state of each hidden layer).  First, the probability vector is computed using the input feature vector $\\mathbf{x}$, the weight matrix $\\mathbf{W}$, and the bias term $h\\_{bias}$, as\n",
    "\n",
    "$$p({h_j}|\\mathbf x)= \\sigma( \\sum\\_{i=1}^V W\\_{ij} x_i + h\\_{bias} )$$,\n",
    "\n",
    "where $\\sigma(z) = (1+e^{-z})^{-1}$ is the logistic function.\n",
    "\n",
    "So, what does $p({h_j})$ represent? It is the <b>probability distribution</b> of the hidden units. That is, RBM uses inputs $x_i$ to make predictions about hidden node activations. For example, imagine that the hidden node activation values are \\[0.51 0.84] for the first training item. It tells you that the conditional probability for each hidden neuron for Phase 1 is:\n",
    "\n",
    "$$p(h\\_{1} = 1|\\mathbf{v}) = 0.51$$\n",
    "$$p(h\\_{2} = 1|\\mathbf{v}) = 0.84$$\n",
    "\n",
    "As a result, for each row in the training set, vector of probabilities is generated.  In TensorFlow, this is referred to as a `tensor` with a shape of (1,2).\n",
    "\n",
    "We then turn unit $j$ with probability $p(h\\_{j}|\\mathbf{v})$, and turn it off with probability $1 - p(h\\_{j}|\\mathbf{v})$ by generating a uniform random number vector $\\mathbf{\\xi}$, and comparing it to the activation probability as\n",
    "\n",
    "<center>If $\\xi_j>p(h_{j}|\\mathbf{v})$, then $h_j=1$, else $h_j=0$.</center>\n",
    "\n",
    "Therefore, the conditional probability of a configuration of $\\mathbf{h}$ given $\\mathbf{v}$ (for a training sample) is:\n",
    "\n",
    "$$p(\\mathbf{h} \\mid \\mathbf{v}) = \\prod\\_{j=1}^H p(h_j \\mid \\mathbf{v})$$\n",
    "\n",
    "where $H$ is the number of hidden units.\n"
   ]
  },
  {
   "cell_type": "markdown",
   "metadata": {},
   "source": [
    "Before we go further, let's look at a toy example for one case out of all input. Assume that we have a trained RBM, and a very simple input vector, such as \\[1.0, 0.0, 0.0, 1.0, 0.0, 0.0, 0.0].\\\n",
    "Let's see what the output of forward pass would look like:\n"
   ]
  },
  {
   "cell_type": "code",
   "execution_count": 7,
   "metadata": {},
   "outputs": [
    {
     "name": "stdout",
     "output_type": "stream",
     "text": [
      "Input:  tf.Tensor([[1. 0. 0. 1. 0. 0. 0.]], shape=(1, 7), dtype=float32)\n",
      "hb:  tf.Tensor([0.1 0.1], shape=(2,), dtype=float32)\n",
      "w:  tf.Tensor(\n",
      "[[ 0.9694956   0.8856055 ]\n",
      " [-0.9235461  -2.354873  ]\n",
      " [ 1.6217252  -0.26005802]\n",
      " [ 1.37956     1.1817688 ]\n",
      " [-1.1541005   0.00888014]\n",
      " [-0.38162583 -1.1843477 ]\n",
      " [ 0.31850973 -0.9849606 ]], shape=(7, 2), dtype=float32)\n",
      "p(h|v):  tf.Tensor([[0.92049235 0.89728117]], shape=(1, 2), dtype=float32)\n",
      "h0 states: tf.Tensor([[1. 1.]], shape=(1, 2), dtype=float32)\n"
     ]
    }
   ],
   "source": [
    "X = tf.constant([[1.0, 0.0, 0.0, 1.0, 0.0, 0.0, 0.0]], tf.float32)\n",
    "\n",
    "v_state = X\n",
    "print (\"Input: \", v_state)\n",
    "\n",
    "h_bias = tf.constant([0.1, 0.1])\n",
    "print (\"hb: \", h_bias)\n",
    "print (\"w: \", W)\n",
    "\n",
    "# Calculate the probabilities of turning the hidden units on:\n",
    "h_prob = tf.nn.sigmoid(tf.matmul(v_state, W) + h_bias)  #probabilities of the hidden units\n",
    "print (\"p(h|v): \", h_prob)\n",
    "\n",
    "# Draw samples from the distribution:\n",
    "h_state = tf.nn.relu(tf.sign(h_prob - tf.random.uniform(tf.shape(h_prob)))) #states\n",
    "print (\"h0 states:\", h_state)"
   ]
  },
  {
   "cell_type": "markdown",
   "metadata": {},
   "source": [
    "<b>Phase 2) Backward Pass (Reconstruction):</b>\n",
    "The RBM reconstructs data by making several forward and backward passes between the visible and hidden layers.\n",
    "\n",
    "So, in the second phase (i.e. reconstruction phase), the samples from the hidden layer (i.e. $\\mathbf h$) becomes the input in the backward pass. The same weight matrix and visible layer biases are used to passed to the sigmoid function. The reproduced output is a reconstruction which is an approximation of the original input.\n"
   ]
  },
  {
   "cell_type": "code",
   "execution_count": 8,
   "metadata": {},
   "outputs": [
    {
     "name": "stdout",
     "output_type": "stream",
     "text": [
      "b:  tf.Tensor([0.1 0.2 0.1 0.1 0.1 0.2 0.1], shape=(7,), dtype=float32)\n",
      "p(vi∣h):  tf.Tensor(\n",
      "[[0.8760018  0.04400628 0.81178755 0.9347058  0.260144   0.20327118\n",
      "  0.36205617]], shape=(1, 7), dtype=float32)\n",
      "v probability states:  tf.Tensor([[1. 1. 1. 1. 0. 0. 0.]], shape=(1, 7), dtype=float32)\n"
     ]
    }
   ],
   "source": [
    "vb = tf.constant([0.1, 0.2, 0.1, 0.1, 0.1, 0.2, 0.1])\n",
    "print (\"b: \", vb)\n",
    "v_prob = tf.nn.sigmoid(tf.matmul(h_state, tf.transpose(W)) + vb)\n",
    "print (\"p(vi∣h): \", v_prob)\n",
    "v_state = tf.nn.relu(tf.sign(v_prob - tf.random.uniform(tf.shape(v_prob))))\n",
    "print (\"v probability states: \", v_state)"
   ]
  },
  {
   "cell_type": "markdown",
   "metadata": {},
   "source": [
    "RBM learns a probability distribution over the input, and then, after being trained, the RBM can generate new samples from the learned probability distribution. As you know, <b>probability distribution</b>, is a mathematical function that provides the probabilities of occurrence of different possible outcomes in an experiment.\n",
    "\n",
    "The (conditional) probability distribution over the visible units v is given by\n",
    "\n",
    "$$p(\\mathbf{v} \\mid \\mathbf{h}) = \\prod\\_{i=1}^V p(v_i \\mid \\mathbf{h}),$$\n",
    "\n",
    "where,\n",
    "\n",
    "$$p(v_i \\mid \\mathbf{h}) = \\sigma\\left(\\sum\\_{j=1}^H W\\_{ji} h_j + v\\_{bias} \\right)$$\n",
    "\n",
    "so, given current state of hidden units and weights, what is the probability of generating \\[1. 0. 0. 1. 0. 0. 0.] in reconstruction phase, based on the above <b>probability distribution</b> function?\n"
   ]
  },
  {
   "cell_type": "code",
   "execution_count": 9,
   "metadata": {},
   "outputs": [
    {
     "name": "stdout",
     "output_type": "stream",
     "text": [
      "input X: [[1. 0. 0. 1. 0. 0. 0.]]\n",
      "probablity vector: [0.8760018  0.04400628 0.81178755 0.9347058  0.260144   0.20327118\n",
      " 0.36205617]\n",
      "probability of generating X:  0.055401754\n"
     ]
    }
   ],
   "source": [
    "inp = X\n",
    "print(\"input X:\" , inp.numpy())\n",
    "\n",
    "print(\"probablity vector:\" , v_prob[0].numpy())\n",
    "v_probability = 1\n",
    "\n",
    "for elm, p in zip(inp[0],v_prob[0]) :\n",
    "    if elm ==1:\n",
    "        v_probability *= p\n",
    "    else:\n",
    "        v_probability *= (1-p)\n",
    "\n",
    "print(\"probability of generating X: \" , v_probability.numpy())"
   ]
  },
  {
   "cell_type": "markdown",
   "metadata": {},
   "source": [
    "How similar are vectors $\\mathbf{x}$ and $\\mathbf{v}$? Of course, the reconstructed values most likely will not look anything like the input vector, because our network has not been trained yet. Our objective is to train the model in such a way that the input vector and reconstructed vector to be same. Therefore, based on how different the input values look to the ones that we just reconstructed, the weights are adjusted.\n"
   ]
  },
  {
   "cell_type": "markdown",
   "metadata": {},
   "source": [
    "<hr>\n"
   ]
  },
  {
   "cell_type": "markdown",
   "metadata": {},
   "source": [
    "<h2>MNIST</h2>\n"
   ]
  },
  {
   "cell_type": "markdown",
   "metadata": {},
   "source": [
    "We will be using the MNIST dataset to practice the usage of RBMs. The following cell loads the MNIST dataset.\n"
   ]
  },
  {
   "cell_type": "code",
   "execution_count": 10,
   "metadata": {},
   "outputs": [
    {
     "name": "stderr",
     "output_type": "stream",
     "text": [
      "2022-09-03 00:26:20.435024: W tensorflow/core/framework/cpu_allocator_impl.cc:82] Allocation of 376320000 exceeds 10% of free system memory.\n"
     ]
    }
   ],
   "source": [
    "#loading training and test data\n",
    "mnist = tf.keras.datasets.mnist\n",
    "(trX, trY), (teX, teY) = mnist.load_data()\n",
    "\n",
    "# showing an example of the Flatten class and operation\n",
    "from tensorflow.keras.layers import Flatten\n",
    "flatten = Flatten(dtype='float32')\n",
    "trX = flatten(trX/255.0)\n",
    "trY = flatten(trY/255.0)"
   ]
  },
  {
   "cell_type": "markdown",
   "metadata": {},
   "source": [
    "Lets look at the dimension of the images.\n"
   ]
  },
  {
   "cell_type": "markdown",
   "metadata": {},
   "source": [
    "MNIST images have 784 pixels, so the visible layer must have 784 input nodes.  For our case, we'll use 50 nodes in the hidden layer, so i = 50.\n"
   ]
  },
  {
   "cell_type": "code",
   "execution_count": 11,
   "metadata": {
    "jupyter": {
     "outputs_hidden": true
    }
   },
   "outputs": [],
   "source": [
    "vb = tf.Variable(tf.zeros([784]), tf.float32)\n",
    "hb = tf.Variable(tf.zeros([50]), tf.float32)"
   ]
  },
  {
   "cell_type": "markdown",
   "metadata": {},
   "source": [
    "Let $\\mathbf W$ be the Tensor of 784x50 (784 - number of visible neurons, 50 - number of hidden neurons) that represents weights between the neurons.\n"
   ]
  },
  {
   "cell_type": "code",
   "execution_count": 12,
   "metadata": {
    "jupyter": {
     "outputs_hidden": true
    }
   },
   "outputs": [],
   "source": [
    "W = tf.Variable(tf.zeros([784,50]), tf.float32)"
   ]
  },
  {
   "cell_type": "markdown",
   "metadata": {},
   "source": [
    "Lets define the visible layer:\n"
   ]
  },
  {
   "cell_type": "code",
   "execution_count": 13,
   "metadata": {},
   "outputs": [
    {
     "data": {
      "text/plain": [
       "<tf.Tensor: shape=(1, 50), dtype=float32, numpy=\n",
       "array([[0., 0., 0., 0., 0., 0., 0., 0., 0., 0., 0., 0., 0., 0., 0., 0.,\n",
       "        0., 0., 0., 0., 0., 0., 0., 0., 0., 0., 0., 0., 0., 0., 0., 0.,\n",
       "        0., 0., 0., 0., 0., 0., 0., 0., 0., 0., 0., 0., 0., 0., 0., 0.,\n",
       "        0., 0.]], dtype=float32)>"
      ]
     },
     "execution_count": 13,
     "metadata": {},
     "output_type": "execute_result"
    }
   ],
   "source": [
    "v0_state = tf.Variable(tf.zeros([784]), tf.float32)\n",
    "\n",
    "#testing to see if the matrix product works\n",
    "tf.matmul( [v0_state], W)"
   ]
  },
  {
   "cell_type": "markdown",
   "metadata": {},
   "source": [
    "Now, we can define hidden layer:\n"
   ]
  },
  {
   "cell_type": "code",
   "execution_count": 14,
   "metadata": {},
   "outputs": [
    {
     "name": "stdout",
     "output_type": "stream",
     "text": [
      "h0_state shape:  tf.Tensor([ 1 50], shape=(2,), dtype=int32)\n",
      "first 15 hidden states:  tf.Tensor([1. 0. 1. 1. 1. 1. 0. 0. 1. 0. 1. 1. 0. 0. 1.], shape=(15,), dtype=float32)\n"
     ]
    }
   ],
   "source": [
    "#computing the hidden nodes probability vector and checking shape\n",
    "h0_prob = tf.nn.sigmoid(tf.matmul([v0_state], W) + hb)  #probabilities of the hidden units\n",
    "print(\"h0_state shape: \" , tf.shape(h0_prob))\n",
    "\n",
    "#defining a function to return only the generated hidden states \n",
    "def hidden_layer(v0_state, W, hb):\n",
    "    h0_prob = tf.nn.sigmoid(tf.matmul([v0_state], W) + hb)  #probabilities of the hidden units\n",
    "    h0_state = tf.nn.relu(tf.sign(h0_prob - tf.random.uniform(tf.shape(h0_prob)))) #sample_h_given_X\n",
    "    return h0_state\n",
    "\n",
    "\n",
    "h0_state = hidden_layer(v0_state, W, hb)\n",
    "print(\"first 15 hidden states: \", h0_state[0][0:15])"
   ]
  },
  {
   "cell_type": "markdown",
   "metadata": {},
   "source": [
    "Now, we define reconstruction part:\n"
   ]
  },
  {
   "cell_type": "code",
   "execution_count": 15,
   "metadata": {},
   "outputs": [
    {
     "name": "stdout",
     "output_type": "stream",
     "text": [
      "hidden state shape:  (1, 50)\n",
      "v0 state shape:   (784,)\n",
      "v1 state shape:   (784,)\n"
     ]
    }
   ],
   "source": [
    "def reconstructed_output(h0_state, W, vb):\n",
    "    v1_prob = tf.nn.sigmoid(tf.matmul(h0_state, tf.transpose(W)) + vb) \n",
    "    v1_state = tf.nn.relu(tf.sign(v1_prob - tf.random.uniform(tf.shape(v1_prob)))) #sample_v_given_h\n",
    "    return v1_state[0]\n",
    "\n",
    "v1_state = reconstructed_output(h0_state, W, vb)\n",
    "print(\"hidden state shape: \", h0_state.shape)\n",
    "print(\"v0 state shape:  \", v0_state.shape)\n",
    "print(\"v1 state shape:  \", v1_state.shape)"
   ]
  },
  {
   "cell_type": "markdown",
   "metadata": {},
   "source": [
    "<h3>What is the objective function?</h3>\n",
    "\n",
    "<b>Goal</b>: Maximize the likelihood of our data being drawn from that distribution\n",
    "\n",
    "<b>Calculate error:</b>\\\n",
    "In each epoch, we compute the \"error\" as a sum of the squared difference between step 1 and step n,\n",
    "e.g the error shows the difference between the data and its reconstruction.\n",
    "\n",
    "<b>Note:</b> tf.reduce_mean computes the mean of elements across dimensions of a tensor.\n"
   ]
  },
  {
   "cell_type": "code",
   "execution_count": 16,
   "metadata": {},
   "outputs": [
    {
     "name": "stdout",
     "output_type": "stream",
     "text": [
      "error 0.5114796\n"
     ]
    }
   ],
   "source": [
    "def error(v0_state, v1_state):\n",
    "    return tf.reduce_mean(tf.square(v0_state - v1_state))\n",
    "\n",
    "err = tf.reduce_mean(tf.square(v0_state - v1_state))\n",
    "print(\"error\" , err.numpy())"
   ]
  },
  {
   "cell_type": "markdown",
   "metadata": {},
   "source": [
    "<a id=\"ref4\"></a>\n",
    "\n",
    "<h3>Training the Model</h3>\n",
    "<b>Warning...</b> The following part is math-heavy, but you can skip it if you just want to run the cells in the next section.\n",
    "\n",
    "As mentioned, we want to give a high probability to the input data we train on. So, in order to train an RBM, we have to maximize the product of probabilities assigned to all rows $\\mathbf{v}$ (images) in the training set $\\mathbf{V}$ (a matrix, where each row of it is treated as a visible vector $\\mathbf{v}$)\n",
    "\n",
    "$$\\arg \\max_W \\prod\\_{\\mathbf{v}\\in\\mathbf{V}\\_T} p(\\mathbf{v})$$\n",
    "\n",
    "which is equivalent to maximizing the expectation of the log probability, given as\n",
    "\n",
    "$$\\arg\\max_W\\left\\[ \\mathbb{E} \\left(\\prod\\_{\\mathbf v\\in \\mathbf V}\\text{log} \\left(p(\\mathbf v)\\right) \\right) \\right].$$\n",
    "\n",
    "So, we have to update the weights $W\\_{ij}$  to increase $p(\\mathbf{v})$ for all $\\mathbf{v}$ in our training data during training. So we have to calculate the derivative:\n",
    "\n",
    "$$\\frac{\\partial \\log p(\\mathbf v)}{\\partial W\\_{ij}}$$\n",
    "\n",
    "This cannot be easily done by typical <b>gradient descent (SGD)</b>, so we can use another approach, which has 2 steps:\n",
    "\n",
    "<ol>\n",
    "    <li>Gibbs Sampling</li>\n",
    "    <li>Contrastive Divergence</li>\n",
    "</ol>    \n",
    "\n",
    "<h3>Gibbs Sampling</h3>   \n",
    "\n",
    "<h4>Gibbs Sampling Step 1</h4> \n",
    "Given an input vector $\\mathbf{v}$, we are using $p(\\mathbf{h}|\\mathbf{v})$ to predict the hidden values $\\mathbf{h}$. \n",
    "  $$p({h_j}|\\mathbf v)= \\sigma\\left(\\sum_{i=1}^V W_{ij} v_i + h_{bias} \\right)$$\n",
    "The samples are generated from this distribution by generating the uniform random variate vector $\\mathbf{\\xi} \\sim U[0,1]$ of length $H$ and comparing to the computed probabilities as\n",
    "\n",
    "<center>If $\\xi_j>p(h_{j}|\\mathbf{v})$, then $h_j=1$, else $h_j=0$.</center>\n",
    "\n",
    "<h4>Gibbs Sampling Step 2</h4> \n",
    "Then, knowing the hidden values, we use $p(\\mathbf v| \\mathbf h)$ for reconstructing of new input values v. \n",
    "\n",
    "$$p({v_i}|\\mathbf h)= \\sigma\\left(\\sum\\_{j=1}^H W^{T}*{ij} h_j + v*{bias} \\right)$$\n",
    "\n",
    "The samples are generated from this distribution by generating a uniform random variate vector $\\mathbf{\\xi} \\sim U\\[0,1]$ of length $V$ and comparing to the computed probabilities as\n",
    "\n",
    "<center>If $\\xi_i>p(v_{i}|\\mathbf{h})$, then $v_i=1$, else $v_i=0$.</center>\n",
    "\n",
    "Let vectors $\\mathbf v_k$ and $\\mathbf h_k$ be for the $k$th iteration.  In general, the $kth$ state is generrated as:\n",
    "\n",
    "<b>Iteration</b> $k$:\n",
    "\n",
    "$$\\mathbf v\\_{k-1} \\Rightarrow p(\\mathbf h\\_{k-1}|\\mathbf v\\_{k-1})\\Rightarrow \\mathbf h\\_{k-1}\\Rightarrow p(\\mathbf v\\_{k}|\\mathbf h\\_{k-1})\\Rightarrow \\mathbf v_k$$\n",
    "\n",
    "<h3>Contrastive Divergence (CD-k)</h3>\n",
    "The update of the weight matrix is done during the Contrastive Divergence step. \n",
    "\n",
    "Vectors v0 and vk are used to calculate the activation probabilities for hidden values h0 and hk. The difference between the outer products of those probabilities with input vectors v0 and vk results in the update matrix:\n",
    "\n",
    "$$\\Delta \\mathbf W_k =\\mathbf v_k \\otimes \\mathbf h_k - \\mathbf v\\_{k-1} \\otimes \\mathbf h\\_{k-1}$$\n",
    "\n",
    "Contrastive Divergence is actually matrix of values that is computed and used to adjust values of the $\\mathbf W$ matrix. Changing $\\mathbf W$ incrementally leads to training of the  $\\mathbf W$ values. Then, on each step (epoch), $\\mathbf W$ is updated using the following:\n",
    "\n",
    "$$\\mathbf W_k = \\mathbf W\\_{k-1} + \\alpha \\* \\Delta \\mathbf W_k$$\n",
    "\n",
    "Reconstruction steps:\n",
    "\n",
    "<ul>\n",
    "    <li> Get one data point from data set, like <i>x</i>, and pass it through the following steps:</li>\n",
    "\n",
    "<b>Iteration</b> $k=1$:\n",
    "\n",
    "Sampling (starting with input image)\n",
    "$$\\mathbf x = \\mathbf v\\_0 \\Rightarrow p(\\mathbf h\\_0|\\mathbf v\\_0)\\Rightarrow \\mathbf h\\_0 \\Rightarrow p(\\mathbf v\\_1|\\mathbf h\\_0)\\Rightarrow \\mathbf v\\_1$$\\\n",
    "followed by the CD-k step\n",
    "$$\\Delta \\mathbf W\\_1 =\\mathbf v\\_1 \\otimes \\mathbf h\\_1 - \\mathbf v\\_{0} \\otimes \\mathbf h\\_{0}$$\\\n",
    "$$\\mathbf W\\_1 = \\mathbf W\\_{0} + \\alpha \\* \\Delta \\mathbf W\\_1$$\n",
    "\n",
    "<li> $\\mathbf v_1$ is the reconstruction of $\\mathbf x$ sent to the next iteration).</li>\n",
    "\n",
    "<b>Iteration</b> $k=2$:\n",
    "\n",
    "Sampling (starting with $\\mathbf v\\_1$)\n",
    "\n",
    "$$\\mathbf v\\_1 \\Rightarrow p(\\mathbf h\\_1|\\mathbf v\\_1)\\Rightarrow \\mathbf h\\_1\\Rightarrow p(\\mathbf v\\_2|\\mathbf h\\_1)\\Rightarrow \\mathbf v\\_2$$\n",
    "\n",
    "followed by the CD-k step\n",
    "$$\\Delta \\mathbf W\\_2 =\\mathbf v\\_2 \\otimes \\mathbf h\\_2 - \\mathbf v\\_{1} \\otimes \\mathbf h\\_{1}$$\\\n",
    "$$\\mathbf W\\_2 = \\mathbf W\\_{1} + \\alpha \\* \\Delta \\mathbf W\\_2$$\n",
    "\n",
    "<li> $\\mathbf v_2$ is the reconstruction of $\\mathbf v_1$ sent to the next iteration).</li>    \n",
    "\n",
    "<b>Iteration</b> $k=K$:\n",
    "\n",
    "Sampling (starting with $\\mathbf v\\_{K-1}$)\n",
    "\n",
    "$$\\mathbf v\\_{K-1} \\Rightarrow p(\\mathbf h\\_{K-1}|\\mathbf v\\_{K-1})\\Rightarrow \\mathbf h\\_{K-1}\\Rightarrow p(\\mathbf v_K|\\mathbf h\\_{K-1})\\Rightarrow \\mathbf v_K$$\n",
    "\n",
    "followed by the CD-k step\n",
    "$$\\Delta \\mathbf W_K =\\mathbf v_K \\otimes \\mathbf h_K - \\mathbf v\\_{K-1} \\otimes \\mathbf h\\_{K-1}$$\\\n",
    "$$\\mathbf W_K = \\mathbf W\\_{K-1} + \\alpha \\* \\Delta \\mathbf W_K$$\n",
    "\n",
    "<b>What is $\\alpha$?</b>\\\n",
    "Here, alpha is some small step size, and is also known as the \"learning rate\".\n"
   ]
  },
  {
   "cell_type": "markdown",
   "metadata": {},
   "source": [
    "$K$ is adjustable, and good performance can be achieved with $K=1$, so that we just take one set of sampling steps per image.\n"
   ]
  },
  {
   "cell_type": "code",
   "execution_count": 17,
   "metadata": {},
   "outputs": [],
   "source": [
    "h1_prob = tf.nn.sigmoid(tf.matmul([v1_state], W) + hb)\n",
    "h1_state = tf.nn.relu(tf.sign(h1_prob - tf.random.uniform(tf.shape(h1_prob)))) #sample_h_given_X"
   ]
  },
  {
   "cell_type": "markdown",
   "metadata": {},
   "source": [
    "Lets look at the error of the first run:\n"
   ]
  },
  {
   "cell_type": "code",
   "execution_count": 18,
   "metadata": {},
   "outputs": [
    {
     "name": "stdout",
     "output_type": "stream",
     "text": [
      "error:  tf.Tensor(0.5114796, shape=(), dtype=float32)\n"
     ]
    }
   ],
   "source": [
    "print(\"error: \", error(v0_state, v1_state))"
   ]
  },
  {
   "cell_type": "code",
   "execution_count": 19,
   "metadata": {},
   "outputs": [
    {
     "name": "stderr",
     "output_type": "stream",
     "text": [
      "2022-09-03 00:26:21.206981: W tensorflow/core/framework/cpu_allocator_impl.cc:82] Allocation of 188160000 exceeds 10% of free system memory.\n",
      "2022-09-03 00:26:21.326472: W tensorflow/core/framework/cpu_allocator_impl.cc:82] Allocation of 188160000 exceeds 10% of free system memory.\n"
     ]
    },
    {
     "name": "stdout",
     "output_type": "stream",
     "text": [
      "Epoch: 0 batch #: 1  of 300 sample #: 199 reconstruction error: 0.176093\n",
      "Epoch: 0 batch #: 2  of 300 sample #: 199 reconstruction error: 0.191629\n",
      "Epoch: 0 batch #: 3  of 300 sample #: 199 reconstruction error: 0.119144\n",
      "Epoch: 0 batch #: 4  of 300 sample #: 199 reconstruction error: 0.116328\n",
      "Epoch: 0 batch #: 5  of 300 sample #: 199 reconstruction error: 0.116985\n",
      "Epoch: 0 batch #: 6  of 300 sample #: 199 reconstruction error: 0.168432\n",
      "Epoch: 0 batch #: 7  of 300 sample #: 199 reconstruction error: 0.088724\n",
      "Epoch: 0 batch #: 8  of 300 sample #: 199 reconstruction error: 0.101061\n",
      "Epoch: 0 batch #: 9  of 300 sample #: 199 reconstruction error: 0.102903\n",
      "Epoch: 0 batch #: 10  of 300 sample #: 199 reconstruction error: 0.183504\n",
      "Epoch: 0 batch #: 11  of 300 sample #: 199 reconstruction error: 0.093547\n",
      "Epoch: 0 batch #: 12  of 300 sample #: 199 reconstruction error: 0.125381\n",
      "Epoch: 0 batch #: 13  of 300 sample #: 199 reconstruction error: 0.058036\n",
      "Epoch: 0 batch #: 14  of 300 sample #: 199 reconstruction error: 0.093749\n",
      "Epoch: 0 batch #: 15  of 300 sample #: 199 reconstruction error: 0.102222\n",
      "Epoch: 0 batch #: 16  of 300 sample #: 199 reconstruction error: 0.101785\n",
      "Epoch: 0 batch #: 17  of 300 sample #: 199 reconstruction error: 0.073817\n",
      "Epoch: 0 batch #: 18  of 300 sample #: 199 reconstruction error: 0.111671\n",
      "Epoch: 0 batch #: 19  of 300 sample #: 199 reconstruction error: 0.150965\n",
      "Epoch: 0 batch #: 20  of 300 sample #: 199 reconstruction error: 0.102016\n",
      "Epoch: 0 batch #: 21  of 300 sample #: 199 reconstruction error: 0.088718\n",
      "Epoch: 0 batch #: 22  of 300 sample #: 199 reconstruction error: 0.073132\n",
      "Epoch: 0 batch #: 23  of 300 sample #: 199 reconstruction error: 0.109014\n",
      "Epoch: 0 batch #: 24  of 300 sample #: 199 reconstruction error: 0.125154\n",
      "Epoch: 0 batch #: 25  of 300 sample #: 199 reconstruction error: 0.090991\n",
      "Epoch: 0 batch #: 26  of 300 sample #: 199 reconstruction error: 0.113863\n",
      "Epoch: 0 batch #: 27  of 300 sample #: 199 reconstruction error: 0.090866\n",
      "Epoch: 0 batch #: 28  of 300 sample #: 199 reconstruction error: 0.088982\n",
      "Epoch: 0 batch #: 29  of 300 sample #: 199 reconstruction error: 0.087515\n",
      "Epoch: 0 batch #: 30  of 300 sample #: 199 reconstruction error: 0.077168\n",
      "Epoch: 0 batch #: 31  of 300 sample #: 199 reconstruction error: 0.079154\n",
      "Epoch: 0 batch #: 32  of 300 sample #: 199 reconstruction error: 0.114352\n",
      "Epoch: 0 batch #: 33  of 300 sample #: 199 reconstruction error: 0.057627\n",
      "Epoch: 0 batch #: 34  of 300 sample #: 199 reconstruction error: 0.068808\n",
      "Epoch: 0 batch #: 35  of 300 sample #: 199 reconstruction error: 0.078467\n",
      "Epoch: 0 batch #: 36  of 300 sample #: 199 reconstruction error: 0.088640\n",
      "Epoch: 0 batch #: 37  of 300 sample #: 199 reconstruction error: 0.075468\n",
      "Epoch: 0 batch #: 38  of 300 sample #: 199 reconstruction error: 0.059134\n",
      "Epoch: 0 batch #: 39  of 300 sample #: 199 reconstruction error: 0.093467\n",
      "Epoch: 0 batch #: 40  of 300 sample #: 199 reconstruction error: 0.110133\n",
      "Epoch: 0 batch #: 41  of 300 sample #: 199 reconstruction error: 0.073771\n",
      "Epoch: 0 batch #: 42  of 300 sample #: 199 reconstruction error: 0.078660\n",
      "Epoch: 0 batch #: 43  of 300 sample #: 199 reconstruction error: 0.122597\n",
      "Epoch: 0 batch #: 44  of 300 sample #: 199 reconstruction error: 0.059650\n",
      "Epoch: 0 batch #: 45  of 300 sample #: 199 reconstruction error: 0.065854\n",
      "Epoch: 0 batch #: 46  of 300 sample #: 199 reconstruction error: 0.029670\n",
      "Epoch: 0 batch #: 47  of 300 sample #: 199 reconstruction error: 0.048228\n",
      "Epoch: 0 batch #: 48  of 300 sample #: 199 reconstruction error: 0.043858\n",
      "Epoch: 0 batch #: 49  of 300 sample #: 199 reconstruction error: 0.113418\n",
      "Epoch: 0 batch #: 50  of 300 sample #: 199 reconstruction error: 0.060332\n",
      "Epoch: 0 batch #: 51  of 300 sample #: 199 reconstruction error: 0.067558\n",
      "Epoch: 0 batch #: 52  of 300 sample #: 199 reconstruction error: 0.040808\n",
      "Epoch: 0 batch #: 53  of 300 sample #: 199 reconstruction error: 0.110464\n",
      "Epoch: 0 batch #: 54  of 300 sample #: 199 reconstruction error: 0.047602\n",
      "Epoch: 0 batch #: 55  of 300 sample #: 199 reconstruction error: 0.113366\n",
      "Epoch: 0 batch #: 56  of 300 sample #: 199 reconstruction error: 0.055640\n",
      "Epoch: 0 batch #: 57  of 300 sample #: 199 reconstruction error: 0.047659\n",
      "Epoch: 0 batch #: 58  of 300 sample #: 199 reconstruction error: 0.072161\n",
      "Epoch: 0 batch #: 59  of 300 sample #: 199 reconstruction error: 0.042690\n",
      "Epoch: 0 batch #: 60  of 300 sample #: 199 reconstruction error: 0.090538\n",
      "Epoch: 0 batch #: 61  of 300 sample #: 199 reconstruction error: 0.069673\n",
      "Epoch: 0 batch #: 62  of 300 sample #: 199 reconstruction error: 0.078773\n",
      "Epoch: 0 batch #: 63  of 300 sample #: 199 reconstruction error: 0.059148\n",
      "Epoch: 0 batch #: 64  of 300 sample #: 199 reconstruction error: 0.077479\n",
      "Epoch: 0 batch #: 65  of 300 sample #: 199 reconstruction error: 0.091437\n",
      "Epoch: 0 batch #: 66  of 300 sample #: 199 reconstruction error: 0.068149\n",
      "Epoch: 0 batch #: 67  of 300 sample #: 199 reconstruction error: 0.039061\n",
      "Epoch: 0 batch #: 68  of 300 sample #: 199 reconstruction error: 0.053124\n",
      "Epoch: 0 batch #: 69  of 300 sample #: 199 reconstruction error: 0.078615\n",
      "Epoch: 0 batch #: 70  of 300 sample #: 199 reconstruction error: 0.067382\n",
      "Epoch: 0 batch #: 71  of 300 sample #: 199 reconstruction error: 0.076500\n",
      "Epoch: 0 batch #: 72  of 300 sample #: 199 reconstruction error: 0.053687\n",
      "Epoch: 0 batch #: 73  of 300 sample #: 199 reconstruction error: 0.092846\n",
      "Epoch: 0 batch #: 74  of 300 sample #: 199 reconstruction error: 0.091148\n",
      "Epoch: 0 batch #: 75  of 300 sample #: 199 reconstruction error: 0.065145\n",
      "Epoch: 0 batch #: 76  of 300 sample #: 199 reconstruction error: 0.080372\n",
      "Epoch: 0 batch #: 77  of 300 sample #: 199 reconstruction error: 0.097587\n",
      "Epoch: 0 batch #: 78  of 300 sample #: 199 reconstruction error: 0.102584\n",
      "Epoch: 0 batch #: 79  of 300 sample #: 199 reconstruction error: 0.108397\n",
      "Epoch: 0 batch #: 80  of 300 sample #: 199 reconstruction error: 0.046042\n",
      "Epoch: 0 batch #: 81  of 300 sample #: 199 reconstruction error: 0.052645\n",
      "Epoch: 0 batch #: 82  of 300 sample #: 199 reconstruction error: 0.062514\n",
      "Epoch: 0 batch #: 83  of 300 sample #: 199 reconstruction error: 0.072393\n",
      "Epoch: 0 batch #: 84  of 300 sample #: 199 reconstruction error: 0.075807\n",
      "Epoch: 0 batch #: 85  of 300 sample #: 199 reconstruction error: 0.050610\n",
      "Epoch: 0 batch #: 86  of 300 sample #: 199 reconstruction error: 0.093492\n",
      "Epoch: 0 batch #: 87  of 300 sample #: 199 reconstruction error: 0.071694\n",
      "Epoch: 0 batch #: 88  of 300 sample #: 199 reconstruction error: 0.023090\n",
      "Epoch: 0 batch #: 89  of 300 sample #: 199 reconstruction error: 0.058043\n",
      "Epoch: 0 batch #: 90  of 300 sample #: 199 reconstruction error: 0.056087\n",
      "Epoch: 0 batch #: 91  of 300 sample #: 199 reconstruction error: 0.067349\n",
      "Epoch: 0 batch #: 92  of 300 sample #: 199 reconstruction error: 0.070760\n",
      "Epoch: 0 batch #: 93  of 300 sample #: 199 reconstruction error: 0.105799\n",
      "Epoch: 0 batch #: 94  of 300 sample #: 199 reconstruction error: 0.103121\n",
      "Epoch: 0 batch #: 95  of 300 sample #: 199 reconstruction error: 0.064900\n",
      "Epoch: 0 batch #: 96  of 300 sample #: 199 reconstruction error: 0.059177\n",
      "Epoch: 0 batch #: 97  of 300 sample #: 199 reconstruction error: 0.109617\n",
      "Epoch: 0 batch #: 98  of 300 sample #: 199 reconstruction error: 0.087569\n",
      "Epoch: 0 batch #: 99  of 300 sample #: 199 reconstruction error: 0.059942\n",
      "Epoch: 0 batch #: 100  of 300 sample #: 199 reconstruction error: 0.107532\n",
      "Epoch: 0 batch #: 101  of 300 sample #: 199 reconstruction error: 0.085797\n",
      "Epoch: 0 batch #: 102  of 300 sample #: 199 reconstruction error: 0.086499\n",
      "Epoch: 0 batch #: 103  of 300 sample #: 199 reconstruction error: 0.076679\n",
      "Epoch: 0 batch #: 104  of 300 sample #: 199 reconstruction error: 0.055081\n",
      "Epoch: 0 batch #: 105  of 300 sample #: 199 reconstruction error: 0.062512\n",
      "Epoch: 0 batch #: 106  of 300 sample #: 199 reconstruction error: 0.116796\n",
      "Epoch: 0 batch #: 107  of 300 sample #: 199 reconstruction error: 0.151588\n",
      "Epoch: 0 batch #: 108  of 300 sample #: 199 reconstruction error: 0.065700\n",
      "Epoch: 0 batch #: 109  of 300 sample #: 199 reconstruction error: 0.125976\n",
      "Epoch: 0 batch #: 110  of 300 sample #: 199 reconstruction error: 0.058586\n",
      "Epoch: 0 batch #: 111  of 300 sample #: 199 reconstruction error: 0.105884\n"
     ]
    },
    {
     "name": "stdout",
     "output_type": "stream",
     "text": [
      "Epoch: 0 batch #: 112  of 300 sample #: 199 reconstruction error: 0.041786\n",
      "Epoch: 0 batch #: 113  of 300 sample #: 199 reconstruction error: 0.085358\n",
      "Epoch: 0 batch #: 114  of 300 sample #: 199 reconstruction error: 0.080492\n",
      "Epoch: 0 batch #: 115  of 300 sample #: 199 reconstruction error: 0.054709\n",
      "Epoch: 0 batch #: 116  of 300 sample #: 199 reconstruction error: 0.046729\n",
      "Epoch: 0 batch #: 117  of 300 sample #: 199 reconstruction error: 0.050631\n",
      "Epoch: 0 batch #: 118  of 300 sample #: 199 reconstruction error: 0.074171\n",
      "Epoch: 0 batch #: 119  of 300 sample #: 199 reconstruction error: 0.117436\n",
      "Epoch: 0 batch #: 120  of 300 sample #: 199 reconstruction error: 0.079322\n",
      "Epoch: 0 batch #: 121  of 300 sample #: 199 reconstruction error: 0.041082\n",
      "Epoch: 0 batch #: 122  of 300 sample #: 199 reconstruction error: 0.098161\n",
      "Epoch: 0 batch #: 123  of 300 sample #: 199 reconstruction error: 0.074747\n",
      "Epoch: 0 batch #: 124  of 300 sample #: 199 reconstruction error: 0.063980\n",
      "Epoch: 0 batch #: 125  of 300 sample #: 199 reconstruction error: 0.041290\n",
      "Epoch: 0 batch #: 126  of 300 sample #: 199 reconstruction error: 0.099728\n",
      "Epoch: 0 batch #: 127  of 300 sample #: 199 reconstruction error: 0.079706\n",
      "Epoch: 0 batch #: 128  of 300 sample #: 199 reconstruction error: 0.075955\n",
      "Epoch: 0 batch #: 129  of 300 sample #: 199 reconstruction error: 0.056632\n",
      "Epoch: 0 batch #: 130  of 300 sample #: 199 reconstruction error: 0.090500\n",
      "Epoch: 0 batch #: 131  of 300 sample #: 199 reconstruction error: 0.048131\n",
      "Epoch: 0 batch #: 132  of 300 sample #: 199 reconstruction error: 0.054414\n",
      "Epoch: 0 batch #: 133  of 300 sample #: 199 reconstruction error: 0.051708\n",
      "Epoch: 0 batch #: 134  of 300 sample #: 199 reconstruction error: 0.097708\n",
      "Epoch: 0 batch #: 135  of 300 sample #: 199 reconstruction error: 0.081608\n",
      "Epoch: 0 batch #: 136  of 300 sample #: 199 reconstruction error: 0.114264\n",
      "Epoch: 0 batch #: 137  of 300 sample #: 199 reconstruction error: 0.071372\n",
      "Epoch: 0 batch #: 138  of 300 sample #: 199 reconstruction error: 0.076354\n",
      "Epoch: 0 batch #: 139  of 300 sample #: 199 reconstruction error: 0.100906\n",
      "Epoch: 0 batch #: 140  of 300 sample #: 199 reconstruction error: 0.083034\n",
      "Epoch: 0 batch #: 141  of 300 sample #: 199 reconstruction error: 0.089463\n",
      "Epoch: 0 batch #: 142  of 300 sample #: 199 reconstruction error: 0.064717\n",
      "Epoch: 0 batch #: 143  of 300 sample #: 199 reconstruction error: 0.065610\n",
      "Epoch: 0 batch #: 144  of 300 sample #: 199 reconstruction error: 0.062056\n",
      "Epoch: 0 batch #: 145  of 300 sample #: 199 reconstruction error: 0.108238\n",
      "Epoch: 0 batch #: 146  of 300 sample #: 199 reconstruction error: 0.107336\n",
      "Epoch: 0 batch #: 147  of 300 sample #: 199 reconstruction error: 0.060326\n",
      "Epoch: 0 batch #: 148  of 300 sample #: 199 reconstruction error: 0.082432\n",
      "Epoch: 0 batch #: 149  of 300 sample #: 199 reconstruction error: 0.044652\n",
      "Epoch: 0 batch #: 150  of 300 sample #: 199 reconstruction error: 0.044535\n",
      "Epoch: 0 batch #: 151  of 300 sample #: 199 reconstruction error: 0.125354\n",
      "Epoch: 0 batch #: 152  of 300 sample #: 199 reconstruction error: 0.082494\n",
      "Epoch: 0 batch #: 153  of 300 sample #: 199 reconstruction error: 0.064414\n",
      "Epoch: 0 batch #: 154  of 300 sample #: 199 reconstruction error: 0.068655\n",
      "Epoch: 0 batch #: 155  of 300 sample #: 199 reconstruction error: 0.069911\n",
      "Epoch: 0 batch #: 156  of 300 sample #: 199 reconstruction error: 0.068954\n",
      "Epoch: 0 batch #: 157  of 300 sample #: 199 reconstruction error: 0.074882\n",
      "Epoch: 0 batch #: 158  of 300 sample #: 199 reconstruction error: 0.067754\n",
      "Epoch: 0 batch #: 159  of 300 sample #: 199 reconstruction error: 0.073017\n",
      "Epoch: 0 batch #: 160  of 300 sample #: 199 reconstruction error: 0.083908\n",
      "Epoch: 0 batch #: 161  of 300 sample #: 199 reconstruction error: 0.083050\n",
      "Epoch: 0 batch #: 162  of 300 sample #: 199 reconstruction error: 0.120981\n",
      "Epoch: 0 batch #: 163  of 300 sample #: 199 reconstruction error: 0.041753\n",
      "Epoch: 0 batch #: 164  of 300 sample #: 199 reconstruction error: 0.062964\n",
      "Epoch: 0 batch #: 165  of 300 sample #: 199 reconstruction error: 0.083361\n",
      "Epoch: 0 batch #: 166  of 300 sample #: 199 reconstruction error: 0.048966\n",
      "Epoch: 0 batch #: 167  of 300 sample #: 199 reconstruction error: 0.085629\n",
      "Epoch: 0 batch #: 168  of 300 sample #: 199 reconstruction error: 0.055229\n",
      "Epoch: 0 batch #: 169  of 300 sample #: 199 reconstruction error: 0.040212\n",
      "Epoch: 0 batch #: 170  of 300 sample #: 199 reconstruction error: 0.059024\n",
      "Epoch: 0 batch #: 171  of 300 sample #: 199 reconstruction error: 0.026629\n",
      "Epoch: 0 batch #: 172  of 300 sample #: 199 reconstruction error: 0.052042\n",
      "Epoch: 0 batch #: 173  of 300 sample #: 199 reconstruction error: 0.089045\n",
      "Epoch: 0 batch #: 174  of 300 sample #: 199 reconstruction error: 0.108803\n",
      "Epoch: 0 batch #: 175  of 300 sample #: 199 reconstruction error: 0.056727\n",
      "Epoch: 0 batch #: 176  of 300 sample #: 199 reconstruction error: 0.037218\n",
      "Epoch: 0 batch #: 177  of 300 sample #: 199 reconstruction error: 0.033771\n",
      "Epoch: 0 batch #: 178  of 300 sample #: 199 reconstruction error: 0.111117\n",
      "Epoch: 0 batch #: 179  of 300 sample #: 199 reconstruction error: 0.083162\n",
      "Epoch: 0 batch #: 180  of 300 sample #: 199 reconstruction error: 0.069266\n",
      "Epoch: 0 batch #: 181  of 300 sample #: 199 reconstruction error: 0.113135\n",
      "Epoch: 0 batch #: 182  of 300 sample #: 199 reconstruction error: 0.066917\n",
      "Epoch: 0 batch #: 183  of 300 sample #: 199 reconstruction error: 0.102821\n",
      "Epoch: 0 batch #: 184  of 300 sample #: 199 reconstruction error: 0.052153\n",
      "Epoch: 0 batch #: 185  of 300 sample #: 199 reconstruction error: 0.083643\n",
      "Epoch: 0 batch #: 186  of 300 sample #: 199 reconstruction error: 0.097907\n",
      "Epoch: 0 batch #: 187  of 300 sample #: 199 reconstruction error: 0.052241\n",
      "Epoch: 0 batch #: 188  of 300 sample #: 199 reconstruction error: 0.121684\n",
      "Epoch: 0 batch #: 189  of 300 sample #: 199 reconstruction error: 0.078622\n",
      "Epoch: 0 batch #: 190  of 300 sample #: 199 reconstruction error: 0.054885\n",
      "Epoch: 0 batch #: 191  of 300 sample #: 199 reconstruction error: 0.117888\n",
      "Epoch: 0 batch #: 192  of 300 sample #: 199 reconstruction error: 0.138571\n",
      "Epoch: 0 batch #: 193  of 300 sample #: 199 reconstruction error: 0.096246\n",
      "Epoch: 0 batch #: 194  of 300 sample #: 199 reconstruction error: 0.083676\n",
      "Epoch: 0 batch #: 195  of 300 sample #: 199 reconstruction error: 0.041166\n",
      "Epoch: 0 batch #: 196  of 300 sample #: 199 reconstruction error: 0.049789\n",
      "Epoch: 0 batch #: 197  of 300 sample #: 199 reconstruction error: 0.056535\n",
      "Epoch: 0 batch #: 198  of 300 sample #: 199 reconstruction error: 0.079795\n",
      "Epoch: 0 batch #: 199  of 300 sample #: 199 reconstruction error: 0.069410\n",
      "Epoch: 0 batch #: 200  of 300 sample #: 199 reconstruction error: 0.095008\n",
      "Epoch: 0 batch #: 201  of 300 sample #: 199 reconstruction error: 0.099701\n",
      "Epoch: 0 batch #: 202  of 300 sample #: 199 reconstruction error: 0.031489\n",
      "Epoch: 0 batch #: 203  of 300 sample #: 199 reconstruction error: 0.090692\n",
      "Epoch: 0 batch #: 204  of 300 sample #: 199 reconstruction error: 0.054981\n",
      "Epoch: 0 batch #: 205  of 300 sample #: 199 reconstruction error: 0.033625\n",
      "Epoch: 0 batch #: 206  of 300 sample #: 199 reconstruction error: 0.061481\n",
      "Epoch: 0 batch #: 207  of 300 sample #: 199 reconstruction error: 0.078547\n",
      "Epoch: 0 batch #: 208  of 300 sample #: 199 reconstruction error: 0.051474\n",
      "Epoch: 0 batch #: 209  of 300 sample #: 199 reconstruction error: 0.029420\n",
      "Epoch: 0 batch #: 210  of 300 sample #: 199 reconstruction error: 0.094645\n",
      "Epoch: 0 batch #: 211  of 300 sample #: 199 reconstruction error: 0.092394\n",
      "Epoch: 0 batch #: 212  of 300 sample #: 199 reconstruction error: 0.098933\n",
      "Epoch: 0 batch #: 213  of 300 sample #: 199 reconstruction error: 0.106050\n",
      "Epoch: 0 batch #: 214  of 300 sample #: 199 reconstruction error: 0.113233\n",
      "Epoch: 0 batch #: 215  of 300 sample #: 199 reconstruction error: 0.030382\n",
      "Epoch: 0 batch #: 216  of 300 sample #: 199 reconstruction error: 0.119255\n",
      "Epoch: 0 batch #: 217  of 300 sample #: 199 reconstruction error: 0.083097\n",
      "Epoch: 0 batch #: 218  of 300 sample #: 199 reconstruction error: 0.067461\n",
      "Epoch: 0 batch #: 219  of 300 sample #: 199 reconstruction error: 0.074377\n",
      "Epoch: 0 batch #: 220  of 300 sample #: 199 reconstruction error: 0.060056\n",
      "Epoch: 0 batch #: 221  of 300 sample #: 199 reconstruction error: 0.097112\n"
     ]
    },
    {
     "name": "stdout",
     "output_type": "stream",
     "text": [
      "Epoch: 0 batch #: 222  of 300 sample #: 199 reconstruction error: 0.090093\n",
      "Epoch: 0 batch #: 223  of 300 sample #: 199 reconstruction error: 0.067936\n",
      "Epoch: 0 batch #: 224  of 300 sample #: 199 reconstruction error: 0.060039\n",
      "Epoch: 0 batch #: 225  of 300 sample #: 199 reconstruction error: 0.084969\n",
      "Epoch: 0 batch #: 226  of 300 sample #: 199 reconstruction error: 0.129583\n",
      "Epoch: 0 batch #: 227  of 300 sample #: 199 reconstruction error: 0.088080\n",
      "Epoch: 0 batch #: 228  of 300 sample #: 199 reconstruction error: 0.080311\n",
      "Epoch: 0 batch #: 229  of 300 sample #: 199 reconstruction error: 0.074739\n",
      "Epoch: 0 batch #: 230  of 300 sample #: 199 reconstruction error: 0.048969\n",
      "Epoch: 0 batch #: 231  of 300 sample #: 199 reconstruction error: 0.023794\n",
      "Epoch: 0 batch #: 232  of 300 sample #: 199 reconstruction error: 0.083049\n",
      "Epoch: 0 batch #: 233  of 300 sample #: 199 reconstruction error: 0.074362\n",
      "Epoch: 0 batch #: 234  of 300 sample #: 199 reconstruction error: 0.052437\n",
      "Epoch: 0 batch #: 235  of 300 sample #: 199 reconstruction error: 0.072836\n",
      "Epoch: 0 batch #: 236  of 300 sample #: 199 reconstruction error: 0.097625\n",
      "Epoch: 0 batch #: 237  of 300 sample #: 199 reconstruction error: 0.078579\n",
      "Epoch: 0 batch #: 238  of 300 sample #: 199 reconstruction error: 0.120758\n",
      "Epoch: 0 batch #: 239  of 300 sample #: 199 reconstruction error: 0.033072\n",
      "Epoch: 0 batch #: 240  of 300 sample #: 199 reconstruction error: 0.106200\n",
      "Epoch: 0 batch #: 241  of 300 sample #: 199 reconstruction error: 0.082270\n",
      "Epoch: 0 batch #: 242  of 300 sample #: 199 reconstruction error: 0.073621\n",
      "Epoch: 0 batch #: 243  of 300 sample #: 199 reconstruction error: 0.070660\n",
      "Epoch: 0 batch #: 244  of 300 sample #: 199 reconstruction error: 0.089101\n",
      "Epoch: 0 batch #: 245  of 300 sample #: 199 reconstruction error: 0.075403\n",
      "Epoch: 0 batch #: 246  of 300 sample #: 199 reconstruction error: 0.092251\n",
      "Epoch: 0 batch #: 247  of 300 sample #: 199 reconstruction error: 0.040283\n",
      "Epoch: 0 batch #: 248  of 300 sample #: 199 reconstruction error: 0.071904\n",
      "Epoch: 0 batch #: 249  of 300 sample #: 199 reconstruction error: 0.040299\n",
      "Epoch: 0 batch #: 250  of 300 sample #: 199 reconstruction error: 0.081374\n",
      "Epoch: 0 batch #: 251  of 300 sample #: 199 reconstruction error: 0.051642\n",
      "Epoch: 0 batch #: 252  of 300 sample #: 199 reconstruction error: 0.070982\n",
      "Epoch: 0 batch #: 253  of 300 sample #: 199 reconstruction error: 0.054325\n",
      "Epoch: 0 batch #: 254  of 300 sample #: 199 reconstruction error: 0.030433\n",
      "Epoch: 0 batch #: 255  of 300 sample #: 199 reconstruction error: 0.047114\n",
      "Epoch: 0 batch #: 256  of 300 sample #: 199 reconstruction error: 0.095972\n",
      "Epoch: 0 batch #: 257  of 300 sample #: 199 reconstruction error: 0.084781\n",
      "Epoch: 0 batch #: 258  of 300 sample #: 199 reconstruction error: 0.081766\n",
      "Epoch: 0 batch #: 259  of 300 sample #: 199 reconstruction error: 0.069261\n",
      "Epoch: 0 batch #: 260  of 300 sample #: 199 reconstruction error: 0.083317\n",
      "Epoch: 0 batch #: 261  of 300 sample #: 199 reconstruction error: 0.036883\n",
      "Epoch: 0 batch #: 262  of 300 sample #: 199 reconstruction error: 0.056994\n",
      "Epoch: 0 batch #: 263  of 300 sample #: 199 reconstruction error: 0.092077\n",
      "Epoch: 0 batch #: 264  of 300 sample #: 199 reconstruction error: 0.080822\n",
      "Epoch: 0 batch #: 265  of 300 sample #: 199 reconstruction error: 0.064996\n",
      "Epoch: 0 batch #: 266  of 300 sample #: 199 reconstruction error: 0.038635\n",
      "Epoch: 0 batch #: 267  of 300 sample #: 199 reconstruction error: 0.065035\n",
      "Epoch: 0 batch #: 268  of 300 sample #: 199 reconstruction error: 0.025815\n",
      "Epoch: 0 batch #: 269  of 300 sample #: 199 reconstruction error: 0.097802\n",
      "Epoch: 0 batch #: 270  of 300 sample #: 199 reconstruction error: 0.077815\n",
      "Epoch: 0 batch #: 271  of 300 sample #: 199 reconstruction error: 0.060254\n",
      "Epoch: 0 batch #: 272  of 300 sample #: 199 reconstruction error: 0.068619\n",
      "Epoch: 0 batch #: 273  of 300 sample #: 199 reconstruction error: 0.054357\n",
      "Epoch: 0 batch #: 274  of 300 sample #: 199 reconstruction error: 0.058858\n",
      "Epoch: 0 batch #: 275  of 300 sample #: 199 reconstruction error: 0.079038\n",
      "Epoch: 0 batch #: 276  of 300 sample #: 199 reconstruction error: 0.074357\n",
      "Epoch: 0 batch #: 277  of 300 sample #: 199 reconstruction error: 0.089861\n",
      "Epoch: 0 batch #: 278  of 300 sample #: 199 reconstruction error: 0.052547\n",
      "Epoch: 0 batch #: 279  of 300 sample #: 199 reconstruction error: 0.049375\n",
      "Epoch: 0 batch #: 280  of 300 sample #: 199 reconstruction error: 0.081195\n",
      "Epoch: 0 batch #: 281  of 300 sample #: 199 reconstruction error: 0.083698\n",
      "Epoch: 0 batch #: 282  of 300 sample #: 199 reconstruction error: 0.107692\n",
      "Epoch: 0 batch #: 283  of 300 sample #: 199 reconstruction error: 0.049718\n",
      "Epoch: 0 batch #: 284  of 300 sample #: 199 reconstruction error: 0.044655\n",
      "Epoch: 0 batch #: 285  of 300 sample #: 199 reconstruction error: 0.059753\n",
      "Epoch: 0 batch #: 286  of 300 sample #: 199 reconstruction error: 0.085825\n",
      "Epoch: 0 batch #: 287  of 300 sample #: 199 reconstruction error: 0.069394\n",
      "Epoch: 0 batch #: 288  of 300 sample #: 199 reconstruction error: 0.031979\n",
      "Epoch: 0 batch #: 289  of 300 sample #: 199 reconstruction error: 0.092685\n",
      "Epoch: 0 batch #: 290  of 300 sample #: 199 reconstruction error: 0.121678\n",
      "Epoch: 0 batch #: 291  of 300 sample #: 199 reconstruction error: 0.105627\n",
      "Epoch: 0 batch #: 292  of 300 sample #: 199 reconstruction error: 0.060393\n",
      "Epoch: 0 batch #: 293  of 300 sample #: 199 reconstruction error: 0.063583\n",
      "Epoch: 0 batch #: 294  of 300 sample #: 199 reconstruction error: 0.084592\n",
      "Epoch: 0 batch #: 295  of 300 sample #: 199 reconstruction error: 0.067609\n",
      "Epoch: 0 batch #: 296  of 300 sample #: 199 reconstruction error: 0.026388\n",
      "Epoch: 0 batch #: 297  of 300 sample #: 199 reconstruction error: 0.101560\n",
      "Epoch: 0 batch #: 298  of 300 sample #: 199 reconstruction error: 0.047810\n",
      "Epoch: 0 batch #: 299  of 300 sample #: 199 reconstruction error: 0.054382\n",
      "Epoch: 0 batch #: 300  of 300 sample #: 199 reconstruction error: 0.072515\n"
     ]
    }
   ],
   "source": [
    "#Parameters\n",
    "alpha = 0.01\n",
    "epochs = 1\n",
    "batchsize = 200\n",
    "weights = []\n",
    "errors = []\n",
    "batch_number = 0\n",
    "K = 1\n",
    "\n",
    "#creating datasets\n",
    "train_ds = \\\n",
    "    tf.data.Dataset.from_tensor_slices((trX, trY)).batch(batchsize)\n",
    "\n",
    "for epoch in range(epochs):\n",
    "    for batch_x, batch_y in train_ds:\n",
    "        batch_number += 1\n",
    "        for i_sample in range(batchsize):           \n",
    "            for k in range(K):\n",
    "                v0_state = batch_x[i_sample]\n",
    "                h0_state = hidden_layer(v0_state, W, hb)\n",
    "                v1_state = reconstructed_output(h0_state, W, vb)\n",
    "                h1_state = hidden_layer(v1_state, W, hb)\n",
    "\n",
    "                delta_W = tf.matmul(tf.transpose([v0_state]), h0_state) - tf.matmul(tf.transpose([v1_state]), h1_state)\n",
    "                W = W + alpha * delta_W\n",
    "\n",
    "                vb = vb + alpha * tf.reduce_mean(v0_state - v1_state, 0)\n",
    "                hb = hb + alpha * tf.reduce_mean(h0_state - h1_state, 0) \n",
    "\n",
    "                v0_state = v1_state\n",
    "\n",
    "            if i_sample == batchsize-1:\n",
    "                err = error(batch_x[i_sample], v1_state)\n",
    "                errors.append(err)\n",
    "                weights.append(W)\n",
    "                print ( 'Epoch: %d' % epoch, \n",
    "                       \"batch #: %i \" % batch_number, \"of %i\" % int(60e3/batchsize), \n",
    "                       \"sample #: %i\" % i_sample,\n",
    "                       'reconstruction error: %f' % err)\n",
    "\n"
   ]
  },
  {
   "cell_type": "markdown",
   "metadata": {},
   "source": [
    "Let's take a look at the errors at the end of each batch:\n"
   ]
  },
  {
   "cell_type": "code",
   "execution_count": 20,
   "metadata": {},
   "outputs": [
    {
     "data": {
      "image/png": "[encoded data removed]",
      "text/plain": [
       "<Figure size 640x480 with 1 Axes>"
      ]
     },
     "metadata": {},
     "output_type": "display_data"
    }
   ],
   "source": [
    "plt.plot(errors)\n",
    "plt.xlabel(\"Batch Number\")\n",
    "plt.ylabel(\"Error\")\n",
    "plt.show()"
   ]
  },
  {
   "cell_type": "markdown",
   "metadata": {},
   "source": [
    "What is the final weight matrix $W$ after training?\n"
   ]
  },
  {
   "cell_type": "code",
   "execution_count": 21,
   "metadata": {},
   "outputs": [
    {
     "name": "stdout",
     "output_type": "stream",
     "text": [
      "[[-0.36999992 -0.25000003 -0.41999987 ... -0.3999999  -0.3799999\n",
      "  -0.40999988]\n",
      " [-0.3999999  -0.20000002 -0.4899998  ... -0.29999998 -0.32999995\n",
      "  -0.46999982]\n",
      " [-0.42999986 -0.16       -0.4799998  ... -0.41999987 -0.3799999\n",
      "  -0.3799999 ]\n",
      " ...\n",
      " [-0.4999998  -0.23000003 -0.41999987 ... -0.41999987 -0.3899999\n",
      "  -0.44999984]\n",
      " [-0.40999988 -0.20000002 -0.43999985 ... -0.32999995 -0.35999992\n",
      "  -0.3999999 ]\n",
      " [-0.36999992 -0.18       -0.46999982 ... -0.41999987 -0.33999994\n",
      "  -0.40999988]]\n"
     ]
    }
   ],
   "source": [
    "print(W.numpy()) # a weight matrix of shape (50,784)"
   ]
  },
  {
   "cell_type": "markdown",
   "metadata": {},
   "source": [
    "<a id=\"ref5\"></a>\n",
    "\n",
    "<h3>Learned features</h3> \n"
   ]
  },
  {
   "cell_type": "markdown",
   "metadata": {},
   "source": [
    "We can take each hidden unit and visualize the connections between that hidden unit and each element in the input vector. In our case, we have 50 hidden units. Lets visualize those.\n"
   ]
  },
  {
   "cell_type": "markdown",
   "metadata": {},
   "source": [
    "Let's plot the current weights: <b>tile_raster_images</b> helps in generating an easy to grasp image from a set of samples or weights. It transforms the <b>uw</b> (with one flattened image per row of size 784), into an array (of size $28\\times28$) in which images are reshaped and laid out like tiles on a floor.\n"
   ]
  },
  {
   "cell_type": "code",
   "execution_count": 22,
   "metadata": {},
   "outputs": [
    {
     "data": {
      "image/png": "[encoded data removed]",
      "text/plain": [
       "<Figure size 1800x1800 with 1 Axes>"
      ]
     },
     "metadata": {},
     "output_type": "display_data"
    }
   ],
   "source": [
    "tile_raster_images(X=W.numpy().T, img_shape=(28, 28), tile_shape=(5, 10), tile_spacing=(1, 1))\n",
    "import matplotlib.pyplot as plt\n",
    "from PIL import Image\n",
    "%matplotlib inline\n",
    "image = Image.fromarray(tile_raster_images(X=W.numpy().T, img_shape=(28, 28) ,tile_shape=(5, 10), tile_spacing=(1, 1)))\n",
    "### Plot image\n",
    "plt.rcParams['figure.figsize'] = (18.0, 18.0)\n",
    "imgplot = plt.imshow(image)\n",
    "imgplot.set_cmap('gray')  "
   ]
  },
  {
   "cell_type": "markdown",
   "metadata": {},
   "source": [
    "Each tile in the above visualization corresponds to a vector of connections between a hidden unit and visible layer's units.\n"
   ]
  },
  {
   "cell_type": "markdown",
   "metadata": {},
   "source": [
    "Let's look at one of the learned weights corresponding to one of hidden units for example. In this particular square, the gray color represents weight = 0, and the whiter it is, the more positive the weights are (closer to 1). Conversely, the darker pixels are, the more negative the weights. The positive pixels will increase the probability of activation in hidden units (after multiplying by input/visible pixels), and negative pixels will decrease the probability of a unit hidden to be 1 (activated). So, why is this important?  So we can see that this specific square (hidden unit) can detect a feature (e.g. a \"/\" shape) and if it exists in the input.\n"
   ]
  },
  {
   "cell_type": "code",
   "execution_count": 23,
   "metadata": {},
   "outputs": [
    {
     "data": {
      "image/png": "[encoded data removed]",
      "text/plain": [
       "<Figure size 400x400 with 1 Axes>"
      ]
     },
     "metadata": {},
     "output_type": "display_data"
    }
   ],
   "source": [
    "from PIL import Image\n",
    "image = Image.fromarray(tile_raster_images(X =W.numpy().T[10:11], img_shape=(28, 28),tile_shape=(1, 1), tile_spacing=(1, 1)))\n",
    "### Plot image\n",
    "plt.rcParams['figure.figsize'] = (4.0, 4.0)\n",
    "imgplot = plt.imshow(image)\n",
    "imgplot.set_cmap('gray')  "
   ]
  },
  {
   "cell_type": "markdown",
   "metadata": {},
   "source": [
    "Let's look at the reconstruction of an image now. Imagine that we have a destructed image of figure 3. Lets see if our trained network can fix it:\n",
    "\n",
    "First we plot the image:\n"
   ]
  },
  {
   "cell_type": "code",
   "execution_count": 24,
   "metadata": {},
   "outputs": [
    {
     "name": "stdout",
     "output_type": "stream",
     "text": [
      "--2022-09-03 00:31:25--  https://ibm.box.com/shared/static/vvm1b63uvuxq88vbw9znpwu5ol380mco.jpg\n",
      "Resolving ibm.box.com (ibm.box.com)... 74.112.186.144\n",
      "Connecting to ibm.box.com (ibm.box.com)|74.112.186.144|:443... connected.\n",
      "HTTP request sent, awaiting response... 301 Moved Permanently\n",
      "Location: /public/static/vvm1b63uvuxq88vbw9znpwu5ol380mco.jpg [following]\n",
      "--2022-09-03 00:31:26--  https://ibm.box.com/public/static/vvm1b63uvuxq88vbw9znpwu5ol380mco.jpg\n",
      "Reusing existing connection to ibm.box.com:443.\n",
      "HTTP request sent, awaiting response... 301 Moved Permanently\n",
      "Location: https://ibm.ent.box.com/public/static/vvm1b63uvuxq88vbw9znpwu5ol380mco.jpg [following]\n",
      "--2022-09-03 00:31:26--  https://ibm.ent.box.com/public/static/vvm1b63uvuxq88vbw9znpwu5ol380mco.jpg\n",
      "Resolving ibm.ent.box.com (ibm.ent.box.com)... 74.112.186.144\n",
      "Connecting to ibm.ent.box.com (ibm.ent.box.com)|74.112.186.144|:443... connected.\n",
      "HTTP request sent, awaiting response... 302 Found\n",
      "Location: https://dl2.boxcloud.com/d/1/b1!Y_0vbcfKjGWHsl3WHLb5cxtw__SsZWdPP-kUYwgvHmiOFh0IUoJeF8fNTxVlTItNnsMn0FdAy-vlAHrVrZuT0P8H9a6xrZuuPGkdZ5tKT_2OBTr7e-OGg58aWUbz7W0pN4545vFx2WlAkqShZPi6qj0ZcjwLuA_bPzBWC-K6F9mzQkFXHAe6tJoHschVUglLuOXHl66ytkCdFRheaLHj5qkA_kzF8k30nKHcYsPTedtrL5UFedu8sgrmco_QKQyRrgznPZwm_JklIc3hPYhNwahd_iM0o0C7V37UQ68SoNmYiuzI_OmBHagWXbE-TJsZK-iH4oeRwee43_XqHu4Eor7NpaV9RGgFhFDKij1kdCYExhO_CjfWFB63vwPYZzEmsQ45xSMUPsEfpAcTe_i00yYrPIi1hNQHIS8MYg9m2EVC28mZ4VHW3lPBtKRmobeZeAs8MAcXPwnjr99rwG5Yj-45C_nzF2XuzL1EYGng0SdukjawEtYNpbZIpyaFCT9M7MffwxwbndsnwjommJtwI4HoxqU_uBjDokpo88zONkNpKuA4YyPOmIxDrYQlS478VHhqjn0iDrsrp_V_CllnrazwAdpZcOzZCMD4jr9Ou6JD0GkpQyThsqZRS0adHiDdYi8XUlUp9W32uWq8g5JD_UDRfxc5b9e_2yhw0MXR430WFzHvpI27v6RcxSi8Gm2qughkxbfRPepP4fQ2EoUa8H_QkYoYV6jKcOEx0F0U2a_CHCLhffITEQLxYQqG1rpgxyN9Tf5G5SbcEn_2IpZIbqwngMenqIo0UUfoE_MncOwjR7gROykfOa1-m8ByeTL-avIAwzpD1PGU0jQGJOebbc7yxN-PYJaA0WY5sC4nBpTF9VwDe5RWyALT10p7Kus1Y-tb7sf3HEwR955NI52ch6x7VD_vu1v7Wlykgnb5L3qx8YBKN6eNF5Mp3QnIhEhpJ4iVqiNHlFytFB4G2iuYXCpTbXWH-eVQOtPwb5KKYSUWipB7LnUeRmuY0vpw6Th4I-a6OR0EgGMxoRMQYY2hZXc6N2ZZeRfuKS-xsR8m2OiwXx5f2H_QzHm6yop2fWVcVv1xvi4a7P0jOa8SR9rc34V0VhppgS5pKmf8B3pEHrcWP3oVK6yMkfnL02NhgnFS7m6g_ST_1t_IQmde_OLA6-3AHohrjRxLsXYypLbahGD-hRrOF4oK2vANKXCV5oXfGJ-iafSoxnOE38AapBWgLZ8tlYJOMus5wPpXUD1HvPefagbNJ-J_ZxNWFtaFFCLj9Wpha2V4z66jZewDtnEqZ3PMm7kPVaGtofwU0eXS9eYRDgVjyGPltC8x8hYv7Vo2xzaki7_k2vBPYcilv_Cw-GXO0Yld7-XH2OKMGxdIlc_uiqrP0qTzeAdRek1ONtnfihRynvOTZCcab_64Fy5nBmeU/download [following]\n",
      "--2022-09-03 00:31:28--  https://dl2.boxcloud.com/d/1/b1!Y_0vbcfKjGWHsl3WHLb5cxtw__SsZWdPP-kUYwgvHmiOFh0IUoJeF8fNTxVlTItNnsMn0FdAy-vlAHrVrZuT0P8H9a6xrZuuPGkdZ5tKT_2OBTr7e-OGg58aWUbz7W0pN4545vFx2WlAkqShZPi6qj0ZcjwLuA_bPzBWC-K6F9mzQkFXHAe6tJoHschVUglLuOXHl66ytkCdFRheaLHj5qkA_kzF8k30nKHcYsPTedtrL5UFedu8sgrmco_QKQyRrgznPZwm_JklIc3hPYhNwahd_iM0o0C7V37UQ68SoNmYiuzI_OmBHagWXbE-TJsZK-iH4oeRwee43_XqHu4Eor7NpaV9RGgFhFDKij1kdCYExhO_CjfWFB63vwPYZzEmsQ45xSMUPsEfpAcTe_i00yYrPIi1hNQHIS8MYg9m2EVC28mZ4VHW3lPBtKRmobeZeAs8MAcXPwnjr99rwG5Yj-45C_nzF2XuzL1EYGng0SdukjawEtYNpbZIpyaFCT9M7MffwxwbndsnwjommJtwI4HoxqU_uBjDokpo88zONkNpKuA4YyPOmIxDrYQlS478VHhqjn0iDrsrp_V_CllnrazwAdpZcOzZCMD4jr9Ou6JD0GkpQyThsqZRS0adHiDdYi8XUlUp9W32uWq8g5JD_UDRfxc5b9e_2yhw0MXR430WFzHvpI27v6RcxSi8Gm2qughkxbfRPepP4fQ2EoUa8H_QkYoYV6jKcOEx0F0U2a_CHCLhffITEQLxYQqG1rpgxyN9Tf5G5SbcEn_2IpZIbqwngMenqIo0UUfoE_MncOwjR7gROykfOa1-m8ByeTL-avIAwzpD1PGU0jQGJOebbc7yxN-PYJaA0WY5sC4nBpTF9VwDe5RWyALT10p7Kus1Y-tb7sf3HEwR955NI52ch6x7VD_vu1v7Wlykgnb5L3qx8YBKN6eNF5Mp3QnIhEhpJ4iVqiNHlFytFB4G2iuYXCpTbXWH-eVQOtPwb5KKYSUWipB7LnUeRmuY0vpw6Th4I-a6OR0EgGMxoRMQYY2hZXc6N2ZZeRfuKS-xsR8m2OiwXx5f2H_QzHm6yop2fWVcVv1xvi4a7P0jOa8SR9rc34V0VhppgS5pKmf8B3pEHrcWP3oVK6yMkfnL02NhgnFS7m6g_ST_1t_IQmde_OLA6-3AHohrjRxLsXYypLbahGD-hRrOF4oK2vANKXCV5oXfGJ-iafSoxnOE38AapBWgLZ8tlYJOMus5wPpXUD1HvPefagbNJ-J_ZxNWFtaFFCLj9Wpha2V4z66jZewDtnEqZ3PMm7kPVaGtofwU0eXS9eYRDgVjyGPltC8x8hYv7Vo2xzaki7_k2vBPYcilv_Cw-GXO0Yld7-XH2OKMGxdIlc_uiqrP0qTzeAdRek1ONtnfihRynvOTZCcab_64Fy5nBmeU/download\n",
      "Resolving dl2.boxcloud.com (dl2.boxcloud.com)... 74.112.186.130\n",
      "Connecting to dl2.boxcloud.com (dl2.boxcloud.com)|74.112.186.130|:443... connected.\n",
      "HTTP request sent, awaiting response... 200 OK\n",
      "Length: 24383 (24K) [image/jpeg]\n",
      "Saving to: ‘destructed3.jpg’\n",
      "\n",
      "destructed3.jpg     100%[===================>]  23,81K  --.-KB/s    in 0,03s   \n",
      "\n",
      "2022-09-03 00:31:29 (701 KB/s) - ‘destructed3.jpg’ saved [24383/24383]\n",
      "\n"
     ]
    },
    {
     "data": {
      "image/png": "[encoded data removed]",
      "text/plain": [
       "<PIL.JpegImagePlugin.JpegImageFile image mode=RGB size=181x181>"
      ]
     },
     "execution_count": 24,
     "metadata": {},
     "output_type": "execute_result"
    }
   ],
   "source": [
    "!wget -O destructed3.jpg  https://ibm.box.com/shared/static/vvm1b63uvuxq88vbw9znpwu5ol380mco.jpg\n",
    "img = Image.open('destructed3.jpg')\n",
    "img"
   ]
  },
  {
   "cell_type": "markdown",
   "metadata": {},
   "source": [
    "Now let's pass this image through the neural net:\n"
   ]
  },
  {
   "cell_type": "code",
   "execution_count": 25,
   "metadata": {},
   "outputs": [],
   "source": [
    "# convert the image to a 1d numpy array\n",
    "sample_case = np.array(img.convert('I').resize((28,28))).ravel().reshape((1, -1))/255.0\n",
    "\n",
    "sample_case = tf.cast(sample_case, dtype=tf.float32)"
   ]
  },
  {
   "cell_type": "markdown",
   "metadata": {},
   "source": [
    "Feed the sample case into the network and reconstruct the output:\n"
   ]
  },
  {
   "cell_type": "code",
   "execution_count": 26,
   "metadata": {},
   "outputs": [
    {
     "name": "stdout",
     "output_type": "stream",
     "text": [
      "Probability nodes in hidden layer: tf.Tensor(\n",
      "[[9.9999690e-01 3.0265688e-15 5.1858833e-06 3.6445200e-02 1.2929531e-06\n",
      "  2.7657029e-17 1.0271856e-12 1.7510242e-09 9.9929512e-01 9.9786144e-01\n",
      "  6.7736019e-14 2.0969233e-01 6.7808603e-16 6.8748152e-10 9.9999833e-01\n",
      "  3.8769522e-03 1.5923089e-03 1.4102286e-02 1.0000000e+00 9.9999511e-01\n",
      "  9.4178671e-01 1.6618769e-08 2.2757459e-02 3.0804439e-09 9.4944763e-01\n",
      "  4.6435438e-09 4.9953751e-08 2.5391340e-16 5.5163637e-06 9.1158410e-07\n",
      "  1.0000000e+00 1.4453714e-07 9.9960202e-01 8.8173811e-06 7.5906099e-09\n",
      "  1.6446493e-13 8.9179183e-04 9.7773600e-01 9.2194705e-07 1.0000000e+00\n",
      "  1.0000000e+00 9.7353292e-01 2.6125098e-03 1.0000000e+00 3.2559230e-10\n",
      "  1.8800755e-14 9.9999976e-01 2.0798540e-04 8.8634241e-01 1.1003195e-04]], shape=(1, 50), dtype=float32)\n",
      "activated nodes in hidden layer: tf.Tensor(\n",
      "[[1. 0. 0. 0. 0. 0. 0. 0. 1. 1. 0. 0. 0. 0. 1. 0. 0. 0. 1. 1. 1. 0. 0. 0.\n",
      "  1. 0. 0. 0. 0. 0. 1. 0. 1. 0. 0. 0. 0. 1. 0. 1. 1. 1. 0. 1. 0. 0. 1. 0.\n",
      "  1. 0.]], shape=(1, 50), dtype=float32)\n",
      "tf.Tensor(\n",
      "[[3.51599971e-04 2.65756535e-04 4.12581110e-04 4.33725538e-04\n",
      "  3.73333547e-04 3.96410062e-04 2.99629493e-04 2.65756302e-04\n",
      "  3.18151462e-04 4.51418018e-04 4.33725334e-04 2.73847749e-04\n",
      "  3.84910061e-04 3.08957475e-04 3.55424883e-04 3.38534068e-04\n",
      "  3.69620073e-04 3.73333547e-04 2.99629493e-04 5.56845742e-04\n",
      "  3.44640081e-04 6.53401308e-04 2.79378146e-04 3.18151462e-04\n",
      "  5.97197621e-04 3.41212086e-04 3.44640197e-04 3.34458047e-04\n",
      "  3.92467162e-04 3.51599825e-04 2.42888709e-04 5.03881602e-04\n",
      "  4.48332226e-04 3.18101695e-04 2.50107318e-04 1.85594341e-04\n",
      "  3.67741333e-04 3.54909542e-04 3.87954991e-04 3.49950162e-04\n",
      "  3.33790405e-04 3.72325216e-04 2.47222022e-04 3.86604050e-04\n",
      "  4.22632555e-04 7.20827724e-04 6.06800197e-04 5.23469469e-04\n",
      "  3.49470094e-04 4.36539878e-04 4.28822794e-04 4.85463708e-04\n",
      "  2.96648941e-04 3.14986712e-04 2.42888709e-04 2.65756302e-04\n",
      "  4.25140868e-04 3.51599971e-04 3.79947945e-04 5.25566342e-04\n",
      "  2.25505763e-04 3.65356042e-04 4.12904774e-04 3.61537968e-04\n",
      "  1.90519742e-04 9.86920204e-05 8.73445242e-05 6.14894889e-05\n",
      "  8.65706170e-05 1.39995638e-04 1.66513943e-04 3.91670881e-04\n",
      "  2.10620405e-04 1.51975779e-04 1.15059040e-04 8.40649518e-05\n",
      "  1.12497357e-04 2.04306940e-04 4.30575165e-04 4.85406985e-04\n",
      "  4.32689616e-04 4.50110674e-04 2.57904350e-04 2.87884235e-04\n",
      "  2.60495464e-04 3.18151462e-04 3.40330182e-04 2.84573820e-04\n",
      "  2.74503604e-04 4.88709833e-04 2.44983530e-04 9.28031805e-05\n",
      "  8.30298013e-05 1.04519459e-04 4.03170343e-05 7.78407484e-05\n",
      "  6.86183703e-05 2.55352643e-04 3.85578111e-04 7.73031614e-04\n",
      "  8.91995383e-04 9.18670034e-04 5.77500265e-04 5.74928650e-04\n",
      "  9.19018988e-04 4.62543423e-04 5.18202200e-04 4.53013810e-04\n",
      "  7.05014740e-04 2.91541510e-04 5.05503500e-04 3.84698767e-04\n",
      "  3.05680413e-04 3.02450149e-04 3.15505778e-04 5.91166376e-04\n",
      "  6.03006338e-04 3.48444621e-04 2.80498556e-04 1.74872024e-04\n",
      "  1.19239070e-04 1.40502205e-04 9.66099833e-05 2.33848259e-04\n",
      "  6.04411238e-04 2.94691767e-03 5.86112263e-03 2.25929171e-02\n",
      "  7.14802220e-02 5.91731295e-02 2.61782557e-02 1.54997623e-02\n",
      "  9.76603292e-03 6.50512660e-03 1.31600983e-02 2.19975337e-02\n",
      "  7.57682882e-03 1.66694261e-03 5.20645815e-04 3.27978953e-04\n",
      "  3.11853772e-04 3.55132273e-04 3.14431672e-04 4.26058337e-04\n",
      "  1.00511906e-03 3.58084537e-04 4.64927318e-04 6.24960638e-04\n",
      "  7.31369539e-04 5.19573223e-04 2.21808907e-03 5.03467582e-03\n",
      "  3.32182944e-02 1.59600064e-01 5.88499308e-01 7.30897069e-01\n",
      "  7.44693041e-01 7.69102931e-01 5.11073768e-01 4.59276408e-01\n",
      "  2.18840182e-01 1.91268235e-01 1.37183711e-01 6.30946904e-02\n",
      "  1.34285139e-02 7.39701418e-03 8.49346805e-04 2.86319642e-04\n",
      "  2.79378146e-04 3.71523172e-04 3.05656227e-04 1.11502432e-03\n",
      "  1.02191546e-03 1.15333044e-03 2.24509067e-03 1.37806463e-03\n",
      "  2.24477262e-03 3.74933518e-03 6.28451584e-03 8.50705728e-02\n",
      "  3.58064920e-01 7.74501085e-01 9.21460748e-01 9.67998505e-01\n",
      "  9.51082110e-01 9.18164909e-01 8.44264627e-01 8.46073747e-01\n",
      "  7.73148537e-01 5.89871764e-01 4.93717045e-01 1.92393690e-01\n",
      "  7.96858966e-02 1.37831271e-02 3.61099513e-03 2.71081226e-04\n",
      "  3.56164004e-04 4.88058751e-04 7.79592257e-04 1.25646952e-03\n",
      "  2.07338040e-03 3.70670180e-03 6.70272624e-03 3.36943753e-03\n",
      "  3.78198153e-03 1.36076063e-02 7.58589506e-02 4.13679212e-01\n",
      "  7.91963935e-01 9.27333295e-01 9.39143777e-01 8.91767502e-01\n",
      "  7.56979108e-01 5.85044861e-01 5.92266560e-01 8.19680452e-01\n",
      "  9.18981373e-01 7.34055877e-01 3.30898792e-01 1.73977181e-01\n",
      "  4.43326570e-02 9.67377424e-03 3.27449967e-03 5.55254985e-04\n",
      "  2.80167966e-04 3.43574706e-04 1.36840111e-03 1.84121623e-03\n",
      "  4.79019759e-03 6.41121343e-03 6.78199017e-03 1.02300933e-02\n",
      "  7.76906637e-03 2.64888946e-02 2.16371119e-01 6.94268346e-01\n",
      "  8.95782888e-01 8.49178493e-01 6.72196269e-01 2.83275127e-01\n",
      "  1.57970235e-01 1.35537893e-01 2.02654168e-01 6.97903931e-01\n",
      "  8.78459096e-01 6.58875167e-01 4.69650298e-01 1.11845054e-01\n",
      "  2.07902938e-02 2.39028083e-03 2.57488899e-03 3.92436661e-04\n",
      "  4.87045618e-04 5.16236119e-04 8.30653124e-04 2.84037227e-03\n",
      "  2.96220323e-03 3.29314684e-03 3.71809630e-03 5.75991021e-03\n",
      "  1.39688533e-02 6.71890378e-02 4.03973967e-01 7.45276630e-01\n",
      "  4.87791508e-01 2.29835182e-01 7.44609088e-02 2.30537336e-02\n",
      "  1.48256235e-02 4.46277969e-02 2.57265002e-01 6.76923275e-01\n",
      "  7.75648534e-01 6.38767302e-01 2.47574657e-01 3.08775678e-02\n",
      "  1.82873178e-02 4.25761798e-03 1.01907609e-03 6.97266136e-04\n",
      "  2.95476697e-04 3.33541626e-04 7.55385496e-04 1.65155181e-03\n",
      "  1.81588309e-03 3.05566634e-03 2.60817306e-03 2.88936775e-03\n",
      "  5.32794558e-03 4.89562601e-02 2.32801110e-01 3.08024794e-01\n",
      "  2.54875511e-01 7.76313990e-02 3.61265428e-02 9.90883168e-03\n",
      "  6.53992370e-02 1.87670201e-01 8.16223025e-01 8.98490846e-01\n",
      "  7.21715271e-01 4.63378727e-01 5.79003729e-02 2.07078233e-02\n",
      "  4.07338655e-03 1.53321039e-03 7.46850506e-04 4.50569758e-04\n",
      "  4.49176499e-04 6.42734522e-04 9.35798977e-04 1.08028681e-03\n",
      "  1.58845726e-03 2.30254512e-03 2.02456047e-03 2.75063934e-03\n",
      "  4.40497650e-03 1.87325757e-02 1.32090792e-01 3.84540498e-01\n",
      "  3.47415566e-01 3.23349476e-01 1.45541042e-01 2.82512426e-01\n",
      "  5.11207402e-01 6.99995756e-01 8.59753966e-01 7.74845064e-01\n",
      "  2.22722277e-01 3.38150449e-02 8.07017554e-03 3.60968430e-03\n",
      "  1.67973386e-03 1.43121532e-03 1.13276648e-03 3.41760955e-04\n",
      "  4.63503151e-04 3.23395478e-04 1.08431419e-03 6.55018026e-04\n",
      "  7.27585691e-04 2.12598778e-03 1.49749801e-03 3.78745771e-03\n",
      "  6.18951069e-03 2.32818928e-02 6.75790757e-02 3.49316508e-01\n",
      "  7.46677279e-01 8.90071690e-01 9.00170147e-01 9.14101899e-01\n",
      "  8.97015452e-01 9.10473764e-01 7.82290697e-01 5.31680882e-01\n",
      "  1.13477066e-01 1.27307074e-02 2.21398985e-03 1.15617889e-03\n",
      "  1.04315497e-03 8.63744528e-04 5.45868650e-04 2.23762137e-04\n",
      "  2.80794746e-04 4.40217293e-04 3.69982707e-04 4.41790588e-04\n",
      "  1.56462716e-03 3.43485223e-03 2.31461530e-03 4.06363653e-03\n",
      "  5.86378435e-03 1.46119278e-02 8.23608041e-02 4.54853177e-01\n",
      "  8.71918917e-01 9.79356110e-01 9.76721406e-01 9.73054469e-01\n",
      "  9.56073284e-01 7.95374513e-01 5.14720023e-01 2.26766840e-01\n",
      "  1.12865362e-02 1.90711743e-03 1.36557466e-03 1.17784145e-03\n",
      "  5.04084805e-04 3.32772062e-04 3.68549576e-04 4.74105531e-04\n",
      "  2.28200777e-04 3.33097065e-04 4.13244619e-04 8.08590092e-04\n",
      "  1.13214878e-03 2.45981291e-03 3.90140852e-03 2.60086381e-03\n",
      "  1.94888061e-03 2.99061439e-03 2.35444866e-02 2.92128861e-01\n",
      "  8.05394888e-01 8.90790224e-01 9.18539941e-01 8.00382793e-01\n",
      "  7.96865642e-01 6.91381812e-01 3.86249989e-01 4.30862792e-02\n",
      "  8.34988523e-03 3.04556964e-03 1.09490892e-03 6.61992934e-04\n",
      "  3.54901102e-04 2.79960484e-04 3.17055965e-04 3.40463739e-04\n",
      "  3.34812474e-04 3.20995576e-04 5.00221911e-04 1.07135100e-03\n",
      "  2.59938603e-03 2.94881500e-03 3.45646869e-03 3.07717873e-03\n",
      "  1.92862621e-03 1.27026916e-03 6.35880884e-03 7.68310279e-02\n",
      "  4.03523237e-01 4.78715152e-01 4.37920004e-01 3.54365557e-01\n",
      "  2.24531054e-01 7.18475223e-01 4.45788592e-01 6.60909414e-02\n",
      "  8.74181371e-03 1.67102239e-03 8.19989888e-04 5.89045172e-04\n",
      "  2.68829899e-04 1.50646389e-04 4.30389453e-04 4.05907776e-04\n",
      "  2.55990075e-04 2.97393999e-04 7.62851560e-04 3.19721503e-03\n",
      "  1.28127504e-02 1.34504829e-02 2.01780908e-02 5.02053974e-03\n",
      "  2.06778897e-03 2.04358436e-03 4.48835688e-03 2.62964759e-02\n",
      "  1.11078329e-01 6.60573095e-02 1.97533444e-02 2.66180150e-02\n",
      "  1.50029972e-01 5.51449597e-01 4.36624855e-01 8.93887132e-02\n",
      "  8.44030175e-03 4.30417759e-03 1.02373620e-03 5.73870377e-04\n",
      "  2.56656524e-04 2.53842765e-04 4.57600865e-04 4.42795717e-04\n",
      "  4.55952861e-04 4.44935431e-04 9.47902096e-04 8.03221855e-03\n",
      "  4.95910458e-02 4.06439342e-02 3.04548610e-02 8.86010099e-03\n",
      "  3.21059162e-03 2.64166412e-03 1.17833549e-02 4.86618429e-02\n",
      "  1.74668878e-02 5.44186542e-03 2.19917228e-03 1.06391376e-02\n",
      "  1.54634386e-01 5.09240985e-01 4.36509132e-01 1.02525435e-01\n",
      "  1.95546839e-02 3.06027289e-03 1.46872096e-03 9.48141038e-04\n",
      "  5.30165562e-04 1.14527706e-04 6.88200351e-04 3.15617101e-04\n",
      "  3.56136326e-04 3.86724627e-04 2.94717262e-03 2.06825808e-02\n",
      "  7.57302493e-02 1.21289514e-01 1.26791134e-01 3.32197919e-02\n",
      "  1.34046683e-02 1.94082279e-02 4.12712544e-02 2.34735198e-02\n",
      "  4.31952300e-03 1.17624830e-03 2.97964155e-03 5.12830988e-02\n",
      "  2.88389057e-01 8.18502605e-01 6.60453439e-01 9.13294777e-02\n",
      "  1.10989306e-02 1.13699888e-03 1.12298131e-03 6.50918926e-04\n",
      "  3.10140313e-04 3.37753620e-04 5.20299538e-04 4.54471825e-04\n",
      "  3.29965173e-04 4.87103185e-04 5.50602749e-03 6.39785677e-02\n",
      "  2.28899494e-01 5.42229056e-01 2.31962278e-01 1.08171009e-01\n",
      "  7.37921894e-02 4.56307717e-02 2.69055497e-02 8.99154041e-03\n",
      "  2.75755674e-03 6.48892112e-03 2.20717303e-02 1.98918745e-01\n",
      "  7.01068103e-01 8.21497560e-01 5.43124974e-01 5.33679537e-02\n",
      "  4.46125632e-03 8.66502989e-04 4.24249767e-04 3.43471183e-04\n",
      "  6.28568931e-04 3.43347463e-04 7.04683247e-04 3.67942936e-04\n",
      "  3.41212086e-04 5.99378487e-04 1.20055061e-02 1.67752728e-01\n",
      "  6.67937875e-01 6.03366554e-01 5.97791791e-01 4.77946967e-01\n",
      "  3.37354064e-01 1.51720285e-01 4.66502309e-02 1.80439763e-02\n",
      "  7.72308139e-03 2.81020328e-02 1.06510334e-01 6.29545510e-01\n",
      "  8.60281706e-01 5.70347607e-01 1.17112383e-01 2.31967736e-02\n",
      "  1.76588050e-03 5.82009030e-04 6.02024375e-04 3.34134878e-04\n",
      "  6.70579320e-04 4.26393992e-04 5.10882353e-04 3.52137868e-04\n",
      "  3.82323633e-04 3.68390640e-04 7.09908968e-03 1.65119126e-01\n",
      "  6.18567050e-01 8.35140228e-01 8.66747439e-01 8.05730522e-01\n",
      "  6.07507467e-01 2.74764746e-01 9.40422714e-02 5.01047038e-02\n",
      "  1.10170797e-01 2.56151289e-01 6.60506308e-01 7.37027049e-01\n",
      "  8.00871134e-01 3.79541099e-01 3.19290273e-02 3.64978961e-03\n",
      "  4.57451737e-04 3.87693784e-04 3.05648922e-04 3.83825856e-04\n",
      "  4.84685705e-04 4.92826919e-04 4.45721409e-04 3.25302739e-04\n",
      "  3.09794239e-04 4.32231842e-04 2.17194250e-03 1.16795138e-01\n",
      "  3.28753084e-01 8.01614046e-01 8.98112595e-01 9.45156515e-01\n",
      "  8.88134480e-01 6.91726208e-01 5.06878495e-01 6.43186212e-01\n",
      "  7.79431641e-01 8.28931689e-01 8.29237938e-01 8.08329940e-01\n",
      "  4.11312491e-01 6.06552176e-02 2.26901546e-02 2.30017910e-03\n",
      "  4.21508361e-04 2.80405278e-04 5.69590542e-04 5.02405455e-04\n",
      "  6.04310364e-04 9.72541631e-04 2.86802941e-04 2.97417486e-04\n",
      "  3.73333343e-04 3.77084274e-04 9.40797734e-04 2.18871757e-02\n",
      "  2.13664949e-01 5.14559090e-01 8.26334000e-01 9.35599327e-01\n",
      "  9.42055345e-01 8.82396042e-01 9.33678687e-01 9.62009788e-01\n",
      "  9.20800745e-01 9.38415110e-01 5.85768521e-01 3.25415254e-01\n",
      "  8.32441673e-02 1.18828192e-02 4.86556534e-03 1.06610102e-03\n",
      "  3.36319266e-04 2.08721220e-04 8.60574597e-04 4.77257068e-04\n",
      "  1.04180223e-03 5.07668243e-04 5.02836134e-04 2.82185210e-04\n",
      "  3.80872312e-04 3.02639703e-04 5.94651618e-04 3.26656573e-03\n",
      "  3.13400030e-02 1.95950732e-01 4.49415058e-01 5.77878237e-01\n",
      "  8.11298549e-01 8.16917479e-01 8.51962805e-01 6.90036356e-01\n",
      "  5.30119240e-01 4.46303010e-01 1.22091725e-01 4.49409522e-02\n",
      "  3.74078937e-02 9.04716738e-03 1.03819231e-03 5.79542946e-04\n",
      "  2.68564763e-04 3.14310280e-04 3.49773065e-04 7.23545556e-04\n",
      "  5.99636696e-04 4.06991137e-04 3.03352601e-04 3.48102796e-04\n",
      "  4.00392484e-04 3.02639965e-04 2.50185811e-04 4.83735406e-04\n",
      "  1.60526414e-03 2.41650501e-03 1.16372323e-02 1.40801258e-02\n",
      "  3.85029987e-02 3.15759294e-02 2.38051694e-02 4.60095555e-02\n",
      "  3.88486907e-02 1.95988435e-02 1.60847455e-02 8.22478253e-03\n",
      "  9.40228440e-03 2.24288739e-03 6.57030265e-04 2.97348888e-04\n",
      "  3.12589284e-04 2.41455768e-04 3.92668124e-04 3.66030319e-04\n",
      "  4.75501351e-04 5.29993209e-04 3.64740583e-04 3.34458047e-04\n",
      "  3.11853772e-04 2.52798665e-04 5.19218971e-04 4.72843647e-04\n",
      "  3.81469872e-04 1.44257676e-03 1.19484391e-03 5.03411167e-04\n",
      "  2.91257573e-04 8.04964453e-04 3.09565314e-03 1.62291445e-03\n",
      "  2.00525415e-03 9.26117820e-04 1.05561782e-03 1.24064414e-03\n",
      "  1.74753624e-03 8.90341704e-04 4.52537584e-04 2.53077218e-04\n",
      "  2.79061613e-04 4.53298009e-04 6.15663128e-04 3.17752536e-04\n",
      "  4.97094064e-04 3.95820010e-04 3.80872487e-04 5.03881602e-04\n",
      "  3.24576627e-04 3.65943590e-04 2.57904117e-04 4.88997088e-04\n",
      "  6.08180824e-04 6.17669371e-04 4.32893430e-04 3.96752352e-04\n",
      "  6.35371660e-04 1.23485434e-03 1.21747062e-03 1.20778265e-03\n",
      "  1.30022480e-03 8.01525486e-04 6.26348134e-04 5.27115830e-04\n",
      "  8.61448003e-04 6.45107997e-04 4.74440516e-04 6.77044503e-04\n",
      "  3.67021072e-04 3.20254010e-04 3.83554434e-04 2.98550469e-04\n",
      "  3.14987032e-04 3.65943910e-04 3.92467162e-04 4.46928199e-04]], shape=(1, 784), dtype=float32)\n"
     ]
    }
   ],
   "source": [
    "hh0_p = tf.nn.sigmoid(tf.matmul(sample_case, W) + hb)\n",
    "hh0_s = tf.round(hh0_p)\n",
    "\n",
    "print(\"Probability nodes in hidden layer:\" ,hh0_p)\n",
    "print(\"activated nodes in hidden layer:\" ,hh0_s)\n",
    "\n",
    "# reconstruct\n",
    "vv1_p = tf.nn.sigmoid(tf.matmul(hh0_s, tf.transpose(W)) + vb)\n",
    "\n",
    "print(vv1_p)\n",
    "#rec_prob = sess.run(vv1_p, feed_dict={ hh0_s: hh0_s_val, W: prv_w, vb: prv_vb})"
   ]
  },
  {
   "cell_type": "markdown",
   "metadata": {},
   "source": [
    "Here we plot the reconstructed image:\n"
   ]
  },
  {
   "cell_type": "code",
   "execution_count": 27,
   "metadata": {},
   "outputs": [
    {
     "data": {
      "image/png": "[encoded data removed]",
      "text/plain": [
       "<Figure size 400x400 with 1 Axes>"
      ]
     },
     "metadata": {},
     "output_type": "display_data"
    }
   ],
   "source": [
    "img = Image.fromarray(tile_raster_images(X=vv1_p.numpy(), img_shape=(28, 28),tile_shape=(1, 1), tile_spacing=(1, 1)))\n",
    "plt.rcParams['figure.figsize'] = (4.0, 4.0)\n",
    "imgplot = plt.imshow(img)\n",
    "imgplot.set_cmap('gray') "
   ]
  },
  {
   "cell_type": "markdown",
   "metadata": {},
   "source": [
    "<hr>\n",
    "\n",
    "## Want to learn more?\n",
    "\n",
    "Also, you can use **Watson Studio** to run these notebooks faster with bigger datasets.**Watson Studio** is IBM’s leading cloud solution for data scientists, built by data scientists. With Jupyter notebooks, RStudio, Apache Spark and popular libraries pre-packaged in the cloud, **Watson Studio** enables data scientists to collaborate on their projects without having to install anything. Join the fast-growing community of **Watson Studio** users today with a free account at [Watson Studio](https://cocl.us/ML0120EN_DSX).This is the end of this lesson. Thank you for reading this notebook, and good luck on your studies.\n"
   ]
  },
  {
   "cell_type": "markdown",
   "metadata": {},
   "source": [
    "### Thanks for completing this lesson!\n",
    "\n",
    "Notebook created by: <a href = \"https://ca.linkedin.com/in/saeedaghabozorgi?utm_medium=Exinfluencer&utm_source=Exinfluencer&utm_content=000026UJ&utm_term=10006555&utm_id=NA-SkillsNetwork-Channel-SkillsNetworkCoursesIBMDeveloperSkillsNetworkDL0120ENSkillsNetwork20629446-2022-01-01\">Saeed Aghabozorgi</a>\n",
    "\n",
    "Updated to TF 2.X by  <a href=\"https://ca.linkedin.com/in/nilmeier?utm_medium=Exinfluencer&utm_source=Exinfluencer&utm_content=000026UJ&utm_term=10006555&utm_id=NA-SkillsNetwork-Channel-SkillsNetworkCoursesIBMDeveloperSkillsNetworkDL0120ENSkillsNetwork20629446-2022-01-01\"> Jerome Nilmeier</a><br />\n"
   ]
  },
  {
   "cell_type": "markdown",
   "metadata": {},
   "source": [
    "### References:\n",
    "\n",
    "[https://en.wikipedia.org/wiki/Restricted_Boltzmann_machine](https://en.wikipedia.org/wiki/Restricted_Boltzmann_machine?utm_medium=Exinfluencer&utm_source=Exinfluencer&utm_content=000026UJ&utm_term=10006555&utm_id=NA-SkillsNetwork-Channel-SkillsNetworkCoursesIBMDeveloperSkillsNetworkDL0120ENSkillsNetwork20629446-2022-01-01)\\\n",
    "[http://deeplearning.net/tutorial/rbm.html](http://deeplearning.net/tutorial/rbm.html?utm_medium=Exinfluencer&utm_source=Exinfluencer&utm_content=000026UJ&utm_term=10006555&utm_id=NA-SkillsNetwork-Channel-SkillsNetworkCoursesIBMDeveloperSkillsNetworkDL0120ENSkillsNetwork20629446-2022-01-01)\\\n",
    "[http://www.cs.utoronto.ca/\\~hinton/absps/netflixICML.pdf](http://www.cs.utoronto.ca/\\~hinton/absps/netflixICML.pdf?utm_medium=Exinfluencer&utm_source=Exinfluencer&utm_content=000026UJ&utm_term=10006555&utm_id=NA-SkillsNetwork-Channel-SkillsNetworkCoursesIBMDeveloperSkillsNetworkDL0120ENSkillsNetwork20629446-2022-01-01)<br>\n",
    "<http://imonad.com/rbm/restricted-boltzmann-machine/>\n"
   ]
  },
  {
   "cell_type": "markdown",
   "metadata": {},
   "source": [
    "<hr>\n",
    "\n",
    "Copyright © 2018 [Cognitive Class](https://cocl.us/DX0108EN_CC). This notebook and its source code are released under the terms of the [MIT License](https://bigdatauniversity.com/mit-license/?utm_medium=Exinfluencer&utm_source=Exinfluencer&utm_content=000026UJ&utm_term=10006555&utm_id=NA-SkillsNetwork-Channel-SkillsNetworkCoursesIBMDeveloperSkillsNetworkDL0120ENSkillsNetwork20629446-2022-01-01).\n"
   ]
  }
 ],
 "metadata": {
  "kernelspec": {
   "display_name": "Python4TF",
   "language": "python",
   "name": "python4tf"
  },
  "language_info": {
   "codemirror_mode": {
    "name": "ipython",
    "version": 3
   },
   "file_extension": ".py",
   "mimetype": "text/x-python",
   "name": "python",
   "nbconvert_exporter": "python",
   "pygments_lexer": "ipython3",
   "version": "3.8.10"
  },
  "widgets": {
   "state": {},
   "version": "1.1.2"
  }
 },
 "nbformat": 4,
 "nbformat_minor": 4
}
