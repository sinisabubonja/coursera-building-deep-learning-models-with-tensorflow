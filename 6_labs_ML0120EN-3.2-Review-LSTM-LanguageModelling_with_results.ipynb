{
 "cells": [
  {
   "cell_type": "markdown",
   "metadata": {},
   "source": [
    "<a href=\"https://www.skills.network/?utm_medium=Exinfluencer&utm_source=Exinfluencer&utm_content=000026UJ&utm_term=10006555&utm_id=NA-SkillsNetwork-Channel-SkillsNetworkCoursesIBMDeveloperSkillsNetworkDL0120ENSkillsNetwork20629446-2022-01-01\"><img src=\"https://cf-courses-data.s3.us.cloud-object-storage.appdomain.cloud/IBM-DL0120ENedX/labs/Template%20for%20Instructional%20Hands-on%20Labs/images/IDSNlogo.png\" width=\"400px\" align=\"center\"></a>\n",
    "\n",
    "<h1 align=\"center\"><font size=\"5\">RECURRENT NETWORKS and LSTM IN DEEP LEARNING</font></h1>\n"
   ]
  },
  {
   "cell_type": "markdown",
   "metadata": {},
   "source": [
    "Estimated time needed: **30** minutes\n"
   ]
  },
  {
   "cell_type": "markdown",
   "metadata": {},
   "source": [
    "<h2>Applying Recurrent Neural Networks/LSTM for Language Modeling</h2>\n",
    "Hello and welcome to this part. In this notebook, we will go over the topic of Language Modelling, and create a Recurrent Neural Network model based on the Long Short-Term Memory unit to train and benchmark on the Penn Treebank dataset. By the end of this notebook, you should be able to understand how TensorFlow builds and executes a RNN model for Language Modelling.\n"
   ]
  },
  {
   "cell_type": "markdown",
   "metadata": {},
   "source": [
    "<h2>The Objective</h2>\n",
    "By now, you should have an understanding of how Recurrent Networks work -- a specialized model to process sequential data by keeping track of the \"state\" or context. In this notebook, we go over a TensorFlow code snippet for creating a model focused on <b>Language Modelling</b> -- a very relevant task that is the cornerstone of many different linguistic problems such as <b>Speech Recognition, Machine Translation and Image Captioning</b>. For this, we will be using the Penn Treebank dataset, which is an often-used dataset for benchmarking Language Modelling models.\n"
   ]
  },
  {
   "cell_type": "markdown",
   "metadata": {},
   "source": [
    "<h2>Table of Contents</h2>\n",
    "<ol>\n",
    "    <li><a href=\"https://#language_modelling\">What exactly is Language Modelling?</a></li>\n",
    "    <li><a href=\"https://#treebank_dataset\">The Penn Treebank dataset</a></li>\n",
    "    <li><a href=\"https://#word_embedding\">Word Embedding</a></li>\n",
    "    <li><a href=\"https://#building_lstm_model\">Building the LSTM model for Language Modeling</a></li>\n",
    "    <li><a href=\"https://#ltsm\">LTSM</a></li>\n",
    "</ol>\n",
    "<p></p>\n",
    "</div>\n",
    "<br>\n"
   ]
  },
  {
   "cell_type": "markdown",
   "metadata": {
    "button": false,
    "new_sheet": false,
    "run_control": {
     "read_only": false
    }
   },
   "source": [
    "***\n"
   ]
  },
  {
   "cell_type": "markdown",
   "metadata": {},
   "source": [
    "<a id=\"language_modelling\"></a>\n",
    "\n",
    "<h2>What exactly is Language Modelling?</h2>\n",
    "Language Modelling, to put it simply, <b>is the task of assigning probabilities to sequences of words</b>. This means that, given a context of one or a sequence of words in the language the model was trained on, the model should provide the next most probable words or sequence of words that follows from the given sequence of words the sentence. Language Modelling is one of the most important tasks in Natural Language Processing.\n",
    "\n",
    "<img src=\"https://ibm.box.com/shared/static/1d1i5gub6wljby2vani2vzxp0xsph702.png\" width=\"1080\">\n",
    "<center><i>Example of a sentence being predicted</i></center>\n",
    "<br><br>\n",
    "In this example, one can see the predictions for the next word of a sentence, given the context \"This is an\". As you can see, this boils down to a sequential data analysis task -- you are given a word or a sequence of words (the input data), and, given the context (the state), you need to find out what is the next word (the prediction). This kind of analysis is very important for language-related tasks such as <b>Speech Recognition, Machine Translation, Image Captioning, Text Correction</b> and many other very relevant problems. \n",
    "\n",
    "<img src=\"https://ibm.box.com/shared/static/az39idf9ipfdpc5ugifpgxnydelhyf3i.png\" width=\"1080\">\n",
    "<center><i>The above example is a schema of an RNN in execution</i></center>\n",
    "<br><br>\n",
    "As the above image shows, Recurrent Network models fit this problem like a glove. Alongside LSTM and its capacity to maintain the model's state for over one thousand time steps, we have all the tools we need to undertake this problem. The goal for this notebook is to create a model that can reach <b>low levels of perplexity</b> on our desired dataset.\n",
    "\n",
    "For Language Modelling problems, <b>perplexity</b> is the way to gauge efficiency. Perplexity is simply a measure of how well a probabilistic model is able to predict its sample. A higher-level way to explain this would be saying that <b>low perplexity means a higher degree of trust in the predictions the model makes</b>. Therefore, the lower perplexity is, the better.\n"
   ]
  },
  {
   "cell_type": "markdown",
   "metadata": {},
   "source": [
    "<a id=\"treebank_dataset\"></a>\n",
    "\n",
    "<h2>The Penn Treebank dataset</h2>\n",
    "Historically, datasets big enough for Natural Language Processing are hard to come by. This is in part due to the necessity of the sentences to be broken down and tagged with a certain degree of correctness -- or else the models trained on it won't be able to be correct at all. This means that we need a <b>large amount of data, annotated by or at least corrected by humans</b>. This is, of course, not an easy task at all.\n",
    "\n",
    "The Penn Treebank, or PTB for short, is a dataset maintained by the University of Pennsylvania. It is <i>huge</i> -- there are over <b>four million and eight hundred thousand</b> annotated words in it, all corrected by humans. It is composed of many different sources, from abstracts of Department of Energy papers to texts from the Library of America. Since it is verifiably correct and of such a huge size, the Penn Treebank is commonly used as a benchmark dataset for Language Modelling.\n",
    "\n",
    "The dataset is divided in different kinds of annotations, such as Piece-of-Speech, Syntactic and Semantic skeletons. For this example, we will simply use a sample of clean, non-annotated words (with the exception of one tag --<code>\\<unk></code>\n",
    ", which is used for rare words such as uncommon proper nouns) for our model. This means that we just want to predict what the next words would be, not what they mean in context or their classes on a given sentence.\n",
    "\n",
    "<center>Example of text from the dataset we are going to use, <b>ptb.train</b></center>\n",
    "<br><br>\n",
    "\n",
    "<div class=\"alert alert-block alert-info\" style=\"margin-top: 20px\">\n",
    "    <center>the percentage of lung cancer deaths among the workers at the west <code>&lt;unk&gt;</code> mass. paper factory appears to be the highest for any asbestos workers studied in western industrialized countries he said \n",
    " the plant which is owned by <code>&lt;unk&gt;</code> & <code>&lt;unk&gt;</code> co. was under contract with <code>&lt;unk&gt;</code> to make the cigarette filters \n",
    " the finding probably will support those who argue that the U.S. should regulate the class of asbestos including <code>&lt;unk&gt;</code> more <code>&lt;unk&gt;</code> than the common kind of asbestos <code>&lt;unk&gt;</code> found in most schools and other buildings dr. <code>&lt;unk&gt;</code> said</center>\n",
    "</div>\n"
   ]
  },
  {
   "cell_type": "markdown",
   "metadata": {
    "button": false,
    "new_sheet": false,
    "run_control": {
     "read_only": false
    }
   },
   "source": [
    "<a id=\"word_embedding\"></a>\n",
    "\n",
    "<h2>Word Embeddings</h2><br/>\n",
    "\n",
    "For better processing, in this example, we will make use of <a href=\"https://www.tensorflow.org/tutorials/word2vec/?utm_medium=Exinfluencer&utm_source=Exinfluencer&utm_content=000026UJ&utm_term=10006555&utm_id=NA-SkillsNetwork-Channel-SkillsNetworkCoursesIBMDeveloperSkillsNetworkDL0120ENSkillsNetwork20629446-2022-01-01\"><b>word embeddings</b></a>, which is <b>a way of representing sentence structures or words as n-dimensional vectors (where n is a reasonably high number, such as 200 or 500) of real numbers</b>. Basically, we will assign each word a randomly-initialized vector, and input those into the network to be processed. After a number of iterations, these vectors are expected to assume values that help the network to correctly predict what it needs to -- in our case, the probable next word in the sentence. This is shown to be a very effective task in Natural Language Processing, and is a commonplace practice. <br><br> <font size=\"4\"><strong>\n",
    "$$Vec(\"Example\") = \\[0.02, 0.00, 0.00, 0.92, 0.30, \\ldots]$$ </strong></font> <br>\n",
    "Word Embedding tends to group up similarly used words <i>reasonably</i> close together in the vectorial space. For example, if we use T-SNE (a dimensional reduction visualization algorithm) to flatten the dimensions of our vectors into a 2-dimensional space and plot these words in a 2-dimensional space, we might see something like this:\n",
    "\n",
    "<img src=\"https://ibm.box.com/shared/static/bqhc5dg879gcoabzhxra1w8rkg3od1cu.png\" width=\"800\">\n",
    "<center><i>T-SNE Mockup with clusters marked for easier visualization</i></center>\n",
    "<br><br>\n",
    "As you can see, words that are frequently used together, in place of each other, or in the same places as them tend to be grouped together -- being closer together the higher they are correlated. For example, \"None\" is pretty semantically close to \"Zero\", while a phrase that uses \"Italy\", you could probably also fit \"Germany\" in it, with little damage to the sentence structure. The vectorial \"closeness\" for similar words like this is a great indicator of a well-built model.\n",
    "\n",
    "<hr>\n"
   ]
  },
  {
   "cell_type": "markdown",
   "metadata": {
    "button": false,
    "new_sheet": false,
    "run_control": {
     "read_only": false
    }
   },
   "source": [
    "We need to import the necessary modules for our code. We need <b><code>numpy</code></b> and <b><code>tensorflow</code></b>, obviously. Additionally, we can import directly the <b><code>tensorflow\\.models.rnn</code></b> model, which includes the function for building RNNs, and <b><code>tensorflow\\.models.rnn.ptb.reader</code></b> which is the helper module for getting the input data from the dataset we just downloaded.\n",
    "\n",
    "If you want to learn more take a look at <https://github.com/tensorflow/models/blob/master/tutorials/rnn/ptb/reader.py>\n"
   ]
  },
  {
   "cell_type": "code",
   "execution_count": 1,
   "metadata": {
    "tags": []
   },
   "outputs": [],
   "source": [
    "#!pip install tensorflow==2.2.0rc0\n",
    "#!pip install numpy==1.21.4\n"
   ]
  },
  {
   "cell_type": "code",
   "execution_count": 2,
   "metadata": {},
   "outputs": [
    {
     "name": "stderr",
     "output_type": "stream",
     "text": [
      "2022-09-02 23:46:37.142384: I tensorflow/stream_executor/cuda/cuda_gpu_executor.cc:975] successful NUMA node read from SysFS had negative value (-1), but there must be at least one NUMA node, so returning NUMA node zero\n",
      "2022-09-02 23:46:37.207962: I tensorflow/stream_executor/cuda/cuda_gpu_executor.cc:975] successful NUMA node read from SysFS had negative value (-1), but there must be at least one NUMA node, so returning NUMA node zero\n",
      "2022-09-02 23:46:37.208210: I tensorflow/stream_executor/cuda/cuda_gpu_executor.cc:975] successful NUMA node read from SysFS had negative value (-1), but there must be at least one NUMA node, so returning NUMA node zero\n",
      "2022-09-02 23:46:37.756694: I tensorflow/stream_executor/cuda/cuda_gpu_executor.cc:975] successful NUMA node read from SysFS had negative value (-1), but there must be at least one NUMA node, so returning NUMA node zero\n",
      "2022-09-02 23:46:37.756912: I tensorflow/stream_executor/cuda/cuda_gpu_executor.cc:975] successful NUMA node read from SysFS had negative value (-1), but there must be at least one NUMA node, so returning NUMA node zero\n",
      "2022-09-02 23:46:37.757160: I tensorflow/stream_executor/cuda/cuda_gpu_executor.cc:975] successful NUMA node read from SysFS had negative value (-1), but there must be at least one NUMA node, so returning NUMA node zero\n",
      "2022-09-02 23:46:37.757313: I tensorflow/core/common_runtime/gpu/gpu_device.cc:1532] Created device /job:localhost/replica:0/task:0/device:GPU:0 with 2019 MB memory:  -> device: 0, name: NVIDIA GeForce GTX 1050 Ti, pci bus id: 0000:01:00.0, compute capability: 6.1\n"
     ]
    },
    {
     "name": "stdout",
     "output_type": "stream",
     "text": [
      "WARNING:tensorflow:From /tmp/ipykernel_16826/1622422657.py:11: The name tf.keras.backend.set_session is deprecated. Please use tf.compat.v1.keras.backend.set_session instead.\n",
      "\n"
     ]
    }
   ],
   "source": [
    "import time\n",
    "import numpy as np\n",
    "\n",
    "import tensorflow as tf\n",
    "config = tf.compat.v1.ConfigProto(gpu_options = \n",
    "                         tf.compat.v1.GPUOptions(per_process_gpu_memory_fraction=0.5)\n",
    "# device_count = {'GPU': 1}\n",
    ")\n",
    "config.gpu_options.allow_growth = True\n",
    "session = tf.compat.v1.Session(config=config)\n",
    "tf.compat.v1.keras.backend.set_session(session)\n",
    "\n",
    "#if not tf.__version__ == '2.2.0-rc0':\n",
    "#    print(tf.__version__)\n",
    "#    raise ValueError('please upgrade to TensorFlow 2.2.0-rc0, or restart your Kernel (Kernel->Restart & Clear Output)')"
   ]
  },
  {
   "cell_type": "markdown",
   "metadata": {},
   "source": [
    "IMPORTANT! => Please restart the kernel by clicking on \"Kernel\"->\"Restart and Clear Outout\" and wait until all output disapears. Then your changes are beeing picked up\n"
   ]
  },
  {
   "cell_type": "code",
   "execution_count": 3,
   "metadata": {
    "button": false,
    "new_sheet": false,
    "run_control": {
     "read_only": false
    },
    "tags": []
   },
   "outputs": [
    {
     "name": "stdout",
     "output_type": "stream",
     "text": [
      "mkdir: cannot create directory ‘data’: File exists\n",
      "mkdir: cannot create directory ‘data/ptb’: File exists\n"
     ]
    }
   ],
   "source": [
    "!mkdir data\n",
    "!mkdir data/ptb\n",
    "!wget -q -O data/ptb/reader.py https://cf-courses-data.s3.us.cloud-object-storage.appdomain.cloud/IBMDeveloperSkillsNetwork-DL0120EN-SkillsNetwork/labs/Week3/data/ptb/reader.py\n",
    "#!cp data/ptb/reader.py . \n",
    "\n"
   ]
  },
  {
   "cell_type": "code",
   "execution_count": 4,
   "metadata": {
    "tags": []
   },
   "outputs": [],
   "source": [
    "import reader"
   ]
  },
  {
   "cell_type": "markdown",
   "metadata": {
    "button": false,
    "new_sheet": false,
    "run_control": {
     "read_only": false
    }
   },
   "source": [
    "<a id=\"building_lstm_model\"></a>\n",
    "\n",
    "<h2>Building the LSTM model for Language Modeling</h2>\n",
    "Now that we know exactly what we are doing, we can start building our model using TensorFlow. The very first thing we need to do is download and extract the <code>simple-examples</code> dataset, which can be done by executing the code cell below.\n"
   ]
  },
  {
   "cell_type": "code",
   "execution_count": 5,
   "metadata": {
    "button": false,
    "new_sheet": false,
    "run_control": {
     "read_only": false
    },
    "tags": []
   },
   "outputs": [
    {
     "name": "stdout",
     "output_type": "stream",
     "text": [
      "--2022-09-02 23:46:40--  http://www.fit.vutbr.cz/~imikolov/rnnlm/simple-examples.tgz\n",
      "Resolving www.fit.vutbr.cz (www.fit.vutbr.cz)... 147.229.9.23, 2001:67c:1220:809::93e5:917\n",
      "Connecting to www.fit.vutbr.cz (www.fit.vutbr.cz)|147.229.9.23|:80... connected.\n",
      "HTTP request sent, awaiting response... 200 OK\n",
      "Length: 34869662 (33M) [application/x-gtar]\n",
      "Saving to: ‘simple-examples.tgz.13’\n",
      "\n",
      "simple-examples.tgz 100%[===================>]  33,25M  3,71MB/s    in 11s     \n",
      "\n",
      "2022-09-02 23:46:50 (3,13 MB/s) - ‘simple-examples.tgz.13’ saved [34869662/34869662]\n",
      "\n"
     ]
    }
   ],
   "source": [
    "!wget http://www.fit.vutbr.cz/~imikolov/rnnlm/simple-examples.tgz \n",
    "!tar xzf simple-examples.tgz -C data/"
   ]
  },
  {
   "cell_type": "markdown",
   "metadata": {
    "button": false,
    "new_sheet": false,
    "run_control": {
     "read_only": false
    }
   },
   "source": [
    "Additionally, for the sake of making it easy to play around with the model's hyperparameters, we can declare them beforehand. Feel free to change these -- you will see a difference in performance each time you change those!\n"
   ]
  },
  {
   "cell_type": "code",
   "execution_count": 6,
   "metadata": {
    "button": false,
    "new_sheet": false,
    "run_control": {
     "read_only": false
    }
   },
   "outputs": [],
   "source": [
    "#Initial weight scale\n",
    "init_scale = 0.1\n",
    "#Initial learning rate\n",
    "learning_rate = 1.0\n",
    "#Maximum permissible norm for the gradient (For gradient clipping -- another measure against Exploding Gradients)\n",
    "max_grad_norm = 5\n",
    "#The number of layers in our model\n",
    "num_layers = 2\n",
    "#The total number of recurrence steps, also known as the number of layers when our RNN is \"unfolded\"\n",
    "num_steps = 20\n",
    "#The number of processing units (neurons) in the hidden layers\n",
    "hidden_size_l1 = 256\n",
    "hidden_size_l2 = 128\n",
    "#The maximum number of epochs trained with the initial learning rate\n",
    "max_epoch_decay_lr = 4\n",
    "#The total number of epochs in training\n",
    "max_epoch = 15\n",
    "#The probability for keeping data in the Dropout Layer (This is an optimization, but is outside our scope for this notebook!)\n",
    "#At 1, we ignore the Dropout Layer wrapping.\n",
    "keep_prob = 1\n",
    "#The decay for the learning rate\n",
    "decay = 0.5\n",
    "#The size for each batch of data\n",
    "batch_size = 30\n",
    "#The size of our vocabulary\n",
    "vocab_size = 10000\n",
    "embeding_vector_size= 200\n",
    "#Training flag to separate training from testing\n",
    "is_training = 1\n",
    "#Data directory for our dataset\n",
    "data_dir = \"data/simple-examples/data/\""
   ]
  },
  {
   "cell_type": "markdown",
   "metadata": {
    "button": false,
    "new_sheet": false,
    "run_control": {
     "read_only": false
    }
   },
   "source": [
    "Some clarifications for LSTM architecture based on the arguments:\n",
    "\n",
    "Network structure:\n",
    "\n",
    "<ul>\n",
    "    <li>In this network, the number of LSTM cells are 2. To give the model more expressive power, we can add multiple layers of LSTMs to process the data. The output of the first layer will become the input of the second and so on.\n",
    "    </li>\n",
    "    <li>The recurrence steps is 20, that is, when our RNN is \"Unfolded\", the recurrence step is 20.</li>   \n",
    "    <li>the structure is like:\n",
    "        <ul>\n",
    "            <li>200 input units -> [200x200] Weight -> 200 Hidden units (first layer) -> [200x200] Weight matrix  -> 200 Hidden units (second layer) ->  [200] weight Matrix -> 200 unit output</li>\n",
    "        </ul>\n",
    "    </li>\n",
    "</ul>\n",
    "<br>\n",
    "\n",
    "Input layer:\n",
    "\n",
    "<ul>\n",
    "    <li>The network has 200 input units.</li>\n",
    "    <li>Suppose each word is represented by an embedding vector of dimensionality e=200. The input layer of each cell will have 200 linear units. These e=200 linear units are connected to each of the h=200 LSTM units in the hidden layer (assuming there is only one hidden layer, though our case has 2 layers).\n",
    "    </li>\n",
    "    <li>The input shape is [batch_size, num_steps], that is [30x20]. It will turn into [30x20x200] after embedding, and then 20x[30x200]\n",
    "    </li>\n",
    "</ul>\n",
    "<br>\n",
    "\n",
    "Hidden layer:\n",
    "\n",
    "<ul>\n",
    "    <li>Each LSTM has 200 hidden units which is equivalent to the dimensionality of the embedding words and output.</li>\n",
    "</ul>\n",
    "<br>\n"
   ]
  },
  {
   "cell_type": "markdown",
   "metadata": {
    "button": false,
    "new_sheet": false,
    "run_control": {
     "read_only": false
    }
   },
   "source": [
    "There is a lot to be done and a ton of information to process at the same time, so go over this code slowly. It may seem complex at first, but if you try to apply what you just learned about language modelling to the code you see, you should be able to understand it.\n",
    "\n",
    "This code is adapted from the <a href=\"https://github.com/tensorflow/models?utm_medium=Exinfluencer&utm_source=Exinfluencer&utm_content=000026UJ&utm_term=10006555&utm_id=NA-SkillsNetwork-Channel-SkillsNetworkCoursesIBMDeveloperSkillsNetworkDL0120ENSkillsNetwork20629446-2022-01-01\">PTBModel</a> example bundled with the TensorFlow source code.\n",
    "\n",
    "<h3>Training data</h3>\n",
    "The story starts from data:\n",
    "<ul>\n",
    "    <li>Train data is a list of words, of size 929589, represented by numbers, e.g. [9971, 9972, 9974, 9975,...]</li>\n",
    "    <li>We read data as mini-batch of size b=30. Assume the size of each sentence is 20 words (num_steps = 20). Then it will take $$floor(\\frac{N}{b \\times h})+1=1548$$ iterations for the learner to go through all sentences once. Where N is the size of the list of words, b is batch size, and h is size of each sentence. So, the number of iterators is 1548\n",
    "    </li>\n",
    "    <li>Each batch data is read from train dataset of size 600, and shape of [30x20]</li>\n",
    "</ul>\n"
   ]
  },
  {
   "cell_type": "code",
   "execution_count": 7,
   "metadata": {
    "button": false,
    "new_sheet": false,
    "run_control": {
     "read_only": false
    }
   },
   "outputs": [],
   "source": [
    "# Reads the data and separates it into training data, validation data and testing data\n",
    "raw_data = reader.ptb_raw_data(data_dir)\n",
    "train_data, valid_data, test_data, vocab, word_to_id = raw_data"
   ]
  },
  {
   "cell_type": "code",
   "execution_count": 8,
   "metadata": {},
   "outputs": [
    {
     "data": {
      "text/plain": [
       "929589"
      ]
     },
     "execution_count": 8,
     "metadata": {},
     "output_type": "execute_result"
    }
   ],
   "source": [
    "len(train_data)"
   ]
  },
  {
   "cell_type": "code",
   "execution_count": 9,
   "metadata": {
    "tags": []
   },
   "outputs": [
    {
     "name": "stdout",
     "output_type": "stream",
     "text": [
      "['aer', 'banknote', 'berlitz', 'calloway', 'centrust', 'cluett', 'fromstein', 'gitano', 'guterman', 'hydro-quebec', 'ipo', 'kia', 'memotec', 'mlx', 'nahb', 'punts', 'rake', 'regatta', 'rubens', 'sim', 'snack-food', 'ssangyong', 'swapo', 'wachter', '<eos>', 'pierre', '<unk>', 'N', 'years', 'old', 'will', 'join', 'the', 'board', 'as', 'a', 'nonexecutive', 'director', 'nov.', 'N', '<eos>', 'mr.', '<unk>', 'is', 'chairman', 'of', '<unk>', 'n.v.', 'the', 'dutch', 'publishing', 'group', '<eos>', 'rudolph', '<unk>', 'N', 'years', 'old', 'and', 'former', 'chairman', 'of', 'consolidated', 'gold', 'fields', 'plc', 'was', 'named', 'a', 'nonexecutive', 'director', 'of', 'this', 'british', 'industrial', 'conglomerate', '<eos>', 'a', 'form', 'of', 'asbestos', 'once', 'used', 'to', 'make', 'kent', 'cigarette', 'filters', 'has', 'caused', 'a', 'high', 'percentage', 'of', 'cancer', 'deaths', 'among', 'a', 'group', 'of']\n"
     ]
    }
   ],
   "source": [
    "def id_to_word(id_list):\n",
    "    line = []\n",
    "    for w in id_list:\n",
    "        for word, wid in word_to_id.items():\n",
    "            if wid == w:\n",
    "                line.append(word)\n",
    "    return line            \n",
    "                \n",
    "\n",
    "print(id_to_word(train_data[0:100]))"
   ]
  },
  {
   "cell_type": "markdown",
   "metadata": {
    "button": false,
    "new_sheet": false,
    "run_control": {
     "read_only": false
    }
   },
   "source": [
    "Lets just read one mini-batch now and feed our network:\n"
   ]
  },
  {
   "cell_type": "code",
   "execution_count": 10,
   "metadata": {
    "button": false,
    "new_sheet": false,
    "run_control": {
     "read_only": false
    }
   },
   "outputs": [],
   "source": [
    "itera = reader.ptb_iterator(train_data, batch_size, num_steps)\n",
    "first_touple = itera.__next__()\n",
    "_input_data = first_touple[0]\n",
    "_targets = first_touple[1]"
   ]
  },
  {
   "cell_type": "code",
   "execution_count": 11,
   "metadata": {
    "button": false,
    "new_sheet": false,
    "run_control": {
     "read_only": false
    }
   },
   "outputs": [
    {
     "data": {
      "text/plain": [
       "(30, 20)"
      ]
     },
     "execution_count": 11,
     "metadata": {},
     "output_type": "execute_result"
    }
   ],
   "source": [
    "_input_data.shape"
   ]
  },
  {
   "cell_type": "code",
   "execution_count": 12,
   "metadata": {},
   "outputs": [
    {
     "data": {
      "text/plain": [
       "(30, 20)"
      ]
     },
     "execution_count": 12,
     "metadata": {},
     "output_type": "execute_result"
    }
   ],
   "source": [
    "_targets.shape"
   ]
  },
  {
   "cell_type": "markdown",
   "metadata": {
    "button": false,
    "new_sheet": false,
    "run_control": {
     "read_only": false
    }
   },
   "source": [
    "Lets look at 3 sentences of our input x:\n"
   ]
  },
  {
   "cell_type": "code",
   "execution_count": 13,
   "metadata": {
    "button": false,
    "new_sheet": false,
    "run_control": {
     "read_only": false
    }
   },
   "outputs": [
    {
     "data": {
      "text/plain": [
       "array([[9970, 9971, 9972, 9974, 9975, 9976, 9980, 9981, 9982, 9983, 9984,\n",
       "        9986, 9987, 9988, 9989, 9991, 9992, 9993, 9994, 9995],\n",
       "       [2654,    6,  334, 2886,    4,    1,  233,  711,  834,   11,  130,\n",
       "         123,    7,  514,    2,   63,   10,  514,    8,  605],\n",
       "       [   0, 1071,    4,    0,  185,   24,  368,   20,   31, 3109,  954,\n",
       "          12,    3,   21,    2, 2915,    2,   12,    3,   21]],\n",
       "      dtype=int32)"
      ]
     },
     "execution_count": 13,
     "metadata": {},
     "output_type": "execute_result"
    }
   ],
   "source": [
    "_input_data[0:3]"
   ]
  },
  {
   "cell_type": "code",
   "execution_count": 14,
   "metadata": {},
   "outputs": [
    {
     "name": "stdout",
     "output_type": "stream",
     "text": [
      "['aer', 'banknote', 'berlitz', 'calloway', 'centrust', 'cluett', 'fromstein', 'gitano', 'guterman', 'hydro-quebec', 'ipo', 'kia', 'memotec', 'mlx', 'nahb', 'punts', 'rake', 'regatta', 'rubens', 'sim']\n"
     ]
    }
   ],
   "source": [
    "print(id_to_word(_input_data[0,:]))"
   ]
  },
  {
   "cell_type": "markdown",
   "metadata": {
    "button": false,
    "new_sheet": false,
    "run_control": {
     "read_only": false
    }
   },
   "source": [
    "<h3>Embeddings</h3>\n",
    "We have to convert the words in our dataset to vectors of numbers. The traditional approach is to use one-hot encoding method that is usually used for converting categorical values to numerical values. However, One-hot encoded vectors are high-dimensional, sparse and in a big dataset, computationally inefficient. So, we use word2vec approach. It is, in fact, a layer in our LSTM network, where the word IDs will be represented as a dense representation before feeding to the LSTM. \n",
    "\n",
    "The embedded vectors also get updated during the training process of the deep neural network.\n",
    "We create the embeddings for our input data. <b>embedding_vocab</b> is matrix of \\[10000x200] for all 10000 unique words.\n"
   ]
  },
  {
   "cell_type": "markdown",
   "metadata": {
    "button": false,
    "new_sheet": false,
    "run_control": {
     "read_only": false
    }
   },
   "source": [
    "<b>embedding_lookup()</b> finds the embedded values for our batch of 30x20 words. It  goes to each row of <code>input_data</code>, and for each word in the row/sentence, finds the correspond vector in <code>embedding_dic<code>. <br>\n",
    "It creates a \\[30x20x200] tensor, so, the first element of <b>inputs</b> (the first sentence), is a matrix of 20x200, which each row of it, is vector representing a word in the sentence.\n"
   ]
  },
  {
   "cell_type": "code",
   "execution_count": 15,
   "metadata": {},
   "outputs": [],
   "source": [
    "embedding_layer = tf.keras.layers.Embedding(vocab_size, embeding_vector_size,batch_input_shape=(batch_size, num_steps),trainable=True,name=\"embedding_vocab\")  "
   ]
  },
  {
   "cell_type": "code",
   "execution_count": 16,
   "metadata": {},
   "outputs": [
    {
     "name": "stderr",
     "output_type": "stream",
     "text": [
      "2022-09-02 23:46:53.611143: I tensorflow/stream_executor/cuda/cuda_gpu_executor.cc:975] successful NUMA node read from SysFS had negative value (-1), but there must be at least one NUMA node, so returning NUMA node zero\n",
      "2022-09-02 23:46:53.611599: I tensorflow/stream_executor/cuda/cuda_gpu_executor.cc:975] successful NUMA node read from SysFS had negative value (-1), but there must be at least one NUMA node, so returning NUMA node zero\n",
      "2022-09-02 23:46:53.611953: I tensorflow/stream_executor/cuda/cuda_gpu_executor.cc:975] successful NUMA node read from SysFS had negative value (-1), but there must be at least one NUMA node, so returning NUMA node zero\n",
      "2022-09-02 23:46:53.612863: I tensorflow/stream_executor/cuda/cuda_gpu_executor.cc:975] successful NUMA node read from SysFS had negative value (-1), but there must be at least one NUMA node, so returning NUMA node zero\n",
      "2022-09-02 23:46:53.613265: I tensorflow/stream_executor/cuda/cuda_gpu_executor.cc:975] successful NUMA node read from SysFS had negative value (-1), but there must be at least one NUMA node, so returning NUMA node zero\n",
      "2022-09-02 23:46:53.613620: I tensorflow/stream_executor/cuda/cuda_gpu_executor.cc:975] successful NUMA node read from SysFS had negative value (-1), but there must be at least one NUMA node, so returning NUMA node zero\n",
      "2022-09-02 23:46:53.614111: I tensorflow/stream_executor/cuda/cuda_gpu_executor.cc:975] successful NUMA node read from SysFS had negative value (-1), but there must be at least one NUMA node, so returning NUMA node zero\n",
      "2022-09-02 23:46:53.614514: I tensorflow/stream_executor/cuda/cuda_gpu_executor.cc:975] successful NUMA node read from SysFS had negative value (-1), but there must be at least one NUMA node, so returning NUMA node zero\n",
      "2022-09-02 23:46:53.614789: I tensorflow/core/common_runtime/gpu/gpu_device.cc:1532] Created device /job:localhost/replica:0/task:0/device:GPU:0 with 2019 MB memory:  -> device: 0, name: NVIDIA GeForce GTX 1050 Ti, pci bus id: 0000:01:00.0, compute capability: 6.1\n"
     ]
    },
    {
     "data": {
      "text/plain": [
       "<tf.Tensor: shape=(30, 20, 200), dtype=float32, numpy=\n",
       "array([[[-2.4480581e-02,  1.4158260e-02,  1.5652623e-02, ...,\n",
       "          3.8144041e-02, -4.1287612e-02, -4.0491451e-02],\n",
       "        [ 3.7702311e-02,  1.9731726e-02,  2.8408058e-03, ...,\n",
       "         -3.3748761e-02, -4.6857323e-02, -1.9358754e-02],\n",
       "        [-2.4509206e-03, -1.5281439e-02, -2.0130098e-02, ...,\n",
       "          2.1527898e-02, -3.6386140e-03, -3.0719185e-02],\n",
       "        ...,\n",
       "        [ 4.4740763e-02,  4.9807560e-02, -2.0892775e-02, ...,\n",
       "          9.6340887e-03,  4.7654781e-02, -2.2868598e-02],\n",
       "        [ 1.8955175e-02,  1.8396925e-02,  2.9764403e-02, ...,\n",
       "         -3.4024492e-03, -3.6456011e-02,  7.9353563e-03],\n",
       "        [ 6.7183860e-03,  3.1432893e-02,  4.8550729e-02, ...,\n",
       "          2.2881005e-02,  2.2036638e-02,  2.1023814e-02]],\n",
       "\n",
       "       [[-2.7206743e-02,  2.0226646e-02,  3.8474347e-02, ...,\n",
       "         -2.8426759e-03,  2.8669659e-02,  2.4031289e-03],\n",
       "        [ 3.2437649e-02, -2.9691672e-02, -2.3733282e-02, ...,\n",
       "         -2.7544582e-02, -4.1866265e-02,  4.4054996e-02],\n",
       "        [ 2.1999542e-02, -6.6701770e-03,  1.5728939e-02, ...,\n",
       "          2.5785565e-03,  1.3409283e-02,  1.3327599e-03],\n",
       "        ...,\n",
       "        [ 1.3576660e-02, -4.2514887e-02,  3.0924026e-02, ...,\n",
       "         -1.5003346e-02,  2.4814632e-02, -1.9575596e-02],\n",
       "        [ 8.4893331e-03, -1.8942297e-02, -4.2113163e-02, ...,\n",
       "         -3.6524631e-02, -3.4790836e-02,  2.2919003e-02],\n",
       "        [-1.4479101e-02, -7.3041320e-03, -6.2770024e-03, ...,\n",
       "         -2.9343188e-02,  3.5900701e-02,  2.0592067e-02]],\n",
       "\n",
       "       [[ 1.2616638e-02, -2.3184478e-02,  1.4914002e-02, ...,\n",
       "         -4.5853268e-02, -3.9376773e-02,  3.9973881e-02],\n",
       "        [ 1.7241810e-02, -1.0521553e-02,  1.6656507e-02, ...,\n",
       "          2.4548817e-02,  3.8075533e-02,  4.1887950e-02],\n",
       "        [-1.3336360e-02, -4.1977167e-03,  2.3113489e-03, ...,\n",
       "          4.5109536e-02,  8.1857555e-03,  7.5977445e-03],\n",
       "        ...,\n",
       "        [-2.7418567e-02,  4.5830011e-03, -1.9261479e-02, ...,\n",
       "          1.2862872e-02, -1.9710548e-03, -2.6978362e-02],\n",
       "        [ 3.1292286e-02,  8.5268617e-03,  2.4679791e-02, ...,\n",
       "          2.5887396e-02, -8.3257928e-03, -4.1172683e-02],\n",
       "        [-3.8529683e-02,  3.2113519e-02, -2.4268759e-02, ...,\n",
       "          2.5289346e-02, -3.0645264e-02, -6.8676472e-03]],\n",
       "\n",
       "       ...,\n",
       "\n",
       "       [[-3.7264600e-03,  3.0419555e-02, -2.8223300e-02, ...,\n",
       "         -1.4021881e-03,  4.6406809e-02,  3.5504531e-02],\n",
       "        [ 4.5293812e-02, -4.9605884e-02, -4.2239428e-02, ...,\n",
       "         -9.0137012e-03, -1.6398322e-02, -2.6093101e-02],\n",
       "        [-3.5455476e-02,  3.6171351e-02, -1.8692829e-02, ...,\n",
       "         -4.2610016e-02,  3.8698960e-02,  2.5393073e-02],\n",
       "        ...,\n",
       "        [ 1.0283031e-02, -5.3225383e-03, -8.4638596e-03, ...,\n",
       "          4.4144083e-02,  1.7203819e-02, -3.0533863e-02],\n",
       "        [ 3.1054225e-02, -9.8044276e-03, -3.2178272e-02, ...,\n",
       "          4.8628140e-02,  1.0816742e-02,  4.0894177e-02],\n",
       "        [-2.4847616e-02, -3.7015676e-02,  1.4193062e-02, ...,\n",
       "         -1.8844808e-02,  3.3748675e-02,  4.7960393e-03]],\n",
       "\n",
       "       [[ 4.3857742e-02, -3.7100483e-02,  4.0962663e-02, ...,\n",
       "          4.5964565e-02, -1.8177547e-02, -3.7038159e-02],\n",
       "        [ 4.5370463e-02, -1.3337828e-02, -6.7164525e-03, ...,\n",
       "         -3.4355745e-03, -1.1684671e-03,  1.7250586e-02],\n",
       "        [-1.3336360e-02, -4.1977167e-03,  2.3113489e-03, ...,\n",
       "          4.5109536e-02,  8.1857555e-03,  7.5977445e-03],\n",
       "        ...,\n",
       "        [ 1.2580458e-02, -2.0585859e-02,  2.9855836e-02, ...,\n",
       "          4.1203927e-02, -1.4071535e-02, -1.9050455e-02],\n",
       "        [ 3.2437649e-02, -2.9691672e-02, -2.3733282e-02, ...,\n",
       "         -2.7544582e-02, -4.1866265e-02,  4.4054996e-02],\n",
       "        [ 4.7821093e-02,  3.7210200e-02,  2.6706681e-03, ...,\n",
       "         -1.6402174e-02, -2.5932789e-03,  3.2871913e-02]],\n",
       "\n",
       "       [[-1.9658357e-05, -1.8748485e-02, -2.5005117e-03, ...,\n",
       "         -2.4216449e-02,  2.9090200e-02, -7.8134164e-03],\n",
       "        [ 4.0712681e-02, -4.9481764e-03,  4.1637793e-03, ...,\n",
       "         -1.1062525e-02, -1.5931286e-02, -1.8819798e-02],\n",
       "        [-5.1996335e-03, -4.0718962e-02,  4.8923437e-02, ...,\n",
       "         -1.6004361e-02, -1.7707147e-02, -4.2679764e-02],\n",
       "        ...,\n",
       "        [-4.0008020e-02, -1.9851446e-02, -3.4386493e-02, ...,\n",
       "         -7.0732012e-03,  1.9956481e-02,  2.4390589e-02],\n",
       "        [-1.0999858e-02,  2.7624790e-02, -2.3534333e-02, ...,\n",
       "         -8.4374323e-03,  8.8207126e-03, -1.8847084e-02],\n",
       "        [ 7.5343475e-03,  4.9748030e-02,  4.9733605e-02, ...,\n",
       "         -2.6391828e-02,  6.5847747e-03,  1.4731813e-02]]], dtype=float32)>"
      ]
     },
     "execution_count": 16,
     "metadata": {},
     "output_type": "execute_result"
    }
   ],
   "source": [
    "# Define where to get the data for our embeddings from\n",
    "inputs = embedding_layer(_input_data)\n",
    "inputs"
   ]
  },
  {
   "cell_type": "markdown",
   "metadata": {},
   "source": [
    "<h3>Constructing Recurrent Neural Networks</h3>\n"
   ]
  },
  {
   "cell_type": "markdown",
   "metadata": {
    "button": false,
    "new_sheet": false,
    "run_control": {
     "read_only": false
    }
   },
   "source": [
    "In this step, we create the stacked LSTM using <b>tf.keras.layers.StackedRNNCells</b>, which is a 2 layer LSTM network:\n"
   ]
  },
  {
   "cell_type": "code",
   "execution_count": 17,
   "metadata": {},
   "outputs": [],
   "source": [
    "lstm_cell_l1 = tf.keras.layers.LSTMCell(hidden_size_l1)\n",
    "lstm_cell_l2 = tf.keras.layers.LSTMCell(hidden_size_l2)"
   ]
  },
  {
   "cell_type": "code",
   "execution_count": 18,
   "metadata": {
    "button": false,
    "new_sheet": false,
    "run_control": {
     "read_only": false
    }
   },
   "outputs": [],
   "source": [
    "stacked_lstm = tf.keras.layers.StackedRNNCells([lstm_cell_l1, lstm_cell_l2])"
   ]
  },
  {
   "cell_type": "markdown",
   "metadata": {},
   "source": [
    "<b>tf.keras.layers.RNN</b> creates a recurrent neural network using <b>stacked_lstm</b>.\n",
    "\n",
    "The input should be a Tensor of shape: \\[batch_size, max_time, embedding_vector_size], in our case it would be (30, 20, 200)\n"
   ]
  },
  {
   "cell_type": "code",
   "execution_count": 19,
   "metadata": {},
   "outputs": [],
   "source": [
    "layer  =  tf.keras.layers.RNN(stacked_lstm,[batch_size, num_steps],return_state=False,stateful=True,trainable=True)"
   ]
  },
  {
   "cell_type": "markdown",
   "metadata": {
    "button": false,
    "new_sheet": false,
    "run_control": {
     "read_only": false
    }
   },
   "source": [
    "Also, we initialize the states of the nework:\n",
    "\n",
    "<h4>_initial_state</h4>\n",
    "\n",
    "For each LSTM, there are 2 state matrices, c_state and m_state.  c_state and m_state represent \"Memory State\" and \"Cell State\". Each hidden layer, has a vector of size 30, which keeps the states. so, for 200 hidden units in each LSTM, we have a matrix of size \\[30x200]\n"
   ]
  },
  {
   "cell_type": "code",
   "execution_count": 20,
   "metadata": {},
   "outputs": [],
   "source": [
    "init_state = tf.Variable(tf.zeros([batch_size,embeding_vector_size]),trainable=False)"
   ]
  },
  {
   "cell_type": "code",
   "execution_count": 21,
   "metadata": {},
   "outputs": [],
   "source": [
    "layer.inital_state = init_state"
   ]
  },
  {
   "cell_type": "code",
   "execution_count": 22,
   "metadata": {},
   "outputs": [
    {
     "data": {
      "text/plain": [
       "<tf.Variable 'Variable:0' shape=(30, 200) dtype=float32, numpy=\n",
       "array([[0., 0., 0., ..., 0., 0., 0.],\n",
       "       [0., 0., 0., ..., 0., 0., 0.],\n",
       "       [0., 0., 0., ..., 0., 0., 0.],\n",
       "       ...,\n",
       "       [0., 0., 0., ..., 0., 0., 0.],\n",
       "       [0., 0., 0., ..., 0., 0., 0.],\n",
       "       [0., 0., 0., ..., 0., 0., 0.]], dtype=float32)>"
      ]
     },
     "execution_count": 22,
     "metadata": {},
     "output_type": "execute_result"
    }
   ],
   "source": [
    "layer.inital_state"
   ]
  },
  {
   "cell_type": "markdown",
   "metadata": {},
   "source": [
    "so, lets look at the outputs. The output of the stackedLSTM comes from 128 hidden_layer, and in each time step(=20), one of them get activated. we use the linear activation to map the 128 hidden layer to a \\[30X20 matrix]\n"
   ]
  },
  {
   "cell_type": "code",
   "execution_count": 23,
   "metadata": {},
   "outputs": [],
   "source": [
    "outputs = layer(inputs)"
   ]
  },
  {
   "cell_type": "code",
   "execution_count": 24,
   "metadata": {},
   "outputs": [
    {
     "data": {
      "text/plain": [
       "<tf.Tensor: shape=(30, 20, 128), dtype=float32, numpy=\n",
       "array([[[-6.70645619e-04, -5.11094579e-04,  3.99352575e-04, ...,\n",
       "          7.90503283e-04,  2.23808020e-04,  7.10092485e-04],\n",
       "        [-6.04272122e-04, -8.53321922e-04,  1.90807984e-03, ...,\n",
       "          1.42509013e-03,  9.96427028e-04,  2.31255451e-03],\n",
       "        [-2.06116657e-03, -1.10017648e-03,  1.97692006e-03, ...,\n",
       "          1.62613986e-03,  1.24404009e-03,  3.41564370e-03],\n",
       "        ...,\n",
       "        [ 7.85683878e-05,  1.48319046e-03,  3.80202406e-03, ...,\n",
       "         -3.14501813e-04,  5.30513190e-03, -3.23425233e-03],\n",
       "        [-2.01518371e-04,  1.29062997e-03,  3.82435182e-03, ...,\n",
       "          1.22351013e-03,  5.42797102e-03, -3.00721498e-03],\n",
       "        [-2.49225181e-03,  9.28324996e-04,  3.24635534e-03, ...,\n",
       "          2.51602079e-03,  5.34106232e-03, -2.79844319e-03]],\n",
       "\n",
       "       [[-7.08371866e-04,  1.51261350e-03,  5.98672079e-04, ...,\n",
       "          1.31859572e-03,  2.05698714e-04,  1.25442736e-03],\n",
       "        [-3.56451434e-04,  2.91687995e-03,  1.43483223e-03, ...,\n",
       "          1.14872959e-03,  1.00555550e-03,  1.85299793e-03],\n",
       "        [-1.04775908e-03,  3.51972552e-03,  1.62272574e-03, ...,\n",
       "          8.82180349e-04,  1.75180763e-03,  1.45331561e-03],\n",
       "        ...,\n",
       "        [ 5.64376998e-04, -3.58901161e-04,  2.30060704e-03, ...,\n",
       "          5.48722921e-04,  8.81544780e-04, -3.55207687e-03],\n",
       "        [ 1.62156706e-03, -3.52750241e-04,  2.97432113e-03, ...,\n",
       "          7.46312551e-04,  5.21928741e-05, -4.89073899e-03],\n",
       "        [ 1.91853242e-03, -3.58123536e-04,  4.57996037e-03, ...,\n",
       "          1.17655995e-03,  5.07070536e-06, -5.64103248e-03]],\n",
       "\n",
       "       [[ 9.34007810e-04, -6.65316998e-04, -1.12735562e-03, ...,\n",
       "         -1.01525593e-03, -2.64080358e-04, -3.89384601e-04],\n",
       "        [ 1.12677540e-03, -1.08130160e-03, -3.94058123e-04, ...,\n",
       "         -3.77203192e-04, -1.48048799e-03, -4.24682046e-04],\n",
       "        [ 8.63525842e-04, -9.17975325e-04, -1.05692155e-03, ...,\n",
       "          1.30121491e-03,  3.59503611e-04,  2.74288584e-04],\n",
       "        ...,\n",
       "        [-7.49726256e-04,  2.19544303e-03, -3.61741101e-03, ...,\n",
       "         -2.05866178e-03,  1.10461481e-03,  4.88055451e-03],\n",
       "        [-1.87260390e-03,  1.72350032e-03, -2.59537925e-03, ...,\n",
       "         -2.07567541e-03,  7.50025501e-04,  5.72325150e-03],\n",
       "        [-2.89491727e-03,  1.84601545e-03,  2.54437509e-05, ...,\n",
       "         -3.40956450e-03,  7.69450038e-04,  4.28136811e-03]],\n",
       "\n",
       "       ...,\n",
       "\n",
       "       [[-2.45712668e-04,  4.98166075e-04, -2.89726682e-04, ...,\n",
       "         -1.08100427e-03,  1.01231609e-03, -1.13891298e-03],\n",
       "        [ 1.52202451e-03, -5.72064564e-05,  5.15412714e-04, ...,\n",
       "         -2.06088647e-03,  1.29908544e-03, -2.42094859e-03],\n",
       "        [ 2.08115461e-03, -9.51264228e-04,  4.26339480e-04, ...,\n",
       "         -2.63755023e-03,  2.22948496e-03, -2.80375127e-03],\n",
       "        ...,\n",
       "        [-7.33760046e-03, -2.36224709e-03,  5.19401068e-03, ...,\n",
       "         -2.93965684e-03,  6.01897307e-04,  3.99049604e-03],\n",
       "        [-5.89018920e-03, -1.90610811e-03,  3.36092710e-03, ...,\n",
       "         -1.75133359e-03,  7.77527282e-04,  4.03409591e-03],\n",
       "        [-4.94446792e-03, -1.48802996e-03,  2.08749389e-03, ...,\n",
       "         -9.25662171e-04,  2.15185666e-03,  2.47649150e-03]],\n",
       "\n",
       "       [[ 2.84553626e-05,  7.76093861e-04,  2.74877209e-04, ...,\n",
       "         -1.11420942e-03, -3.64566455e-04,  6.97265030e-04],\n",
       "        [-7.16170704e-04,  1.48153480e-03,  3.28000839e-04, ...,\n",
       "         -1.79049559e-03, -5.30629361e-04,  5.25325129e-04],\n",
       "        [-1.71745778e-03,  1.54284481e-03, -1.02571840e-03, ...,\n",
       "         -3.00703978e-04,  1.40916521e-03,  1.08260068e-03],\n",
       "        ...,\n",
       "        [ 3.09419772e-03, -2.54741660e-03, -7.03792181e-03, ...,\n",
       "          4.68059443e-03, -2.99605681e-03, -4.77163680e-03],\n",
       "        [ 3.93809890e-03, -2.03710026e-03, -7.70498114e-03, ...,\n",
       "          5.27688907e-03, -1.23032928e-03, -4.21870360e-03],\n",
       "        [ 3.92747484e-03, -1.55310228e-03, -7.11145718e-03, ...,\n",
       "          3.77057516e-03, -1.75472251e-05, -3.62488884e-03]],\n",
       "\n",
       "       [[ 3.92549759e-04, -3.14159726e-04, -1.71162817e-03, ...,\n",
       "          2.63997674e-04, -3.57695739e-04,  3.63661471e-04],\n",
       "        [ 1.68333191e-03, -1.23643957e-03, -1.83055585e-03, ...,\n",
       "          9.64853622e-04,  3.27073620e-04,  1.16096425e-03],\n",
       "        [ 3.65464832e-03, -5.53724123e-04, -2.04819418e-03, ...,\n",
       "          9.22829553e-04,  1.00612364e-04,  8.20504152e-04],\n",
       "        ...,\n",
       "        [ 3.52113484e-03,  7.88355432e-03, -9.49689012e-04, ...,\n",
       "          8.04345531e-04,  3.96346906e-03, -3.33502539e-03],\n",
       "        [ 2.58342200e-03,  8.33639316e-03,  4.29350854e-04, ...,\n",
       "          2.30938618e-04,  3.12930625e-03, -2.79257027e-03],\n",
       "        [ 1.74974347e-03,  9.73258168e-03,  1.45577907e-03, ...,\n",
       "         -8.45954753e-04,  1.96795072e-03, -1.65725453e-03]]],\n",
       "      dtype=float32)>"
      ]
     },
     "execution_count": 24,
     "metadata": {},
     "output_type": "execute_result"
    }
   ],
   "source": [
    "outputs"
   ]
  },
  {
   "cell_type": "markdown",
   "metadata": {
    "button": false,
    "new_sheet": false,
    "run_control": {
     "read_only": false
    }
   },
   "source": [
    "<h2>Dense layer</h2>\n",
    "We now create densely-connected neural network layer that would reshape the outputs tensor from  [30 x 20 x 128] to [30 x 20 x 10000].\n"
   ]
  },
  {
   "cell_type": "code",
   "execution_count": 25,
   "metadata": {},
   "outputs": [],
   "source": [
    "dense = tf.keras.layers.Dense(vocab_size)"
   ]
  },
  {
   "cell_type": "code",
   "execution_count": 26,
   "metadata": {},
   "outputs": [],
   "source": [
    "logits_outputs  = dense(outputs)"
   ]
  },
  {
   "cell_type": "code",
   "execution_count": 27,
   "metadata": {},
   "outputs": [
    {
     "name": "stdout",
     "output_type": "stream",
     "text": [
      "shape of the output from dense layer:  (30, 20, 10000)\n"
     ]
    }
   ],
   "source": [
    "print(\"shape of the output from dense layer: \", logits_outputs.shape) #(batch_size, sequence_length, vocab_size)"
   ]
  },
  {
   "cell_type": "markdown",
   "metadata": {},
   "source": [
    "<h2>Activation layer</h2>\n",
    "\n",
    "A softmax activation layers is also then applied to derive the probability of the output being in any of the multiclass(10000 in this case) possibilities.\n"
   ]
  },
  {
   "cell_type": "code",
   "execution_count": 28,
   "metadata": {},
   "outputs": [],
   "source": [
    "activation = tf.keras.layers.Activation('softmax')"
   ]
  },
  {
   "cell_type": "code",
   "execution_count": 29,
   "metadata": {},
   "outputs": [],
   "source": [
    "output_words_prob = activation(logits_outputs)"
   ]
  },
  {
   "cell_type": "code",
   "execution_count": 30,
   "metadata": {},
   "outputs": [
    {
     "name": "stdout",
     "output_type": "stream",
     "text": [
      "shape of the output from the activation layer:  (30, 20, 10000)\n"
     ]
    }
   ],
   "source": [
    "print(\"shape of the output from the activation layer: \", output_words_prob.shape) #(batch_size, sequence_length, vocab_size)"
   ]
  },
  {
   "cell_type": "markdown",
   "metadata": {},
   "source": [
    "Lets look at the probability of observing words for t=0 to t=20:\n"
   ]
  },
  {
   "cell_type": "code",
   "execution_count": 31,
   "metadata": {},
   "outputs": [
    {
     "name": "stdout",
     "output_type": "stream",
     "text": [
      "The probability of observing words in t=0 to t=20 tf.Tensor(\n",
      "[[1.00003141e-04 1.00013982e-04 9.99934564e-05 ... 1.00009936e-04\n",
      "  9.99912372e-05 1.00011188e-04]\n",
      " [9.99953918e-05 1.00026038e-04 9.99908443e-05 ... 1.00024932e-04\n",
      "  9.99990880e-05 1.00037789e-04]\n",
      " [1.00003926e-04 1.00025143e-04 9.99987096e-05 ... 1.00003090e-04\n",
      "  1.00014397e-04 1.00024517e-04]\n",
      " ...\n",
      " [9.99216136e-05 1.00024678e-04 9.99915792e-05 ... 1.00157384e-04\n",
      "  9.98904288e-05 1.00037061e-04]\n",
      " [9.99135373e-05 1.00014338e-04 1.00005476e-04 ... 1.00162943e-04\n",
      "  9.99100084e-05 1.00053599e-04]\n",
      " [9.99306430e-05 1.00001380e-04 1.00025689e-04 ... 1.00175122e-04\n",
      "  9.99217882e-05 1.00063095e-04]], shape=(20, 10000), dtype=float32)\n"
     ]
    }
   ],
   "source": [
    "print(\"The probability of observing words in t=0 to t=20\", output_words_prob[0,0:num_steps])"
   ]
  },
  {
   "cell_type": "markdown",
   "metadata": {
    "button": false,
    "new_sheet": false,
    "run_control": {
     "read_only": false
    }
   },
   "source": [
    "<h3>Prediction</h3>\n",
    "What is the word correspond to the probability output? Lets use the maximum probability:\n"
   ]
  },
  {
   "cell_type": "code",
   "execution_count": 32,
   "metadata": {},
   "outputs": [
    {
     "data": {
      "text/plain": [
       "array([6849, 9282, 9199, 9199, 9199, 6394, 7828, 7828, 7828, 7828, 7828,\n",
       "       1648, 4035, 4035, 4035, 4035, 5911, 5911, 4589, 4589])"
      ]
     },
     "execution_count": 32,
     "metadata": {},
     "output_type": "execute_result"
    }
   ],
   "source": [
    "np.argmax(output_words_prob[0,0:num_steps], axis=1)"
   ]
  },
  {
   "cell_type": "markdown",
   "metadata": {
    "button": false,
    "new_sheet": false,
    "run_control": {
     "read_only": false
    }
   },
   "source": [
    "So, what is the ground truth for the first word of first sentence? You can get it from target tensor, if you want to find the embedding vector:\n"
   ]
  },
  {
   "cell_type": "code",
   "execution_count": 33,
   "metadata": {
    "button": false,
    "new_sheet": false,
    "run_control": {
     "read_only": false
    }
   },
   "outputs": [
    {
     "data": {
      "text/plain": [
       "array([9971, 9972, 9974, 9975, 9976, 9980, 9981, 9982, 9983, 9984, 9986,\n",
       "       9987, 9988, 9989, 9991, 9992, 9993, 9994, 9995, 9996], dtype=int32)"
      ]
     },
     "execution_count": 33,
     "metadata": {},
     "output_type": "execute_result"
    }
   ],
   "source": [
    "_targets[0]"
   ]
  },
  {
   "cell_type": "markdown",
   "metadata": {
    "button": false,
    "new_sheet": false,
    "run_control": {
     "read_only": false
    }
   },
   "source": [
    "<h4>Objective function</h4>\n",
    "\n",
    "How similar the predicted words are to the target words?\n",
    "\n",
    "Now we have to define our objective function, to calculate the similarity of predicted values to ground truth, and then, penalize the model with the error. Our objective is to minimize loss function, that is, to minimize the average negative log probability of the target words:\n",
    "\n",
    "$$\\text{loss} = -\\frac{1}{N}\\sum\\_{i=1}^{N} \\ln p\\_{\\text{target}\\_i}$$\n",
    "\n",
    "This function is already implemented and available in TensorFlow through *tf.keras.losses.sparse_categorical_crossentropy*. It calculates the categorical cross-entropy loss for <b>logits</b> and the <b>target</b> sequence.\n",
    "\n",
    "The arguments of this function are:\n",
    "\n",
    "<ul>\n",
    "    <li>logits: List of 2D Tensors of shape [batch_size x num_decoder_symbols].</li>  \n",
    "    <li>targets: List of 1D batch-sized int32 Tensors of the same length as logits.</li>   \n",
    "</ul>\n"
   ]
  },
  {
   "cell_type": "code",
   "execution_count": 34,
   "metadata": {},
   "outputs": [],
   "source": [
    "def crossentropy(y_true, y_pred):\n",
    "    return tf.keras.losses.sparse_categorical_crossentropy(y_true, y_pred)"
   ]
  },
  {
   "cell_type": "code",
   "execution_count": 35,
   "metadata": {},
   "outputs": [],
   "source": [
    "loss  = crossentropy(_targets, output_words_prob)"
   ]
  },
  {
   "cell_type": "markdown",
   "metadata": {
    "button": false,
    "new_sheet": false,
    "run_control": {
     "read_only": false
    }
   },
   "source": [
    "Lets look at the first 10 values of loss:\n"
   ]
  },
  {
   "cell_type": "code",
   "execution_count": 36,
   "metadata": {},
   "outputs": [
    {
     "data": {
      "text/plain": [
       "<tf.Tensor: shape=(10,), dtype=float32, numpy=\n",
       "array([9.210532, 9.21046 , 9.210429, 9.209715, 9.210467, 9.210374,\n",
       "       9.210829, 9.210407, 9.210621, 9.21065 ], dtype=float32)>"
      ]
     },
     "execution_count": 36,
     "metadata": {},
     "output_type": "execute_result"
    }
   ],
   "source": [
    "loss[0,:10]"
   ]
  },
  {
   "cell_type": "markdown",
   "metadata": {},
   "source": [
    "Now, we define cost as average of the losses:\n"
   ]
  },
  {
   "cell_type": "code",
   "execution_count": 37,
   "metadata": {},
   "outputs": [
    {
     "data": {
      "text/plain": [
       "<tf.Tensor: shape=(), dtype=float32, numpy=184.20703>"
      ]
     },
     "execution_count": 37,
     "metadata": {},
     "output_type": "execute_result"
    }
   ],
   "source": [
    "cost = tf.reduce_sum(loss / batch_size)\n",
    "cost"
   ]
  },
  {
   "cell_type": "markdown",
   "metadata": {
    "button": false,
    "new_sheet": false,
    "run_control": {
     "read_only": false
    }
   },
   "source": [
    "<h3>Training</h3>\n",
    "\n",
    "To do training for our network, we have to take the following steps:\n",
    "\n",
    "<ol>\n",
    "    <li>Define the optimizer.</li>\n",
    "    <li>Assemble layers to build model.</li>\n",
    "    <li>Calculate the gradients based on the loss function.</li>\n",
    "    <li>Apply the optimizer to the variables/gradients tuple.</li>\n",
    "</ol>\n"
   ]
  },
  {
   "cell_type": "markdown",
   "metadata": {
    "button": false,
    "new_sheet": false,
    "run_control": {
     "read_only": false
    }
   },
   "source": [
    "<h4>1. Define Optimizer</h4>\n"
   ]
  },
  {
   "cell_type": "code",
   "execution_count": 38,
   "metadata": {},
   "outputs": [
    {
     "name": "stderr",
     "output_type": "stream",
     "text": [
      "/home/bubonja/Documents - MINT/IBM AI Engineering Professional Certificate/tf/final/lib/python3.8/site-packages/keras/optimizers/optimizer_v2/gradient_descent.py:108: UserWarning: The `lr` argument is deprecated, use `learning_rate` instead.\n",
      "  super(SGD, self).__init__(name, **kwargs)\n"
     ]
    }
   ],
   "source": [
    "# Create a variable for the learning rate\n",
    "lr = tf.Variable(0.0, trainable=False)\n",
    "optimizer = tf.keras.optimizers.SGD(lr=lr, clipnorm=max_grad_norm)"
   ]
  },
  {
   "cell_type": "markdown",
   "metadata": {},
   "source": [
    "<h4>2. Assemble layers to build model.</h4>\n"
   ]
  },
  {
   "cell_type": "code",
   "execution_count": 39,
   "metadata": {},
   "outputs": [
    {
     "name": "stdout",
     "output_type": "stream",
     "text": [
      "Model: \"sequential\"\n",
      "_________________________________________________________________\n",
      " Layer (type)                Output Shape              Param #   \n",
      "=================================================================\n",
      " embedding_vocab (Embedding)  (30, 20, 200)            2000000   \n",
      "                                                                 \n",
      " rnn (RNN)                   (30, 20, 128)             671088    \n",
      "                                                                 \n",
      " dense (Dense)               (30, 20, 10000)           1290000   \n",
      "                                                                 \n",
      " activation (Activation)     (30, 20, 10000)           0         \n",
      "                                                                 \n",
      "=================================================================\n",
      "Total params: 3,961,088\n",
      "Trainable params: 3,955,088\n",
      "Non-trainable params: 6,000\n",
      "_________________________________________________________________\n"
     ]
    }
   ],
   "source": [
    "model = tf.keras.Sequential()\n",
    "model.add(embedding_layer)\n",
    "model.add(layer)\n",
    "model.add(dense)\n",
    "model.add(activation)\n",
    "model.compile(loss=crossentropy, optimizer=optimizer)\n",
    "model.summary()"
   ]
  },
  {
   "cell_type": "markdown",
   "metadata": {
    "button": false,
    "new_sheet": false,
    "run_control": {
     "read_only": false
    }
   },
   "source": [
    "<h4>2. Trainable Variables</h4>\n"
   ]
  },
  {
   "cell_type": "markdown",
   "metadata": {
    "button": false,
    "new_sheet": false,
    "run_control": {
     "read_only": false
    }
   },
   "source": [
    "Defining a variable, if you passed <i>trainable=True</i>, the variable constructor automatically adds new variables to the graph collection <b>GraphKeys.TRAINABLE_VARIABLES</b>. Now, using <i>tf.trainable_variables()</i> you can get all variables created with <b>trainable=True</b>.\n"
   ]
  },
  {
   "cell_type": "code",
   "execution_count": 40,
   "metadata": {
    "button": false,
    "new_sheet": false,
    "run_control": {
     "read_only": false
    }
   },
   "outputs": [],
   "source": [
    "# Get all TensorFlow variables marked as \"trainable\" (i.e. all of them except _lr, which we just created)\n",
    "tvars = model.trainable_variables"
   ]
  },
  {
   "cell_type": "markdown",
   "metadata": {
    "button": false,
    "new_sheet": false,
    "run_control": {
     "read_only": false
    }
   },
   "source": [
    "Note: we can find the name and scope of all variables:\n"
   ]
  },
  {
   "cell_type": "code",
   "execution_count": 41,
   "metadata": {
    "button": false,
    "new_sheet": false,
    "run_control": {
     "read_only": false
    }
   },
   "outputs": [
    {
     "data": {
      "text/plain": [
       "['embedding_vocab/embeddings:0',\n",
       " 'rnn/stacked_rnn_cells/lstm_cell/kernel:0',\n",
       " 'rnn/stacked_rnn_cells/lstm_cell/recurrent_kernel:0',\n",
       " 'rnn/stacked_rnn_cells/lstm_cell/bias:0',\n",
       " 'rnn/stacked_rnn_cells/lstm_cell_1/kernel:0',\n",
       " 'rnn/stacked_rnn_cells/lstm_cell_1/recurrent_kernel:0',\n",
       " 'rnn/stacked_rnn_cells/lstm_cell_1/bias:0',\n",
       " 'dense/kernel:0',\n",
       " 'dense/bias:0']"
      ]
     },
     "execution_count": 41,
     "metadata": {},
     "output_type": "execute_result"
    }
   ],
   "source": [
    "[v.name for v in tvars] "
   ]
  },
  {
   "cell_type": "markdown",
   "metadata": {
    "button": false,
    "new_sheet": false,
    "run_control": {
     "read_only": false
    }
   },
   "source": [
    "<h4>3. Calculate the gradients based on the loss function</h4>\n"
   ]
  },
  {
   "cell_type": "markdown",
   "metadata": {
    "button": false,
    "new_sheet": false,
    "run_control": {
     "read_only": false
    }
   },
   "source": [
    "**Gradient**: The gradient of a function is the slope of its derivative (line), or in other words, the rate of change of a function. It's a vector (a direction to move) that points in the direction of greatest increase of the function, and calculated by the <b>derivative</b> operation.\n"
   ]
  },
  {
   "cell_type": "markdown",
   "metadata": {},
   "source": [
    "First lets recall the gradient function using an toy example:\n",
    "$$ z = \\left(2x^2 + 3xy\\right)$$\n"
   ]
  },
  {
   "cell_type": "code",
   "execution_count": 42,
   "metadata": {},
   "outputs": [],
   "source": [
    "x = tf.constant(1.0)\n",
    "y =  tf.constant(2.0)\n",
    "with tf.GradientTape(persistent=True) as g:\n",
    "    g.watch(x)\n",
    "    g.watch(y)\n",
    "    func_test = 2 * x * x + 3 * x * y"
   ]
  },
  {
   "cell_type": "markdown",
   "metadata": {},
   "source": [
    "The <b>tf.gradients()</b> function allows you to compute the symbolic gradient of one tensor with respect to one or more other tensors—including variables. <b>tf.gradients(func, xs)</b> constructs symbolic partial derivatives of sum of <b>func</b> w\\.r.t. <i>x</i> in <b>xs</b>.\n",
    "\n",
    "Now, lets look at the derivitive w\\.r.t. <b>var_x</b>:\n",
    "$$ \\frac{\\partial :}{\\partial \\:x}\\left(2x^2 + 3xy\\right) = 4x + 3y $$\n"
   ]
  },
  {
   "cell_type": "code",
   "execution_count": 43,
   "metadata": {},
   "outputs": [
    {
     "name": "stdout",
     "output_type": "stream",
     "text": [
      "tf.Tensor(10.0, shape=(), dtype=float32)\n"
     ]
    }
   ],
   "source": [
    "var_grad = g.gradient(func_test, x) # Will compute to 10.0\n",
    "print(var_grad)"
   ]
  },
  {
   "cell_type": "markdown",
   "metadata": {},
   "source": [
    "the derivative w\\.r.t. <b>var_y</b>:\n",
    "$$ \\frac{\\partial :}{\\partial \\:y}\\left(2x^2 + 3xy\\right) = 3x $$\n"
   ]
  },
  {
   "cell_type": "code",
   "execution_count": 44,
   "metadata": {},
   "outputs": [
    {
     "name": "stdout",
     "output_type": "stream",
     "text": [
      "tf.Tensor(3.0, shape=(), dtype=float32)\n"
     ]
    }
   ],
   "source": [
    "var_grad = g.gradient(func_test, y) # Will compute to 3.0\n",
    "print(var_grad)"
   ]
  },
  {
   "cell_type": "markdown",
   "metadata": {},
   "source": [
    "Now, we can look at gradients w\\.r.t all variables:\n"
   ]
  },
  {
   "cell_type": "code",
   "execution_count": 45,
   "metadata": {},
   "outputs": [],
   "source": [
    "with tf.GradientTape() as tape:\n",
    "    # Forward pass.\n",
    "    output_words_prob = model(_input_data)\n",
    "    # Loss value for this batch.\n",
    "    loss  = crossentropy(_targets, output_words_prob)\n",
    "    cost = tf.reduce_sum(loss,axis=0) / batch_size"
   ]
  },
  {
   "cell_type": "code",
   "execution_count": 46,
   "metadata": {},
   "outputs": [],
   "source": [
    "# Get gradients of loss wrt the trainable variables.\n",
    "grad_t_list = tape.gradient(cost, tvars)"
   ]
  },
  {
   "cell_type": "code",
   "execution_count": 47,
   "metadata": {},
   "outputs": [
    {
     "name": "stdout",
     "output_type": "stream",
     "text": [
      "[<tensorflow.python.framework.indexed_slices.IndexedSlices object at 0x7fd5edb854c0>, <tf.Tensor: shape=(200, 1024), dtype=float32, numpy=\n",
      "array([[-8.9124586e-07, -3.3574864e-07, -1.0394823e-06, ...,\n",
      "         9.5634448e-08,  1.5564200e-07,  1.5853854e-07],\n",
      "       [-2.1732018e-07,  7.3251677e-08,  2.6247056e-07, ...,\n",
      "        -1.5892229e-07,  1.2226886e-07, -1.4412107e-07],\n",
      "       [ 1.0523538e-06, -5.9620140e-07, -1.2271875e-07, ...,\n",
      "        -1.8088845e-07,  6.1162034e-08, -9.6385925e-08],\n",
      "       ...,\n",
      "       [-7.0825774e-07, -8.4685560e-08, -4.9326667e-07, ...,\n",
      "        -3.7916888e-07, -9.6358356e-08,  2.5922415e-07],\n",
      "       [-3.5150561e-07,  3.5707316e-08, -7.2975297e-07, ...,\n",
      "         1.7507810e-07, -3.1461138e-07,  8.6567766e-08],\n",
      "       [-4.7736512e-07,  3.4562106e-07, -5.9239329e-07, ...,\n",
      "        -4.1995412e-07,  6.9185461e-08,  7.4178494e-08]], dtype=float32)>, <tf.Tensor: shape=(256, 1024), dtype=float32, numpy=\n",
      "array([[-7.2608010e-08,  4.9982674e-08,  4.9152639e-08, ...,\n",
      "        -6.1274719e-08, -2.8715283e-08, -5.9850784e-08],\n",
      "       [-2.0172246e-07,  1.9917751e-08,  1.0461700e-07, ...,\n",
      "        -3.5603122e-08, -1.4466383e-07,  1.9175197e-08],\n",
      "       [ 8.5815969e-08,  3.7399086e-08, -1.2717351e-07, ...,\n",
      "        -6.2428498e-08,  7.1828730e-08, -6.0742295e-08],\n",
      "       ...,\n",
      "       [ 1.0493224e-09,  2.2462764e-08, -1.6151205e-08, ...,\n",
      "         2.0290327e-07,  2.3787958e-08, -5.9092496e-08],\n",
      "       [ 6.1554317e-09, -2.4672158e-08, -1.1697361e-07, ...,\n",
      "        -5.2097690e-08,  5.2457310e-09,  2.9891442e-08],\n",
      "       [-1.6883130e-08,  1.6164339e-08,  1.6851081e-07, ...,\n",
      "        -3.5383444e-08, -8.0289780e-08,  1.2385718e-07]], dtype=float32)>, <tf.Tensor: shape=(1024,), dtype=float32, numpy=\n",
      "array([-2.8920549e-05, -9.7814882e-07,  1.1885049e-05, ...,\n",
      "       -8.4382555e-06,  6.6331804e-06, -3.2130429e-06], dtype=float32)>, <tf.Tensor: shape=(256, 512), dtype=float32, numpy=\n",
      "array([[-1.17204266e-07, -2.96090139e-08,  1.15267810e-07, ...,\n",
      "         2.92575407e-07,  1.15410550e-07,  2.84690287e-07],\n",
      "       [-4.17673363e-08,  6.01540933e-08, -6.91962612e-08, ...,\n",
      "        -1.80098482e-07, -8.88920226e-09,  6.42320401e-07],\n",
      "       [ 2.26269670e-08,  1.62243566e-07,  1.32519432e-07, ...,\n",
      "        -1.33949669e-07, -2.42781596e-07, -5.01977233e-08],\n",
      "       ...,\n",
      "       [ 1.48605011e-07,  1.64560333e-07,  5.55437829e-08, ...,\n",
      "         2.93938243e-08,  2.83881974e-07, -4.24542066e-07],\n",
      "       [ 1.38394626e-07,  2.55902592e-07,  1.28714532e-07, ...,\n",
      "        -4.17207957e-08, -1.45231709e-07, -1.52971225e-07],\n",
      "       [-7.77125297e-09,  4.66092054e-08, -1.49628789e-07, ...,\n",
      "        -5.93219660e-08,  6.24349497e-08, -8.56051017e-08]], dtype=float32)>, <tf.Tensor: shape=(128, 512), dtype=float32, numpy=\n",
      "array([[-4.7078125e-08, -6.2736333e-08, -2.1451957e-08, ...,\n",
      "         4.7760341e-08, -3.8023273e-08,  3.5568007e-07],\n",
      "       [-3.6495234e-08, -7.8980761e-08,  3.8806327e-09, ...,\n",
      "        -5.4194853e-08, -6.3103194e-08,  2.3603945e-07],\n",
      "       [-4.1561250e-08,  1.4334540e-07,  1.6965882e-07, ...,\n",
      "         2.9291422e-07,  1.4148479e-07, -2.5786858e-07],\n",
      "       ...,\n",
      "       [-1.1923076e-07, -6.2603029e-08,  4.1115829e-08, ...,\n",
      "         2.5092797e-07,  4.6903832e-08,  1.4225067e-07],\n",
      "       [ 2.9155128e-08, -3.7007553e-08, -3.7819511e-08, ...,\n",
      "        -2.6235410e-08, -4.5845533e-07, -2.9990655e-08],\n",
      "       [ 1.7139715e-08,  1.1887956e-07,  1.8929736e-08, ...,\n",
      "         9.9124875e-08,  1.5365362e-07, -8.3460804e-07]], dtype=float32)>, <tf.Tensor: shape=(512,), dtype=float32, numpy=\n",
      "array([ 7.41354256e-07, -5.20357426e-05, -1.97697091e-06, -1.43935813e-05,\n",
      "       -5.18489178e-05,  2.71702047e-05, -1.91370782e-05, -4.73451109e-06,\n",
      "       -1.58464009e-05,  2.20420079e-05,  1.13923825e-05,  1.87053811e-05,\n",
      "        3.44243017e-06,  3.66829699e-05, -3.57707759e-05,  9.56834992e-06,\n",
      "       -1.92125226e-05,  8.35695209e-06, -5.64211132e-06, -6.00669300e-05,\n",
      "       -1.55341568e-05,  1.19484757e-05, -5.83267974e-05,  4.63710094e-05,\n",
      "       -3.88938133e-06,  2.87024341e-05, -1.40773027e-05,  1.66956597e-05,\n",
      "       -2.20587481e-05,  3.59923179e-05, -4.54850306e-05, -6.69524379e-05,\n",
      "        5.67254465e-05, -7.02399302e-06, -4.52822533e-05,  2.09227110e-05,\n",
      "        3.23282002e-05,  2.91113647e-05,  1.61624157e-05,  1.92624429e-05,\n",
      "        5.74880687e-07, -8.06513162e-06, -3.68870678e-05, -8.89887233e-05,\n",
      "        5.21421316e-06,  1.52760349e-05,  4.18435302e-05,  2.33235164e-06,\n",
      "       -7.61649972e-06, -4.31044391e-05, -1.11144927e-05, -1.86755242e-05,\n",
      "        9.21273750e-06, -4.56510998e-06, -2.05654142e-05,  5.04053532e-05,\n",
      "        6.00052008e-05, -5.89451065e-06, -1.14424729e-05, -2.84209927e-05,\n",
      "       -1.14522827e-05,  1.52057191e-05, -1.00072075e-05, -7.99736699e-06,\n",
      "        2.30032747e-05, -6.55961048e-06, -2.19184858e-05, -1.44180622e-05,\n",
      "        1.21393896e-05,  1.61348180e-06,  8.26832184e-05, -7.00069540e-06,\n",
      "        6.74461944e-06, -3.71049900e-05, -3.17562444e-05, -3.87652763e-05,\n",
      "       -1.81459909e-05,  6.07662423e-06,  2.14845913e-05, -1.93452597e-05,\n",
      "        7.40144924e-06,  1.33321973e-05, -4.43196004e-05,  1.71862048e-05,\n",
      "       -3.95162351e-06, -1.83347092e-05,  2.80899476e-05,  1.51781160e-05,\n",
      "        1.60776017e-05, -1.28382726e-05,  3.40520710e-05, -7.36537459e-07,\n",
      "       -1.15077019e-05, -3.17587328e-05, -3.05682770e-05, -2.85948045e-06,\n",
      "        7.06477440e-05, -2.35559382e-05,  5.52930360e-05, -4.68469661e-05,\n",
      "       -3.30637668e-05,  2.31861359e-05, -1.52099146e-05,  5.11621238e-06,\n",
      "        4.44811012e-05, -2.08582751e-05, -2.16072749e-05,  5.20793219e-06,\n",
      "       -2.82580695e-05, -2.82033579e-06,  4.88614496e-05,  9.96666131e-07,\n",
      "        6.30745490e-07, -3.75700620e-05, -1.26056402e-05, -5.23359304e-05,\n",
      "        5.46123738e-06,  1.06806419e-05,  2.54291917e-05,  4.05567625e-05,\n",
      "        1.50291062e-05, -3.97749500e-06,  2.53385751e-05, -2.67246214e-05,\n",
      "        2.23849529e-05, -2.58720520e-05, -5.46611009e-05,  6.67638233e-05,\n",
      "       -9.08405582e-07, -7.43556084e-05, -1.24696635e-06, -1.39143003e-05,\n",
      "       -6.62736275e-05,  9.27246856e-06,  1.52459529e-06, -6.05133664e-06,\n",
      "       -1.50404576e-05,  7.43728560e-06, -1.77134780e-06, -2.75719458e-06,\n",
      "       -2.27000419e-06,  3.65427113e-05, -4.37161507e-05, -3.76899357e-06,\n",
      "       -1.20414225e-05,  1.40908414e-05, -3.52288334e-05, -1.08601329e-04,\n",
      "       -3.34759607e-05, -9.00662963e-06, -5.71952914e-05,  6.51159498e-05,\n",
      "       -2.99604562e-05,  4.90355742e-05,  7.00315468e-07,  1.73954086e-05,\n",
      "       -1.92726548e-05,  4.42418532e-05, -6.69153524e-05, -4.52922068e-05,\n",
      "        9.47700319e-05, -1.95023949e-05, -5.97607686e-05, -2.17293200e-06,\n",
      "        1.22571946e-05,  3.17445083e-05,  4.41048469e-05,  3.23171989e-05,\n",
      "        1.80157040e-05, -2.98999530e-05, -2.80923468e-05, -1.42980352e-04,\n",
      "        2.13285493e-05,  2.59445042e-05,  3.82052567e-05, -3.91632329e-06,\n",
      "       -2.15769196e-05, -5.31964761e-05, -1.95074390e-05, -4.35524180e-06,\n",
      "       -7.62470336e-06, -1.87751393e-05, -2.92229270e-05,  5.36347216e-05,\n",
      "        6.30870345e-05, -2.76348073e-05,  1.81661903e-06, -4.40689546e-05,\n",
      "       -1.18003472e-05,  4.23878810e-05, -3.56603823e-06, -6.51424216e-06,\n",
      "        4.97564251e-05, -3.54642907e-05, -4.80342496e-05, -2.34859854e-05,\n",
      "        8.80224525e-06,  6.84427141e-06,  1.07702144e-04, -2.19117137e-05,\n",
      "        3.23962968e-06, -2.18323248e-06, -3.68616820e-05, -5.31915939e-05,\n",
      "       -2.66855368e-05,  2.07859975e-05,  3.14293247e-05, -1.59144020e-05,\n",
      "        2.35783045e-05,  5.53744621e-06, -7.85183656e-05,  2.48375318e-06,\n",
      "       -5.10170139e-06,  1.24948201e-05,  1.51254590e-05, -4.28391286e-06,\n",
      "        1.39809135e-05, -1.32508212e-05,  5.35050385e-05,  1.24605704e-05,\n",
      "       -4.25752878e-05, -3.79737467e-05, -4.65690100e-05,  6.23620190e-06,\n",
      "        1.00776437e-04, -1.47157789e-05,  9.79103206e-05, -7.72611311e-05,\n",
      "       -3.89850393e-05,  8.38890628e-06, -9.38876292e-06, -2.34865274e-06,\n",
      "        4.93883344e-05, -4.45430233e-05, -3.30203693e-05,  4.41377779e-06,\n",
      "       -3.38840946e-05, -7.61736601e-06,  7.70247570e-05,  8.91453055e-06,\n",
      "        2.55909617e-06, -5.60238987e-05, -1.23908585e-05, -7.92324427e-05,\n",
      "       -8.74632133e-06,  1.90354076e-05,  1.81730247e-05,  6.39426071e-05,\n",
      "        2.90285279e-05, -1.68801562e-05,  2.49120076e-05, -2.32737984e-05,\n",
      "        1.63720833e-05, -3.16690166e-05, -7.80084883e-05,  1.25270366e-04,\n",
      "       -1.03789149e-03, -6.18694350e-03,  2.72718705e-02,  7.49772356e-04,\n",
      "       -3.29535306e-02, -2.74878740e-02,  2.03084555e-02, -8.03667232e-02,\n",
      "       -3.02768983e-02,  4.04113159e-02, -2.22253874e-02, -8.33814032e-03,\n",
      "        6.23831935e-02,  3.56313027e-03, -1.57447886e-02, -2.58184643e-03,\n",
      "       -8.53320677e-03,  4.40165959e-03,  1.74209531e-02,  4.21585143e-02,\n",
      "       -3.16985659e-02, -1.61769502e-02,  2.79166363e-03, -1.46896415e-03,\n",
      "       -2.77302489e-02, -2.10280418e-02,  8.64337198e-03,  1.75074721e-03,\n",
      "        3.20890583e-02,  1.99280716e-02, -4.52175587e-02,  5.73638361e-03,\n",
      "       -3.77513692e-02,  3.80794294e-02, -2.06109062e-02,  1.50261726e-03,\n",
      "        1.19128209e-02, -1.23166936e-02, -2.17400910e-03,  5.60161993e-02,\n",
      "       -1.26580726e-02, -1.82680413e-02,  3.03051528e-02,  3.47891487e-02,\n",
      "       -7.77478237e-03,  1.29920179e-02,  4.10033241e-02, -9.03370976e-03,\n",
      "        5.83216827e-03,  4.47599404e-02, -4.82947566e-02, -9.65402927e-03,\n",
      "        1.89746153e-02,  6.93266559e-03, -5.05506620e-03, -1.92219354e-02,\n",
      "       -5.43907583e-02,  4.75042947e-02,  3.08512226e-02,  1.42260175e-02,\n",
      "       -3.05922069e-02, -4.03831489e-02, -1.96483778e-03,  5.63184824e-03,\n",
      "        2.63159554e-02, -2.18799151e-02,  3.50980386e-02, -1.77519023e-02,\n",
      "       -4.91163926e-04,  1.32994382e-02, -2.93363519e-02, -6.29358506e-03,\n",
      "        3.10064331e-02,  6.06160937e-03,  4.21523266e-02,  1.48007115e-02,\n",
      "        2.12623272e-02, -4.17611301e-02, -2.30195411e-02, -1.32571477e-02,\n",
      "       -3.73952165e-02, -1.46752605e-02,  5.05678989e-02, -4.28726384e-03,\n",
      "       -4.60147709e-02,  4.61693527e-03,  1.06704980e-02, -1.84569918e-02,\n",
      "       -1.86305232e-02, -4.79064276e-03,  1.66182090e-02,  2.06231400e-02,\n",
      "        7.42993504e-03, -1.99545380e-02,  8.49179253e-02,  1.97143061e-04,\n",
      "       -3.38589326e-02,  5.00065880e-03, -3.84833366e-02,  2.05192268e-02,\n",
      "        3.79879400e-02, -2.19553821e-02, -2.09207125e-02, -8.30792915e-03,\n",
      "       -3.03096510e-02,  4.90058437e-02, -2.85309367e-02, -1.12790465e-02,\n",
      "       -2.96758004e-02,  7.93100800e-03,  4.61126976e-02,  1.07316708e-03,\n",
      "        1.80535242e-02, -3.85869201e-03,  1.64830554e-02,  2.22111531e-02,\n",
      "        5.18863797e-02, -3.86033729e-02, -4.00674455e-02, -2.02805419e-02,\n",
      "       -3.52499112e-02, -5.95170967e-02, -4.67662700e-03,  1.09583139e-02,\n",
      "        1.97578943e-03,  3.55187654e-02, -4.45326492e-02, -6.24980330e-02,\n",
      "       -7.34271816e-06, -5.04845411e-05,  3.49904440e-07, -2.23633724e-05,\n",
      "       -5.92428260e-05,  2.86787126e-05, -1.68974675e-05, -8.31430225e-06,\n",
      "       -1.26919585e-05,  2.30438400e-05,  6.28786893e-06,  1.52189896e-05,\n",
      "       -3.79418816e-06,  3.48948415e-05, -2.86075319e-05,  1.18824728e-05,\n",
      "       -2.04898788e-05,  1.57560498e-06,  1.45612648e-06, -7.12627225e-05,\n",
      "       -1.59368574e-05,  1.95664288e-05, -6.21259969e-05,  4.68015241e-05,\n",
      "       -1.14129107e-05,  4.39620053e-05, -1.60520467e-05,  1.83983757e-05,\n",
      "       -2.10296312e-05,  5.02084731e-05, -4.41572411e-05, -6.53806492e-05,\n",
      "        7.50529071e-05, -1.85028475e-05, -5.47763484e-05,  2.31079557e-05,\n",
      "        3.70281377e-05,  2.85909664e-05,  2.26474585e-05,  1.92088701e-05,\n",
      "        2.58592081e-07, -2.26171323e-06, -3.43580759e-05, -8.70676231e-05,\n",
      "        1.36625949e-05,  1.72017390e-05,  4.58062932e-05, -3.97342410e-06,\n",
      "       -1.27350913e-05, -4.97746223e-05, -8.53239544e-06, -2.62308349e-05,\n",
      "        7.57036105e-07, -1.01465203e-05, -2.45956253e-05,  5.37389424e-05,\n",
      "        6.68986177e-05, -1.45757613e-05, -9.45471493e-06, -2.71767713e-05,\n",
      "       -2.90978860e-05,  2.18166460e-05, -1.82165659e-05, -4.45089881e-06,\n",
      "        4.02313672e-05, -1.60391301e-05, -1.21909434e-05, -1.63145050e-05,\n",
      "        1.27201019e-07, -2.82495785e-06,  9.33601696e-05, -7.13809641e-07,\n",
      "        5.82800749e-06, -3.70780690e-05, -3.63129584e-05, -3.82610888e-05,\n",
      "       -1.94818640e-05, -3.05589856e-06,  3.34116812e-05, -2.81316316e-05,\n",
      "        8.36387881e-06,  1.14991017e-05, -4.56525813e-05,  1.67255621e-05,\n",
      "       -1.23177906e-05, -9.51189122e-06,  4.07499138e-05,  1.59550709e-05,\n",
      "        1.72319906e-05, -1.47119417e-05,  2.46949767e-05,  3.72851173e-06,\n",
      "       -1.22181209e-05, -4.42075907e-05, -3.28148017e-05, -6.92740787e-06,\n",
      "        8.44358437e-05, -2.86205486e-05,  6.55134354e-05, -4.88213882e-05,\n",
      "       -3.78699260e-05,  2.03436648e-05, -1.41699293e-05,  7.13291229e-06,\n",
      "        3.65521009e-05, -2.08181355e-05, -2.27192577e-05,  3.39083272e-07,\n",
      "       -2.78340412e-05, -6.22947482e-06,  5.16214459e-05,  3.95934921e-06,\n",
      "       -7.81637664e-06, -4.01468860e-05, -1.51949771e-05, -5.97093858e-05,\n",
      "        1.31128800e-05,  1.23697018e-05,  2.99108560e-05,  3.55649681e-05,\n",
      "        2.15148812e-05, -6.56010798e-07,  2.79099586e-05, -3.38780374e-05,\n",
      "        2.74131853e-05, -2.52541849e-05, -6.14105229e-05,  8.20651549e-05],\n",
      "      dtype=float32)>, <tf.Tensor: shape=(128, 10000), dtype=float32, numpy=\n",
      "array([[-1.3623484e-03, -1.0525711e-03, -5.3393160e-04, ...,\n",
      "         2.4760529e-06,  2.4772830e-06,  2.4783153e-06],\n",
      "       [-1.5286618e-03, -3.8664177e-04, -1.5977940e-03, ...,\n",
      "         1.8436634e-06,  1.8441185e-06,  1.8450103e-06],\n",
      "       [ 2.6181766e-03,  4.0870011e-03,  1.8316353e-03, ...,\n",
      "        -3.9204110e-06, -3.9247411e-06, -3.9228466e-06],\n",
      "       ...,\n",
      "       [-2.9125353e-04,  1.3189951e-03,  6.8948127e-04, ...,\n",
      "         6.8045239e-07,  6.8012406e-07,  6.8034268e-07],\n",
      "       [-2.2413742e-03, -1.8808865e-03, -1.8837817e-03, ...,\n",
      "         3.8736384e-06,  3.8736171e-06,  3.8758330e-06],\n",
      "       [ 2.4313896e-03,  3.5943310e-03,  1.9405525e-03, ...,\n",
      "        -4.2898878e-06, -4.2915326e-06, -4.2931847e-06]], dtype=float32)>, <tf.Tensor: shape=(10000,), dtype=float32, numpy=\n",
      "array([-0.797998  , -1.0313314 , -1.0313314 , ...,  0.00199994,\n",
      "        0.00200011,  0.0020008 ], dtype=float32)>]\n"
     ]
    }
   ],
   "source": [
    "print(grad_t_list)"
   ]
  },
  {
   "cell_type": "markdown",
   "metadata": {
    "button": false,
    "new_sheet": false,
    "run_control": {
     "read_only": false
    }
   },
   "source": [
    "now, we have a list of tensors, t-list. We can use it to find clipped tensors. <b>clip_by_global_norm</b> clips values of multiple tensors by the ratio of the sum of their norms.\n",
    "\n",
    "<b>clip_by_global_norm</b> get <i>t-list</i> as input and returns 2 things:\n",
    "\n",
    "<ul>\n",
    "    <li>a list of clipped tensors, so called <i>list_clipped</i></li> \n",
    "    <li>the global norm (global_norm) of all tensors in t_list</li> \n",
    "</ul>\n"
   ]
  },
  {
   "cell_type": "code",
   "execution_count": 48,
   "metadata": {},
   "outputs": [
    {
     "data": {
      "text/plain": [
       "[<tensorflow.python.framework.indexed_slices.IndexedSlices at 0x7fd5ed9dd460>,\n",
       " <tf.Tensor: shape=(200, 1024), dtype=float32, numpy=\n",
       " array([[-8.9124586e-07, -3.3574864e-07, -1.0394823e-06, ...,\n",
       "          9.5634448e-08,  1.5564200e-07,  1.5853854e-07],\n",
       "        [-2.1732018e-07,  7.3251677e-08,  2.6247056e-07, ...,\n",
       "         -1.5892229e-07,  1.2226886e-07, -1.4412107e-07],\n",
       "        [ 1.0523538e-06, -5.9620140e-07, -1.2271875e-07, ...,\n",
       "         -1.8088845e-07,  6.1162034e-08, -9.6385925e-08],\n",
       "        ...,\n",
       "        [-7.0825774e-07, -8.4685560e-08, -4.9326667e-07, ...,\n",
       "         -3.7916888e-07, -9.6358356e-08,  2.5922415e-07],\n",
       "        [-3.5150561e-07,  3.5707316e-08, -7.2975297e-07, ...,\n",
       "          1.7507810e-07, -3.1461138e-07,  8.6567766e-08],\n",
       "        [-4.7736512e-07,  3.4562106e-07, -5.9239329e-07, ...,\n",
       "         -4.1995412e-07,  6.9185461e-08,  7.4178494e-08]], dtype=float32)>,\n",
       " <tf.Tensor: shape=(256, 1024), dtype=float32, numpy=\n",
       " array([[-7.2608010e-08,  4.9982674e-08,  4.9152639e-08, ...,\n",
       "         -6.1274719e-08, -2.8715283e-08, -5.9850784e-08],\n",
       "        [-2.0172246e-07,  1.9917751e-08,  1.0461700e-07, ...,\n",
       "         -3.5603122e-08, -1.4466383e-07,  1.9175197e-08],\n",
       "        [ 8.5815969e-08,  3.7399086e-08, -1.2717351e-07, ...,\n",
       "         -6.2428498e-08,  7.1828730e-08, -6.0742295e-08],\n",
       "        ...,\n",
       "        [ 1.0493224e-09,  2.2462764e-08, -1.6151205e-08, ...,\n",
       "          2.0290327e-07,  2.3787958e-08, -5.9092496e-08],\n",
       "        [ 6.1554317e-09, -2.4672158e-08, -1.1697361e-07, ...,\n",
       "         -5.2097690e-08,  5.2457310e-09,  2.9891442e-08],\n",
       "        [-1.6883130e-08,  1.6164339e-08,  1.6851081e-07, ...,\n",
       "         -3.5383444e-08, -8.0289780e-08,  1.2385718e-07]], dtype=float32)>,\n",
       " <tf.Tensor: shape=(1024,), dtype=float32, numpy=\n",
       " array([-2.8920549e-05, -9.7814882e-07,  1.1885049e-05, ...,\n",
       "        -8.4382555e-06,  6.6331804e-06, -3.2130429e-06], dtype=float32)>,\n",
       " <tf.Tensor: shape=(256, 512), dtype=float32, numpy=\n",
       " array([[-1.17204266e-07, -2.96090139e-08,  1.15267810e-07, ...,\n",
       "          2.92575407e-07,  1.15410550e-07,  2.84690287e-07],\n",
       "        [-4.17673363e-08,  6.01540933e-08, -6.91962612e-08, ...,\n",
       "         -1.80098482e-07, -8.88920226e-09,  6.42320401e-07],\n",
       "        [ 2.26269670e-08,  1.62243566e-07,  1.32519432e-07, ...,\n",
       "         -1.33949669e-07, -2.42781596e-07, -5.01977233e-08],\n",
       "        ...,\n",
       "        [ 1.48605011e-07,  1.64560333e-07,  5.55437829e-08, ...,\n",
       "          2.93938243e-08,  2.83881974e-07, -4.24542066e-07],\n",
       "        [ 1.38394626e-07,  2.55902592e-07,  1.28714532e-07, ...,\n",
       "         -4.17207957e-08, -1.45231709e-07, -1.52971225e-07],\n",
       "        [-7.77125297e-09,  4.66092054e-08, -1.49628789e-07, ...,\n",
       "         -5.93219660e-08,  6.24349497e-08, -8.56051017e-08]], dtype=float32)>,\n",
       " <tf.Tensor: shape=(128, 512), dtype=float32, numpy=\n",
       " array([[-4.7078125e-08, -6.2736333e-08, -2.1451957e-08, ...,\n",
       "          4.7760341e-08, -3.8023273e-08,  3.5568007e-07],\n",
       "        [-3.6495234e-08, -7.8980761e-08,  3.8806327e-09, ...,\n",
       "         -5.4194853e-08, -6.3103194e-08,  2.3603945e-07],\n",
       "        [-4.1561250e-08,  1.4334540e-07,  1.6965882e-07, ...,\n",
       "          2.9291422e-07,  1.4148479e-07, -2.5786858e-07],\n",
       "        ...,\n",
       "        [-1.1923076e-07, -6.2603029e-08,  4.1115829e-08, ...,\n",
       "          2.5092797e-07,  4.6903832e-08,  1.4225067e-07],\n",
       "        [ 2.9155128e-08, -3.7007553e-08, -3.7819511e-08, ...,\n",
       "         -2.6235410e-08, -4.5845533e-07, -2.9990655e-08],\n",
       "        [ 1.7139715e-08,  1.1887956e-07,  1.8929736e-08, ...,\n",
       "          9.9124875e-08,  1.5365362e-07, -8.3460804e-07]], dtype=float32)>,\n",
       " <tf.Tensor: shape=(512,), dtype=float32, numpy=\n",
       " array([ 7.41354256e-07, -5.20357426e-05, -1.97697091e-06, -1.43935813e-05,\n",
       "        -5.18489178e-05,  2.71702047e-05, -1.91370782e-05, -4.73451109e-06,\n",
       "        -1.58464009e-05,  2.20420079e-05,  1.13923825e-05,  1.87053811e-05,\n",
       "         3.44243017e-06,  3.66829699e-05, -3.57707759e-05,  9.56834992e-06,\n",
       "        -1.92125226e-05,  8.35695209e-06, -5.64211132e-06, -6.00669300e-05,\n",
       "        -1.55341568e-05,  1.19484757e-05, -5.83267974e-05,  4.63710094e-05,\n",
       "        -3.88938133e-06,  2.87024341e-05, -1.40773027e-05,  1.66956597e-05,\n",
       "        -2.20587481e-05,  3.59923179e-05, -4.54850306e-05, -6.69524379e-05,\n",
       "         5.67254465e-05, -7.02399302e-06, -4.52822533e-05,  2.09227110e-05,\n",
       "         3.23282002e-05,  2.91113647e-05,  1.61624157e-05,  1.92624429e-05,\n",
       "         5.74880687e-07, -8.06513162e-06, -3.68870678e-05, -8.89887233e-05,\n",
       "         5.21421316e-06,  1.52760349e-05,  4.18435302e-05,  2.33235164e-06,\n",
       "        -7.61649972e-06, -4.31044391e-05, -1.11144927e-05, -1.86755242e-05,\n",
       "         9.21273750e-06, -4.56510998e-06, -2.05654142e-05,  5.04053532e-05,\n",
       "         6.00052008e-05, -5.89451065e-06, -1.14424729e-05, -2.84209927e-05,\n",
       "        -1.14522827e-05,  1.52057191e-05, -1.00072075e-05, -7.99736699e-06,\n",
       "         2.30032747e-05, -6.55961048e-06, -2.19184858e-05, -1.44180622e-05,\n",
       "         1.21393896e-05,  1.61348180e-06,  8.26832184e-05, -7.00069540e-06,\n",
       "         6.74461944e-06, -3.71049900e-05, -3.17562444e-05, -3.87652763e-05,\n",
       "        -1.81459909e-05,  6.07662423e-06,  2.14845913e-05, -1.93452597e-05,\n",
       "         7.40144924e-06,  1.33321973e-05, -4.43196004e-05,  1.71862048e-05,\n",
       "        -3.95162351e-06, -1.83347092e-05,  2.80899476e-05,  1.51781160e-05,\n",
       "         1.60776017e-05, -1.28382726e-05,  3.40520710e-05, -7.36537459e-07,\n",
       "        -1.15077019e-05, -3.17587328e-05, -3.05682770e-05, -2.85948045e-06,\n",
       "         7.06477440e-05, -2.35559382e-05,  5.52930360e-05, -4.68469661e-05,\n",
       "        -3.30637668e-05,  2.31861359e-05, -1.52099146e-05,  5.11621238e-06,\n",
       "         4.44811012e-05, -2.08582751e-05, -2.16072749e-05,  5.20793219e-06,\n",
       "        -2.82580695e-05, -2.82033579e-06,  4.88614496e-05,  9.96666131e-07,\n",
       "         6.30745490e-07, -3.75700620e-05, -1.26056402e-05, -5.23359304e-05,\n",
       "         5.46123738e-06,  1.06806419e-05,  2.54291917e-05,  4.05567625e-05,\n",
       "         1.50291062e-05, -3.97749500e-06,  2.53385751e-05, -2.67246214e-05,\n",
       "         2.23849529e-05, -2.58720520e-05, -5.46611009e-05,  6.67638233e-05,\n",
       "        -9.08405582e-07, -7.43556084e-05, -1.24696635e-06, -1.39143003e-05,\n",
       "        -6.62736275e-05,  9.27246856e-06,  1.52459529e-06, -6.05133664e-06,\n",
       "        -1.50404576e-05,  7.43728560e-06, -1.77134780e-06, -2.75719458e-06,\n",
       "        -2.27000419e-06,  3.65427113e-05, -4.37161507e-05, -3.76899357e-06,\n",
       "        -1.20414225e-05,  1.40908414e-05, -3.52288334e-05, -1.08601329e-04,\n",
       "        -3.34759607e-05, -9.00662963e-06, -5.71952914e-05,  6.51159498e-05,\n",
       "        -2.99604562e-05,  4.90355742e-05,  7.00315468e-07,  1.73954086e-05,\n",
       "        -1.92726548e-05,  4.42418532e-05, -6.69153524e-05, -4.52922068e-05,\n",
       "         9.47700319e-05, -1.95023949e-05, -5.97607686e-05, -2.17293200e-06,\n",
       "         1.22571946e-05,  3.17445083e-05,  4.41048469e-05,  3.23171989e-05,\n",
       "         1.80157040e-05, -2.98999530e-05, -2.80923468e-05, -1.42980352e-04,\n",
       "         2.13285493e-05,  2.59445042e-05,  3.82052567e-05, -3.91632329e-06,\n",
       "        -2.15769196e-05, -5.31964761e-05, -1.95074390e-05, -4.35524180e-06,\n",
       "        -7.62470336e-06, -1.87751393e-05, -2.92229270e-05,  5.36347216e-05,\n",
       "         6.30870345e-05, -2.76348073e-05,  1.81661903e-06, -4.40689546e-05,\n",
       "        -1.18003472e-05,  4.23878810e-05, -3.56603823e-06, -6.51424216e-06,\n",
       "         4.97564251e-05, -3.54642907e-05, -4.80342496e-05, -2.34859854e-05,\n",
       "         8.80224525e-06,  6.84427141e-06,  1.07702144e-04, -2.19117137e-05,\n",
       "         3.23962968e-06, -2.18323248e-06, -3.68616820e-05, -5.31915939e-05,\n",
       "        -2.66855368e-05,  2.07859975e-05,  3.14293247e-05, -1.59144020e-05,\n",
       "         2.35783045e-05,  5.53744621e-06, -7.85183656e-05,  2.48375318e-06,\n",
       "        -5.10170139e-06,  1.24948201e-05,  1.51254590e-05, -4.28391286e-06,\n",
       "         1.39809135e-05, -1.32508212e-05,  5.35050385e-05,  1.24605704e-05,\n",
       "        -4.25752878e-05, -3.79737467e-05, -4.65690100e-05,  6.23620190e-06,\n",
       "         1.00776437e-04, -1.47157789e-05,  9.79103206e-05, -7.72611311e-05,\n",
       "        -3.89850393e-05,  8.38890628e-06, -9.38876292e-06, -2.34865274e-06,\n",
       "         4.93883344e-05, -4.45430233e-05, -3.30203693e-05,  4.41377779e-06,\n",
       "        -3.38840946e-05, -7.61736601e-06,  7.70247570e-05,  8.91453055e-06,\n",
       "         2.55909617e-06, -5.60238987e-05, -1.23908585e-05, -7.92324427e-05,\n",
       "        -8.74632133e-06,  1.90354076e-05,  1.81730247e-05,  6.39426071e-05,\n",
       "         2.90285279e-05, -1.68801562e-05,  2.49120076e-05, -2.32737984e-05,\n",
       "         1.63720833e-05, -3.16690166e-05, -7.80084883e-05,  1.25270366e-04,\n",
       "        -1.03789149e-03, -6.18694350e-03,  2.72718705e-02,  7.49772356e-04,\n",
       "        -3.29535306e-02, -2.74878740e-02,  2.03084555e-02, -8.03667232e-02,\n",
       "        -3.02768983e-02,  4.04113159e-02, -2.22253874e-02, -8.33814032e-03,\n",
       "         6.23831935e-02,  3.56313027e-03, -1.57447886e-02, -2.58184643e-03,\n",
       "        -8.53320677e-03,  4.40165959e-03,  1.74209531e-02,  4.21585143e-02,\n",
       "        -3.16985659e-02, -1.61769502e-02,  2.79166363e-03, -1.46896415e-03,\n",
       "        -2.77302489e-02, -2.10280418e-02,  8.64337198e-03,  1.75074721e-03,\n",
       "         3.20890583e-02,  1.99280716e-02, -4.52175587e-02,  5.73638361e-03,\n",
       "        -3.77513692e-02,  3.80794294e-02, -2.06109062e-02,  1.50261726e-03,\n",
       "         1.19128209e-02, -1.23166936e-02, -2.17400910e-03,  5.60161993e-02,\n",
       "        -1.26580726e-02, -1.82680413e-02,  3.03051528e-02,  3.47891487e-02,\n",
       "        -7.77478237e-03,  1.29920179e-02,  4.10033241e-02, -9.03370976e-03,\n",
       "         5.83216827e-03,  4.47599404e-02, -4.82947566e-02, -9.65402927e-03,\n",
       "         1.89746153e-02,  6.93266559e-03, -5.05506620e-03, -1.92219354e-02,\n",
       "        -5.43907583e-02,  4.75042947e-02,  3.08512226e-02,  1.42260175e-02,\n",
       "        -3.05922069e-02, -4.03831489e-02, -1.96483778e-03,  5.63184824e-03,\n",
       "         2.63159554e-02, -2.18799151e-02,  3.50980386e-02, -1.77519023e-02,\n",
       "        -4.91163926e-04,  1.32994382e-02, -2.93363519e-02, -6.29358506e-03,\n",
       "         3.10064331e-02,  6.06160937e-03,  4.21523266e-02,  1.48007115e-02,\n",
       "         2.12623272e-02, -4.17611301e-02, -2.30195411e-02, -1.32571477e-02,\n",
       "        -3.73952165e-02, -1.46752605e-02,  5.05678989e-02, -4.28726384e-03,\n",
       "        -4.60147709e-02,  4.61693527e-03,  1.06704980e-02, -1.84569918e-02,\n",
       "        -1.86305232e-02, -4.79064276e-03,  1.66182090e-02,  2.06231400e-02,\n",
       "         7.42993504e-03, -1.99545380e-02,  8.49179253e-02,  1.97143061e-04,\n",
       "        -3.38589326e-02,  5.00065880e-03, -3.84833366e-02,  2.05192268e-02,\n",
       "         3.79879400e-02, -2.19553821e-02, -2.09207125e-02, -8.30792915e-03,\n",
       "        -3.03096510e-02,  4.90058437e-02, -2.85309367e-02, -1.12790465e-02,\n",
       "        -2.96758004e-02,  7.93100800e-03,  4.61126976e-02,  1.07316708e-03,\n",
       "         1.80535242e-02, -3.85869201e-03,  1.64830554e-02,  2.22111531e-02,\n",
       "         5.18863797e-02, -3.86033729e-02, -4.00674455e-02, -2.02805419e-02,\n",
       "        -3.52499112e-02, -5.95170967e-02, -4.67662700e-03,  1.09583139e-02,\n",
       "         1.97578943e-03,  3.55187654e-02, -4.45326492e-02, -6.24980330e-02,\n",
       "        -7.34271816e-06, -5.04845411e-05,  3.49904440e-07, -2.23633724e-05,\n",
       "        -5.92428260e-05,  2.86787126e-05, -1.68974675e-05, -8.31430225e-06,\n",
       "        -1.26919585e-05,  2.30438400e-05,  6.28786893e-06,  1.52189896e-05,\n",
       "        -3.79418816e-06,  3.48948415e-05, -2.86075319e-05,  1.18824728e-05,\n",
       "        -2.04898788e-05,  1.57560498e-06,  1.45612648e-06, -7.12627225e-05,\n",
       "        -1.59368574e-05,  1.95664288e-05, -6.21259969e-05,  4.68015241e-05,\n",
       "        -1.14129107e-05,  4.39620053e-05, -1.60520467e-05,  1.83983757e-05,\n",
       "        -2.10296312e-05,  5.02084731e-05, -4.41572411e-05, -6.53806492e-05,\n",
       "         7.50529071e-05, -1.85028475e-05, -5.47763484e-05,  2.31079557e-05,\n",
       "         3.70281377e-05,  2.85909664e-05,  2.26474585e-05,  1.92088701e-05,\n",
       "         2.58592081e-07, -2.26171323e-06, -3.43580759e-05, -8.70676231e-05,\n",
       "         1.36625949e-05,  1.72017390e-05,  4.58062932e-05, -3.97342410e-06,\n",
       "        -1.27350913e-05, -4.97746223e-05, -8.53239544e-06, -2.62308349e-05,\n",
       "         7.57036105e-07, -1.01465203e-05, -2.45956253e-05,  5.37389424e-05,\n",
       "         6.68986177e-05, -1.45757613e-05, -9.45471493e-06, -2.71767713e-05,\n",
       "        -2.90978860e-05,  2.18166460e-05, -1.82165659e-05, -4.45089881e-06,\n",
       "         4.02313672e-05, -1.60391301e-05, -1.21909434e-05, -1.63145050e-05,\n",
       "         1.27201019e-07, -2.82495785e-06,  9.33601696e-05, -7.13809641e-07,\n",
       "         5.82800749e-06, -3.70780690e-05, -3.63129584e-05, -3.82610888e-05,\n",
       "        -1.94818640e-05, -3.05589856e-06,  3.34116812e-05, -2.81316316e-05,\n",
       "         8.36387881e-06,  1.14991017e-05, -4.56525813e-05,  1.67255621e-05,\n",
       "        -1.23177906e-05, -9.51189122e-06,  4.07499138e-05,  1.59550709e-05,\n",
       "         1.72319906e-05, -1.47119417e-05,  2.46949767e-05,  3.72851173e-06,\n",
       "        -1.22181209e-05, -4.42075907e-05, -3.28148017e-05, -6.92740787e-06,\n",
       "         8.44358437e-05, -2.86205486e-05,  6.55134354e-05, -4.88213882e-05,\n",
       "        -3.78699260e-05,  2.03436648e-05, -1.41699293e-05,  7.13291229e-06,\n",
       "         3.65521009e-05, -2.08181355e-05, -2.27192577e-05,  3.39083272e-07,\n",
       "        -2.78340412e-05, -6.22947482e-06,  5.16214459e-05,  3.95934921e-06,\n",
       "        -7.81637664e-06, -4.01468860e-05, -1.51949771e-05, -5.97093858e-05,\n",
       "         1.31128800e-05,  1.23697018e-05,  2.99108560e-05,  3.55649681e-05,\n",
       "         2.15148812e-05, -6.56010798e-07,  2.79099586e-05, -3.38780374e-05,\n",
       "         2.74131853e-05, -2.52541849e-05, -6.14105229e-05,  8.20651549e-05],\n",
       "       dtype=float32)>,\n",
       " <tf.Tensor: shape=(128, 10000), dtype=float32, numpy=\n",
       " array([[-1.3623484e-03, -1.0525711e-03, -5.3393160e-04, ...,\n",
       "          2.4760529e-06,  2.4772830e-06,  2.4783153e-06],\n",
       "        [-1.5286618e-03, -3.8664177e-04, -1.5977940e-03, ...,\n",
       "          1.8436634e-06,  1.8441185e-06,  1.8450103e-06],\n",
       "        [ 2.6181766e-03,  4.0870011e-03,  1.8316353e-03, ...,\n",
       "         -3.9204110e-06, -3.9247411e-06, -3.9228466e-06],\n",
       "        ...,\n",
       "        [-2.9125353e-04,  1.3189951e-03,  6.8948127e-04, ...,\n",
       "          6.8045239e-07,  6.8012406e-07,  6.8034268e-07],\n",
       "        [-2.2413742e-03, -1.8808865e-03, -1.8837817e-03, ...,\n",
       "          3.8736384e-06,  3.8736171e-06,  3.8758330e-06],\n",
       "        [ 2.4313896e-03,  3.5943310e-03,  1.9405525e-03, ...,\n",
       "         -4.2898878e-06, -4.2915326e-06, -4.2931847e-06]], dtype=float32)>,\n",
       " <tf.Tensor: shape=(10000,), dtype=float32, numpy=\n",
       " array([-0.797998  , -1.0313314 , -1.0313314 , ...,  0.00199994,\n",
       "         0.00200011,  0.0020008 ], dtype=float32)>]"
      ]
     },
     "execution_count": 48,
     "metadata": {},
     "output_type": "execute_result"
    }
   ],
   "source": [
    "# Define the gradient clipping threshold\n",
    "grads, _ = tf.clip_by_global_norm(grad_t_list, max_grad_norm)\n",
    "grads"
   ]
  },
  {
   "cell_type": "markdown",
   "metadata": {},
   "source": [
    "<h4> 4.Apply the optimizer to the variables/gradients tuple. </h4>\n"
   ]
  },
  {
   "cell_type": "code",
   "execution_count": 49,
   "metadata": {},
   "outputs": [],
   "source": [
    "# Create the training TensorFlow Operation through our optimizer\n",
    "train_op = optimizer.apply_gradients(zip(grads, tvars))"
   ]
  },
  {
   "cell_type": "markdown",
   "metadata": {},
   "source": [
    "<a id=\"ltsm\"></a>\n",
    "\n",
    "<h2>LSTM</h2>\n"
   ]
  },
  {
   "cell_type": "markdown",
   "metadata": {
    "button": false,
    "new_sheet": false,
    "run_control": {
     "read_only": false
    }
   },
   "source": [
    "We learned how the model is build step by step. Noe, let's then create a Class that represents our model. This class needs a few things:\n",
    "\n",
    "<ul>\n",
    "    <li>We have to create the model in accordance with our defined hyperparameters</li>\n",
    "    <li>We have to create the LSTM cell structure and connect them with our RNN structure</li>\n",
    "    <li>We have to create the word embeddings and point them to the input data</li>\n",
    "    <li>We have to create the input structure for our RNN</li>\n",
    "    <li>We need to create a logistic structure to return the probability of our words</li>\n",
    "    <li>We need to create the loss and cost functions for our optimizer to work, and then create the optimizer</li>\n",
    "    <li>And finally, we need to create a training operation that can be run to actually train our model</li>\n",
    "</ul>\n"
   ]
  },
  {
   "cell_type": "code",
   "execution_count": 50,
   "metadata": {
    "button": false,
    "new_sheet": false,
    "run_control": {
     "read_only": false
    },
    "tags": []
   },
   "outputs": [],
   "source": [
    "class PTBModel(object):\n",
    "\n",
    "\n",
    "    def __init__(self):\n",
    "        ######################################\n",
    "        # Setting parameters for ease of use #\n",
    "        ######################################\n",
    "        self.batch_size = batch_size\n",
    "        self.num_steps = num_steps\n",
    "        self.hidden_size_l1 = hidden_size_l1\n",
    "        self.hidden_size_l2 = hidden_size_l2\n",
    "        self.vocab_size = vocab_size\n",
    "        self.embeding_vector_size = embeding_vector_size\n",
    "        # Create a variable for the learning rate\n",
    "        self._lr = 1.0\n",
    "        \n",
    "        ###############################################################################\n",
    "        # Initializing the model using keras Sequential API  #\n",
    "        ###############################################################################\n",
    "        \n",
    "        self._model = tf.keras.models.Sequential()\n",
    "        \n",
    "        ####################################################################\n",
    "        # Creating the word embeddings layer and adding it to the sequence #\n",
    "        ####################################################################\n",
    "        with tf.device(\"/cpu:0\"):\n",
    "            # Create the embeddings for our input data. Size is hidden size.\n",
    "            self._embedding_layer = tf.keras.layers.Embedding(self.vocab_size, self.embeding_vector_size,batch_input_shape=(self.batch_size, self.num_steps),trainable=True,name=\"embedding_vocab\")  #[10000x200]\n",
    "            self._model.add(self._embedding_layer)\n",
    "            \n",
    "\n",
    "        ##########################################################################\n",
    "        # Creating the LSTM cell structure and connect it with the RNN structure #\n",
    "        ##########################################################################\n",
    "        # Create the LSTM Cells. \n",
    "        # This creates only the structure for the LSTM and has to be associated with a RNN unit still.\n",
    "        # The argument  of LSTMCell is size of hidden layer, that is, the number of hidden units of the LSTM (inside A). \n",
    "        # LSTM cell processes one word at a time and computes probabilities of the possible continuations of the sentence.\n",
    "        lstm_cell_l1 = tf.keras.layers.LSTMCell(hidden_size_l1)\n",
    "        lstm_cell_l2 = tf.keras.layers.LSTMCell(hidden_size_l2)\n",
    "        \n",
    "\n",
    "        \n",
    "        # By taking in the LSTM cells as parameters, the StackedRNNCells function junctions the LSTM units to the RNN units.\n",
    "        # RNN cell composed sequentially of stacked simple cells.\n",
    "        stacked_lstm = tf.keras.layers.StackedRNNCells([lstm_cell_l1, lstm_cell_l2])\n",
    "\n",
    "\n",
    "        \n",
    "\n",
    "        ############################################\n",
    "        # Creating the input structure for our RNN #\n",
    "        ############################################\n",
    "        # Input structure is 20x[30x200]\n",
    "        # Considering each word is represended by a 200 dimentional vector, and we have 30 batchs, we create 30 word-vectors of size [30xx2000]\n",
    "        # The input structure is fed from the embeddings, which are filled in by the input data\n",
    "        # Feeding a batch of b sentences to a RNN:\n",
    "        # In step 1,  first word of each of the b sentences (in a batch) is input in parallel.  \n",
    "        # In step 2,  second word of each of the b sentences is input in parallel. \n",
    "        # The parallelism is only for efficiency.  \n",
    "        # Each sentence in a batch is handled in parallel, but the network sees one word of a sentence at a time and does the computations accordingly. \n",
    "        # All the computations involving the words of all sentences in a batch at a given time step are done in parallel. \n",
    "\n",
    "        ########################################################################################################\n",
    "        # Instantiating our RNN model and setting stateful to True to feed forward the state to the next layer #\n",
    "        ########################################################################################################\n",
    "        \n",
    "        self._RNNlayer  =  tf.keras.layers.RNN(stacked_lstm,[batch_size, num_steps],return_state=False,stateful=True,trainable=True)\n",
    "        \n",
    "        # Define the initial state, i.e., the model state for the very first data point\n",
    "        # It initialize the state of the LSTM memory. The memory state of the network is initialized with a vector of zeros and gets updated after reading each word.\n",
    "        self._initial_state = tf.Variable(tf.zeros([batch_size,embeding_vector_size]),trainable=False)\n",
    "        self._RNNlayer.inital_state = self._initial_state\n",
    "    \n",
    "        ############################################\n",
    "        # Adding RNN layer to keras sequential API #\n",
    "        ############################################        \n",
    "        self._model.add(self._RNNlayer)\n",
    "        \n",
    "        #self._model.add(tf.keras.layers.LSTM(hidden_size_l1,return_sequences=True,stateful=True))\n",
    "        #self._model.add(tf.keras.layers.LSTM(hidden_size_l2,return_sequences=True))\n",
    "        \n",
    "        \n",
    "        ####################################################################################################\n",
    "        # Instantiating a Dense layer that connects the output to the vocab_size  and adding layer to model#\n",
    "        ####################################################################################################\n",
    "        self._dense = tf.keras.layers.Dense(self.vocab_size)\n",
    "        self._model.add(self._dense)\n",
    " \n",
    "        \n",
    "        ####################################################################################################\n",
    "        # Adding softmax activation layer and deriving probability to each class and adding layer to model #\n",
    "        ####################################################################################################\n",
    "        self._activation = tf.keras.layers.Activation('softmax')\n",
    "        self._model.add(self._activation)\n",
    "\n",
    "        ##########################################################\n",
    "        # Instantiating the stochastic gradient decent optimizer #\n",
    "        ########################################################## \n",
    "        self._optimizer = tf.keras.optimizers.SGD(lr=self._lr, clipnorm=max_grad_norm)\n",
    "        \n",
    "        \n",
    "        ##############################################################################\n",
    "        # Compiling and summarizing the model stacked using the keras sequential API #\n",
    "        ##############################################################################\n",
    "        self._model.compile(loss=self.crossentropy, optimizer=self._optimizer)\n",
    "        self._model.summary()\n",
    "\n",
    "\n",
    "    def crossentropy(self,y_true, y_pred):\n",
    "        return tf.keras.losses.sparse_categorical_crossentropy(y_true, y_pred)\n",
    "\n",
    "    def train_batch(self,_input_data,_targets):\n",
    "        #################################################\n",
    "        # Creating the Training Operation for our Model #\n",
    "        #################################################\n",
    "        # Create a variable for the learning rate\n",
    "        self._lr = tf.Variable(0.0, trainable=False)\n",
    "        # Get all TensorFlow variables marked as \"trainable\" (i.e. all of them except _lr, which we just created)\n",
    "        tvars = self._model.trainable_variables\n",
    "        # Define the gradient clipping threshold\n",
    "        with tf.GradientTape() as tape:\n",
    "            # Forward pass.\n",
    "            output_words_prob = self._model(_input_data)\n",
    "            # Loss value for this batch.\n",
    "            loss  = self.crossentropy(_targets, output_words_prob)\n",
    "            # average across batch and reduce sum\n",
    "            cost = tf.reduce_sum(loss/ self.batch_size)\n",
    "        # Get gradients of loss wrt the trainable variables.\n",
    "        grad_t_list = tape.gradient(cost, tvars)\n",
    "        # Define the gradient clipping threshold\n",
    "        grads, _ = tf.clip_by_global_norm(grad_t_list, max_grad_norm)\n",
    "        # Create the training TensorFlow Operation through our optimizer\n",
    "        train_op = self._optimizer.apply_gradients(zip(grads, tvars))\n",
    "        return cost\n",
    "        \n",
    "    def test_batch(self,_input_data,_targets):\n",
    "        #################################################\n",
    "        # Creating the Testing Operation for our Model #\n",
    "        #################################################\n",
    "        output_words_prob = self._model(_input_data)\n",
    "        loss  = self.crossentropy(_targets, output_words_prob)\n",
    "        # average across batch and reduce sum\n",
    "        cost = tf.reduce_sum(loss/ self.batch_size)\n",
    "\n",
    "        return cost\n",
    "    @classmethod\n",
    "    def instance(cls) : \n",
    "        return PTBModel()"
   ]
  },
  {
   "cell_type": "markdown",
   "metadata": {
    "button": false,
    "new_sheet": false,
    "run_control": {
     "read_only": false
    }
   },
   "source": [
    "With that, the actual structure of our Recurrent Neural Network with Long Short-Term Memory is finished. What remains for us to do is to actually create the methods to run through time -- that is, the <code>run_epoch</code> method to be run at each epoch and a <code>main</code> script which ties all of this together.\n",
    "\n",
    "What our <code>run_epoch</code> method should do is take our input data and feed it to the relevant operations. This will return at the very least the current result for the cost function.\n"
   ]
  },
  {
   "cell_type": "code",
   "execution_count": 51,
   "metadata": {
    "button": false,
    "new_sheet": false,
    "run_control": {
     "read_only": false
    }
   },
   "outputs": [],
   "source": [
    "\n",
    "########################################################################################################################\n",
    "# run_one_epoch takes as parameters  the model instance, the data to be fed, training or testing mode and verbose info #\n",
    "########################################################################################################################\n",
    "def run_one_epoch(m, data,is_training=True,verbose=False):\n",
    "\n",
    "    #Define the epoch size based on the length of the data, batch size and the number of steps\n",
    "    epoch_size = ((len(data) // m.batch_size) - 1) // m.num_steps\n",
    "    start_time = time.time()\n",
    "    costs = 0.\n",
    "    iters = 0\n",
    "    \n",
    "    m._model.reset_states()\n",
    "    \n",
    "    #For each step and data point\n",
    "    for step, (x, y) in enumerate(reader.ptb_iterator(data, m.batch_size, m.num_steps)):\n",
    "        \n",
    "        #Evaluate and return cost, state by running cost, final_state and the function passed as parameter\n",
    "        #y = tf.keras.utils.to_categorical(y, num_classes=vocab_size)\n",
    "        if is_training : \n",
    "            loss=  m.train_batch(x, y)\n",
    "        else :\n",
    "            loss = m.test_batch(x, y)\n",
    "                                   \n",
    "\n",
    "        #Add returned cost to costs (which keeps track of the total costs for this epoch)\n",
    "        costs += loss\n",
    "        \n",
    "        #Add number of steps to iteration counter\n",
    "        iters += m.num_steps\n",
    "\n",
    "        if verbose and step % (epoch_size // 10) == 10:\n",
    "            print(\"Itr %d of %d, perplexity: %.3f speed: %.0f wps\" % (step , epoch_size, np.exp(costs / iters), iters * m.batch_size / (time.time() - start_time)))\n",
    "        \n",
    "\n",
    "\n",
    "    # Returns the Perplexity rating for us to keep track of how the model is evolving\n",
    "    return np.exp(costs / iters)\n"
   ]
  },
  {
   "cell_type": "markdown",
   "metadata": {
    "button": false,
    "new_sheet": false,
    "run_control": {
     "read_only": false
    }
   },
   "source": [
    "Now, we create the <code>main</code> method to tie everything together. The code here reads the data from the directory, using the <code>reader</code> helper module, and then trains and evaluates the model on both a testing and a validating subset of data.\n"
   ]
  },
  {
   "cell_type": "code",
   "execution_count": 52,
   "metadata": {
    "button": false,
    "new_sheet": false,
    "run_control": {
     "read_only": false
    },
    "tags": []
   },
   "outputs": [],
   "source": [
    "# Reads the data and separates it into training data, validation data and testing data\n",
    "raw_data = reader.ptb_raw_data(data_dir)\n",
    "train_data, valid_data, test_data, _, _ = raw_data"
   ]
  },
  {
   "cell_type": "code",
   "execution_count": 53,
   "metadata": {
    "tags": []
   },
   "outputs": [
    {
     "name": "stdout",
     "output_type": "stream",
     "text": [
      "Model: \"sequential_1\"\n",
      "_________________________________________________________________\n",
      " Layer (type)                Output Shape              Param #   \n",
      "=================================================================\n",
      " embedding_vocab (Embedding)  (30, 20, 200)            2000000   \n",
      "                                                                 \n",
      " rnn_1 (RNN)                 (30, 20, 128)             671088    \n",
      "                                                                 \n",
      " dense_1 (Dense)             (30, 20, 10000)           1290000   \n",
      "                                                                 \n",
      " activation_1 (Activation)   (30, 20, 10000)           0         \n",
      "                                                                 \n",
      "=================================================================\n",
      "Total params: 3,961,088\n",
      "Trainable params: 3,955,088\n",
      "Non-trainable params: 6,000\n",
      "_________________________________________________________________\n",
      "Epoch 1 : Learning rate: 1.000\n",
      "Itr 10 of 1549, perplexity: 4571.545 speed: 3186 wps\n",
      "Itr 164 of 1549, perplexity: 1098.952 speed: 3770 wps\n",
      "Itr 318 of 1549, perplexity: 850.706 speed: 3826 wps\n",
      "Itr 472 of 1549, perplexity: 700.926 speed: 3859 wps\n",
      "Itr 626 of 1549, perplexity: 598.763 speed: 3894 wps\n",
      "Itr 780 of 1549, perplexity: 532.672 speed: 3899 wps\n",
      "Itr 934 of 1549, perplexity: 480.716 speed: 3896 wps\n",
      "Itr 1088 of 1549, perplexity: 441.144 speed: 3891 wps\n",
      "Itr 1242 of 1549, perplexity: 410.897 speed: 3861 wps\n",
      "Itr 1396 of 1549, perplexity: 382.612 speed: 3843 wps\n",
      "Epoch 1 : Train Perplexity: 360.301\n",
      "Epoch 1 : Valid Perplexity: 213.168\n",
      "Epoch 2 : Learning rate: 1.000\n",
      "Itr 10 of 1549, perplexity: 242.164 speed: 3784 wps\n",
      "Itr 164 of 1549, perplexity: 211.887 speed: 3587 wps\n",
      "Itr 318 of 1549, perplexity: 202.827 speed: 3624 wps\n",
      "Itr 472 of 1549, perplexity: 194.375 speed: 3695 wps\n",
      "Itr 626 of 1549, perplexity: 185.443 speed: 3746 wps\n",
      "Itr 780 of 1549, perplexity: 181.538 speed: 3768 wps\n",
      "Itr 934 of 1549, perplexity: 177.569 speed: 3731 wps\n",
      "Itr 1088 of 1549, perplexity: 174.156 speed: 3732 wps\n",
      "Itr 1242 of 1549, perplexity: 171.725 speed: 3709 wps\n",
      "Itr 1396 of 1549, perplexity: 167.629 speed: 3701 wps\n",
      "Epoch 2 : Train Perplexity: 164.779\n",
      "Epoch 2 : Valid Perplexity: 161.987\n",
      "Epoch 3 : Learning rate: 1.000\n",
      "Itr 10 of 1549, perplexity: 161.767 speed: 3534 wps\n",
      "Itr 164 of 1549, perplexity: 147.258 speed: 3596 wps\n",
      "Itr 318 of 1549, perplexity: 143.433 speed: 3676 wps\n",
      "Itr 472 of 1549, perplexity: 138.829 speed: 3512 wps\n",
      "Itr 626 of 1549, perplexity: 133.846 speed: 3258 wps\n",
      "Itr 780 of 1549, perplexity: 132.641 speed: 3270 wps\n",
      "Itr 934 of 1549, perplexity: 130.946 speed: 3295 wps\n",
      "Itr 1088 of 1549, perplexity: 129.505 speed: 3319 wps\n",
      "Itr 1242 of 1549, perplexity: 128.663 speed: 3372 wps\n",
      "Itr 1396 of 1549, perplexity: 126.420 speed: 3421 wps\n",
      "Epoch 3 : Train Perplexity: 125.141\n",
      "Epoch 3 : Valid Perplexity: 143.995\n",
      "Epoch 4 : Learning rate: 1.000\n",
      "Itr 10 of 1549, perplexity: 129.240 speed: 3680 wps\n",
      "Itr 164 of 1549, perplexity: 120.267 speed: 3891 wps\n",
      "Itr 318 of 1549, perplexity: 118.006 speed: 3856 wps\n",
      "Itr 472 of 1549, perplexity: 114.574 speed: 3821 wps\n",
      "Itr 626 of 1549, perplexity: 110.828 speed: 3813 wps\n",
      "Itr 780 of 1549, perplexity: 110.322 speed: 3814 wps\n",
      "Itr 934 of 1549, perplexity: 109.337 speed: 3819 wps\n",
      "Itr 1088 of 1549, perplexity: 108.448 speed: 3822 wps\n",
      "Itr 1242 of 1549, perplexity: 108.109 speed: 3817 wps\n",
      "Itr 1396 of 1549, perplexity: 106.502 speed: 3818 wps\n",
      "Epoch 4 : Train Perplexity: 105.739\n",
      "Epoch 4 : Valid Perplexity: 137.421\n",
      "Epoch 5 : Learning rate: 1.000\n",
      "Itr 10 of 1549, perplexity: 113.037 speed: 3671 wps\n",
      "Itr 164 of 1549, perplexity: 105.098 speed: 3784 wps\n",
      "Itr 318 of 1549, perplexity: 103.169 speed: 3782 wps\n",
      "Itr 472 of 1549, perplexity: 100.352 speed: 3808 wps\n",
      "Itr 626 of 1549, perplexity: 97.149 speed: 3796 wps\n",
      "Itr 780 of 1549, perplexity: 96.905 speed: 3793 wps\n",
      "Itr 934 of 1549, perplexity: 96.256 speed: 3770 wps\n",
      "Itr 1088 of 1549, perplexity: 95.731 speed: 3671 wps\n",
      "Itr 1242 of 1549, perplexity: 95.551 speed: 3669 wps\n",
      "Itr 1396 of 1549, perplexity: 94.286 speed: 3691 wps\n",
      "Epoch 5 : Train Perplexity: 93.758\n",
      "Epoch 5 : Valid Perplexity: 135.002\n",
      "Epoch 6 : Learning rate: 0.500\n",
      "Itr 10 of 1549, perplexity: 100.072 speed: 3908 wps\n",
      "Itr 164 of 1549, perplexity: 91.469 speed: 3727 wps\n",
      "Itr 318 of 1549, perplexity: 88.788 speed: 3709 wps\n",
      "Itr 472 of 1549, perplexity: 85.416 speed: 3677 wps\n",
      "Itr 626 of 1549, perplexity: 81.773 speed: 3678 wps\n",
      "Itr 780 of 1549, perplexity: 80.953 speed: 3683 wps\n",
      "Itr 934 of 1549, perplexity: 79.811 speed: 3689 wps\n",
      "Itr 1088 of 1549, perplexity: 78.690 speed: 3695 wps\n",
      "Itr 1242 of 1549, perplexity: 77.950 speed: 3696 wps\n",
      "Itr 1396 of 1549, perplexity: 76.307 speed: 3698 wps\n",
      "Epoch 6 : Train Perplexity: 75.322\n",
      "Epoch 6 : Valid Perplexity: 124.773\n",
      "Epoch 7 : Learning rate: 0.250\n",
      "Itr 10 of 1549, perplexity: 83.889 speed: 3648 wps\n",
      "Itr 164 of 1549, perplexity: 78.597 speed: 3714 wps\n",
      "Itr 318 of 1549, perplexity: 76.430 speed: 3719 wps\n",
      "Itr 472 of 1549, perplexity: 73.536 speed: 3704 wps\n",
      "Itr 626 of 1549, perplexity: 70.280 speed: 3668 wps\n",
      "Itr 780 of 1549, perplexity: 69.515 speed: 3672 wps\n",
      "Itr 934 of 1549, perplexity: 68.440 speed: 3679 wps\n",
      "Itr 1088 of 1549, perplexity: 67.344 speed: 3684 wps\n",
      "Itr 1242 of 1549, perplexity: 66.565 speed: 3690 wps\n",
      "Itr 1396 of 1549, perplexity: 64.998 speed: 3693 wps\n",
      "Epoch 7 : Train Perplexity: 63.989\n",
      "Epoch 7 : Valid Perplexity: 122.327\n",
      "Epoch 8 : Learning rate: 0.125\n",
      "Itr 10 of 1549, perplexity: 75.113 speed: 3634 wps\n",
      "Itr 164 of 1549, perplexity: 71.190 speed: 3728 wps\n",
      "Itr 318 of 1549, perplexity: 69.392 speed: 3724 wps\n",
      "Itr 472 of 1549, perplexity: 66.822 speed: 3722 wps\n",
      "Itr 626 of 1549, perplexity: 63.840 speed: 3684 wps\n",
      "Itr 780 of 1549, perplexity: 63.147 speed: 3690 wps\n",
      "Itr 934 of 1549, perplexity: 62.155 speed: 3671 wps\n",
      "Itr 1088 of 1549, perplexity: 61.116 speed: 3665 wps\n",
      "Itr 1242 of 1549, perplexity: 60.352 speed: 3674 wps\n",
      "Itr 1396 of 1549, perplexity: 58.874 speed: 3668 wps\n",
      "Epoch 8 : Train Perplexity: 57.892\n",
      "Epoch 8 : Valid Perplexity: 121.846\n",
      "Epoch 9 : Learning rate: 0.062\n",
      "Itr 10 of 1549, perplexity: 70.902 speed: 3882 wps\n",
      "Itr 164 of 1549, perplexity: 67.365 speed: 3609 wps\n",
      "Itr 318 of 1549, perplexity: 65.771 speed: 3697 wps\n",
      "Itr 472 of 1549, perplexity: 63.378 speed: 3731 wps\n",
      "Itr 626 of 1549, perplexity: 60.545 speed: 3736 wps\n",
      "Itr 780 of 1549, perplexity: 59.879 speed: 3733 wps\n",
      "Itr 934 of 1549, perplexity: 58.932 speed: 3731 wps\n",
      "Itr 1088 of 1549, perplexity: 57.922 speed: 3731 wps\n",
      "Itr 1242 of 1549, perplexity: 57.155 speed: 3710 wps\n",
      "Itr 1396 of 1549, perplexity: 55.720 speed: 3653 wps\n",
      "Epoch 9 : Train Perplexity: 54.759\n",
      "Epoch 9 : Valid Perplexity: 121.868\n",
      "Epoch 10 : Learning rate: 0.031\n",
      "Itr 10 of 1549, perplexity: 68.765 speed: 2633 wps\n",
      "Itr 164 of 1549, perplexity: 65.327 speed: 2500 wps\n",
      "Itr 318 of 1549, perplexity: 63.818 speed: 2541 wps\n",
      "Itr 472 of 1549, perplexity: 61.522 speed: 2578 wps\n",
      "Itr 626 of 1549, perplexity: 58.781 speed: 2598 wps\n",
      "Itr 780 of 1549, perplexity: 58.135 speed: 2616 wps\n",
      "Itr 934 of 1549, perplexity: 57.215 speed: 2625 wps\n",
      "Itr 1088 of 1549, perplexity: 56.222 speed: 2630 wps\n",
      "Itr 1242 of 1549, perplexity: 55.453 speed: 2632 wps\n",
      "Itr 1396 of 1549, perplexity: 54.040 speed: 2639 wps\n",
      "Epoch 10 : Train Perplexity: 53.092\n",
      "Epoch 10 : Valid Perplexity: 122.075\n",
      "Epoch 11 : Learning rate: 0.016\n",
      "Itr 10 of 1549, perplexity: 67.668 speed: 2734 wps\n",
      "Itr 164 of 1549, perplexity: 64.212 speed: 2733 wps\n",
      "Itr 318 of 1549, perplexity: 62.753 speed: 2875 wps\n",
      "Itr 472 of 1549, perplexity: 60.513 speed: 3039 wps\n",
      "Itr 626 of 1549, perplexity: 57.815 speed: 3132 wps\n",
      "Itr 780 of 1549, perplexity: 57.178 speed: 3193 wps\n",
      "Itr 934 of 1549, perplexity: 56.276 speed: 3236 wps\n",
      "Itr 1088 of 1549, perplexity: 55.296 speed: 3268 wps\n",
      "Itr 1242 of 1549, perplexity: 54.526 speed: 3291 wps\n",
      "Itr 1396 of 1549, perplexity: 53.125 speed: 3309 wps\n",
      "Epoch 11 : Train Perplexity: 52.185\n",
      "Epoch 11 : Valid Perplexity: 122.152\n",
      "Epoch 12 : Learning rate: 0.008\n",
      "Itr 10 of 1549, perplexity: 67.047 speed: 3448 wps\n",
      "Itr 164 of 1549, perplexity: 63.604 speed: 3583 wps\n",
      "Itr 318 of 1549, perplexity: 62.181 speed: 3687 wps\n",
      "Itr 472 of 1549, perplexity: 59.974 speed: 3617 wps\n",
      "Itr 626 of 1549, perplexity: 57.296 speed: 3634 wps\n",
      "Itr 780 of 1549, perplexity: 56.659 speed: 3662 wps\n"
     ]
    },
    {
     "name": "stdout",
     "output_type": "stream",
     "text": [
      "Itr 934 of 1549, perplexity: 55.763 speed: 3677 wps\n",
      "Itr 1088 of 1549, perplexity: 54.793 speed: 3698 wps\n",
      "Itr 1242 of 1549, perplexity: 54.025 speed: 3684 wps\n",
      "Itr 1396 of 1549, perplexity: 52.631 speed: 3692 wps\n",
      "Epoch 12 : Train Perplexity: 51.694\n",
      "Epoch 12 : Valid Perplexity: 121.983\n",
      "Epoch 13 : Learning rate: 0.004\n",
      "Itr 10 of 1549, perplexity: 66.652 speed: 3134 wps\n",
      "Itr 164 of 1549, perplexity: 63.259 speed: 3471 wps\n",
      "Itr 318 of 1549, perplexity: 61.864 speed: 3564 wps\n",
      "Itr 472 of 1549, perplexity: 59.680 speed: 3645 wps\n",
      "Itr 626 of 1549, perplexity: 57.012 speed: 3709 wps\n",
      "Itr 780 of 1549, perplexity: 56.378 speed: 3699 wps\n",
      "Itr 934 of 1549, perplexity: 55.484 speed: 3718 wps\n",
      "Itr 1088 of 1549, perplexity: 54.521 speed: 3748 wps\n",
      "Itr 1242 of 1549, perplexity: 53.754 speed: 3777 wps\n",
      "Itr 1396 of 1549, perplexity: 52.364 speed: 3801 wps\n",
      "Epoch 13 : Train Perplexity: 51.429\n",
      "Epoch 13 : Valid Perplexity: 121.734\n",
      "Epoch 14 : Learning rate: 0.002\n",
      "Itr 10 of 1549, perplexity: 66.412 speed: 3912 wps\n",
      "Itr 164 of 1549, perplexity: 63.053 speed: 3996 wps\n",
      "Itr 318 of 1549, perplexity: 61.678 speed: 3964 wps\n",
      "Itr 472 of 1549, perplexity: 59.514 speed: 3982 wps\n",
      "Itr 626 of 1549, perplexity: 56.854 speed: 3988 wps\n",
      "Itr 780 of 1549, perplexity: 56.225 speed: 3987 wps\n",
      "Itr 934 of 1549, perplexity: 55.334 speed: 3990 wps\n",
      "Itr 1088 of 1549, perplexity: 54.373 speed: 3992 wps\n",
      "Itr 1242 of 1549, perplexity: 53.607 speed: 3995 wps\n",
      "Itr 1396 of 1549, perplexity: 52.220 speed: 3993 wps\n",
      "Epoch 14 : Train Perplexity: 51.287\n",
      "Epoch 14 : Valid Perplexity: 121.548\n",
      "Epoch 15 : Learning rate: 0.001\n",
      "Itr 10 of 1549, perplexity: 66.275 speed: 3894 wps\n",
      "Itr 164 of 1549, perplexity: 62.933 speed: 4012 wps\n",
      "Itr 318 of 1549, perplexity: 61.568 speed: 3978 wps\n",
      "Itr 472 of 1549, perplexity: 59.418 speed: 3985 wps\n",
      "Itr 626 of 1549, perplexity: 56.765 speed: 3995 wps\n",
      "Itr 780 of 1549, perplexity: 56.140 speed: 3993 wps\n",
      "Itr 934 of 1549, perplexity: 55.252 speed: 3986 wps\n",
      "Itr 1088 of 1549, perplexity: 54.293 speed: 3979 wps\n",
      "Itr 1242 of 1549, perplexity: 53.528 speed: 3984 wps\n",
      "Itr 1396 of 1549, perplexity: 52.143 speed: 3985 wps\n",
      "Epoch 15 : Train Perplexity: 51.212\n",
      "Epoch 15 : Valid Perplexity: 121.445\n",
      "Test Perplexity: 116.936\n"
     ]
    }
   ],
   "source": [
    "# Instantiates the PTBModel class\n",
    "m=PTBModel.instance()   \n",
    "K = tf.keras.backend \n",
    "for i in range(max_epoch):\n",
    "    # Define the decay for this epoch\n",
    "    lr_decay = decay ** max(i - max_epoch_decay_lr, 0.0)\n",
    "    dcr = learning_rate * lr_decay\n",
    "    m._lr = dcr\n",
    "    K.set_value(m._model.optimizer.learning_rate,m._lr)\n",
    "    print(\"Epoch %d : Learning rate: %.3f\" % (i + 1, m._model.optimizer.learning_rate))\n",
    "    # Run the loop for this epoch in the training mode\n",
    "    train_perplexity = run_one_epoch(m, train_data,is_training=True,verbose=True)\n",
    "    print(\"Epoch %d : Train Perplexity: %.3f\" % (i + 1, train_perplexity))\n",
    "        \n",
    "    # Run the loop for this epoch in the validation mode\n",
    "    valid_perplexity = run_one_epoch(m, valid_data,is_training=False,verbose=False)\n",
    "    print(\"Epoch %d : Valid Perplexity: %.3f\" % (i + 1, valid_perplexity))\n",
    "    \n",
    "# Run the loop in the testing mode to see how effective was our training\n",
    "test_perplexity = run_one_epoch(m, test_data,is_training=False,verbose=False)\n",
    "print(\"Test Perplexity: %.3f\" % test_perplexity)\n",
    "\n"
   ]
  },
  {
   "cell_type": "markdown",
   "metadata": {
    "button": false,
    "new_sheet": false,
    "run_control": {
     "read_only": false
    }
   },
   "source": [
    "As you can see, the model's perplexity rating drops very quickly after a few iterations. As was elaborated before, <b>lower Perplexity means that the model is more certain about its prediction</b>. As such, we can be sure that this model is performing well!\n"
   ]
  },
  {
   "cell_type": "markdown",
   "metadata": {
    "button": false,
    "new_sheet": false,
    "run_control": {
     "read_only": false
    }
   },
   "source": [
    "***\n"
   ]
  },
  {
   "cell_type": "markdown",
   "metadata": {
    "button": false,
    "new_sheet": false,
    "run_control": {
     "read_only": false
    }
   },
   "source": [
    "This is the end of the <b>Applying Recurrent Neural Networks to Text Processing</b> notebook. Hopefully you now have a better understanding of Recurrent Neural Networks and how to implement one utilizing TensorFlow. Thank you for reading this notebook, and good luck on your studies.\n"
   ]
  },
  {
   "cell_type": "markdown",
   "metadata": {
    "button": false,
    "new_sheet": false,
    "run_control": {
     "read_only": false
    }
   },
   "source": [
    "## Want to learn more?\n",
    "\n",
    "Also, you can use **Watson Studio** to run these notebooks faster with bigger datasets.**Watson Studio** is IBM’s leading cloud solution for data scientists, built by data scientists. With Jupyter notebooks, RStudio, Apache Spark and popular libraries pre-packaged in the cloud, **Watson Studio** enables data scientists to collaborate on their projects without having to install anything. Join the fast-growing community of **Watson Studio** users today with a free account at [Watson Studio](https://cocl.us/ML0120EN_DSX).This is the end of this lesson. Thank you for reading this notebook, and good luck on your studies.\n"
   ]
  },
  {
   "cell_type": "markdown",
   "metadata": {
    "button": false,
    "new_sheet": false,
    "run_control": {
     "read_only": false
    }
   },
   "source": [
    "### Thanks for completing this lesson!\n",
    "\n",
    "Notebook created by <a href=\"https://br.linkedin.com/in/walter-gomes-de-amorim-junior-624726121?utm_medium=Exinfluencer&utm_source=Exinfluencer&utm_content=000026UJ&utm_term=10006555&utm_id=NA-SkillsNetwork-Channel-SkillsNetworkCoursesIBMDeveloperSkillsNetworkDL0120ENSkillsNetwork20629446-2022-01-01\">Walter Gomes de Amorim Junior</a>, <a href = \"https://linkedin.com/in/saeedaghabozorgi?utm_medium=Exinfluencer&utm_source=Exinfluencer&utm_content=000026UJ&utm_term=10006555&utm_id=NA-SkillsNetwork-Channel-SkillsNetworkCoursesIBMDeveloperSkillsNetworkDL0120ENSkillsNetwork20629446-2022-01-01\"> Saeed Aghabozorgi </a></h4>\n",
    "\n",
    "Updated to TF 2.X by  <a href=\"https://www.linkedin.com/in/samaya-madhavan?utm_medium=Exinfluencer&utm_source=Exinfluencer&utm_content=000026UJ&utm_term=10006555&utm_id=NA-SkillsNetwork-Channel-SkillsNetworkCoursesIBMDeveloperSkillsNetworkDL0120ENSkillsNetwork20629446-2022-01-01\"> Samaya Madhavan </a>\n"
   ]
  },
  {
   "cell_type": "markdown",
   "metadata": {
    "button": false,
    "new_sheet": false,
    "run_control": {
     "read_only": false
    }
   },
   "source": [
    "<hr>\n",
    "\n",
    "Copyright © 2018 [Cognitive Class](https://cocl.us/DX0108EN_CC). This notebook and its source code are released under the terms of the [MIT License](https://bigdatauniversity.com/mit-license/?utm_medium=Exinfluencer&utm_source=Exinfluencer&utm_content=000026UJ&utm_term=10006555&utm_id=NA-SkillsNetwork-Channel-SkillsNetworkCoursesIBMDeveloperSkillsNetworkDL0120ENSkillsNetwork20629446-2022-01-01).\n"
   ]
  },
  {
   "cell_type": "code",
   "execution_count": null,
   "metadata": {},
   "outputs": [],
   "source": []
  }
 ],
 "metadata": {
  "anaconda-cloud": {},
  "kernelspec": {
   "display_name": "Python4TF",
   "language": "python",
   "name": "python4tf"
  },
  "language_info": {
   "codemirror_mode": {
    "name": "ipython",
    "version": 3
   },
   "file_extension": ".py",
   "mimetype": "text/x-python",
   "name": "python",
   "nbconvert_exporter": "python",
   "pygments_lexer": "ipython3",
   "version": "3.8.10"
  },
  "widgets": {
   "state": {},
   "version": "1.1.2"
  }
 },
 "nbformat": 4,
 "nbformat_minor": 4
}
